{
  "cells": [
    {
      "cell_type": "markdown",
      "metadata": {
        "id": "view-in-github",
        "colab_type": "text"
      },
      "source": [
        "<a href=\"https://colab.research.google.com/github/PoojaDasIndia/Exploratory-Data-Analysis-EDA-/blob/main/Netflix_Movies_and_TV_Shows.ipynb\" target=\"_parent\"><img src=\"https://colab.research.google.com/assets/colab-badge.svg\" alt=\"Open In Colab\"/></a>"
      ]
    },
    {
      "cell_type": "code",
      "execution_count": 2,
      "metadata": {
        "id": "y0JZlHV7hCEv"
      },
      "outputs": [],
      "source": [
        "# Jovian Commit Essentials\n",
        "# Please retain and execute this cell without modifying the contents for `jovian.commit` to work\n",
        "!pip install jovian --upgrade -q\n",
        "import jovian\n",
        "jovian.set_project('netflix-movies-and-tv-shows')\n",
        "jovian.set_colab_id('1yF40B2iYItX4BtCQaH_yRcPdPa5DW9MR')"
      ]
    },
    {
      "cell_type": "markdown",
      "metadata": {
        "id": "9KN-TVjkhCE1"
      },
      "source": [
        "<center>\n",
        "    <img src ='https://cdn-images-1.medium.com/max/1200/1*ty4NvNrGg4ReETxqU2N3Og.png 'width = \"250\" />\n",
        "</center>\n",
        "<p style=\"font-size:50px; font-style:bold;text-decoration: underline;color:#E50914;text-align: center \">\n",
        "<center> <h1> Netflix Movies and TV Show </h1></center>\n",
        "</p>\n",
        " <br>\n",
        " <br>\n",
        "                \n",
        " \n",
        "<img src = \"https://images.ctfassets.net/4cd45et68cgf/1nVLM2JlqthmthDATzfleN/cd4558ce78dbb0511e0e6e34904ac6b1/Netflix_2022_Movie_Preview.jpg?\" width = \"900\"  title = \"Cover\" />"
      ]
    },
    {
      "cell_type": "markdown",
      "metadata": {
        "id": "Kpj1m-51hCE5"
      },
      "source": [
        " "
      ]
    },
    {
      "cell_type": "markdown",
      "metadata": {
        "id": "QmanpLl8hCE6"
      },
      "source": [
        "<span style=\"color:#E50914;font-size:25px; font-style:bold;\"><u><b>About EDA of Netflix Movies and TV Shows </b></u></span>\n",
        "<p style=\"font-size:20px; font-style:bold;\">\n",
        "This project is to perform Exploratory Data Analyis on the <span style=\"color:#E50914;\"><b> Netflix Movies and TV Shows</b> </span> dataset. Here we use various Python libraries to perform Data Cleaning and Visualization. The Dataset which is used in this project is from <a href = 'https://www.kaggle.com/'>Kaggle</a>, authored by the user <a href = 'https://www.kaggle.com/victorsoeiro'><span style=\"color:teal;\"><b><u>VICTOR SOEIRO </u></b></span></a>.\n",
        "\n",
        "</p>"
      ]
    },
    {
      "cell_type": "code",
      "execution_count": 3,
      "metadata": {
        "colab": {
          "base_uri": "https://localhost:8080/",
          "height": 472
        },
        "id": "Vi4cGzF4hCE7",
        "outputId": "4eac4c7e-1d3d-4a9b-c3ed-9211841e4fec"
      },
      "outputs": [
        {
          "output_type": "execute_result",
          "data": {
            "text/plain": [
              "<IPython.lib.display.YouTubeVideo at 0x7fe20939dc90>"
            ],
            "text/html": [
              "\n",
              "        <iframe\n",
              "            width=\"950\"\n",
              "            height=\"450\"\n",
              "            src=\"https://www.youtube.com/embed/GV3HUDMQ-F8\"\n",
              "            frameborder=\"0\"\n",
              "            allowfullscreen\n",
              "        ></iframe>\n",
              "        "
            ],
            "image/jpeg": "[encoded data removed]"
          },
          "metadata": {},
          "execution_count": 3
        }
      ],
      "source": [
        "from IPython.display import YouTubeVideo\n",
        "YouTubeVideo('GV3HUDMQ-F8',width=950,height=450)"
      ]
    },
    {
      "cell_type": "markdown",
      "metadata": {
        "id": "crhzgdqghCE8"
      },
      "source": [
        "<span style=\"color:#E50914;font-size:25px; font-style:bold;\"><u><b>About Dataset</b></u></span>\n",
        "\n",
        "<center>\n",
        "    <img src ='https://cdn-images-1.medium.com/max/1200/1*ty4NvNrGg4ReETxqU2N3Og.png 'width = \"170\" />\n",
        "</center>\n",
        "\n",
        "<center><span style=\"color:#E50914;font-size:30px\"><b> Netflix Movies and TV Shows</b> </span></center>\n",
        "   \n",
        "**This data set was created to list all shows available on Netflix streaming, and analyze the data to find interesting facts. This data was acquired in May 2022 containing data available in the United States.**<br>\n",
        "<br>\n",
        "<br>\n",
        "\n",
        "## Content\n",
        "This dataset has two files containing the titles `(titles.csv)` and the cast `(credits.csv)` for the title.\n",
        "\n",
        "This dataset contains `+5k` unique titles on `Netflix` with `15 columns` containing their information, including:<br><br>\n",
        "\n",
        ">* ID: The title ID on JustWatch.\n",
        ">* title: The name of the title.\n",
        ">* show type: TV show or movie.\n",
        ">* description: A brief description.\n",
        ">* release year: The release year.\n",
        ">* age certification: The age certification.\n",
        "\n",
        "            TV-MA mean TV Mature Audience Only\n",
        "            PG mean Parental guidance suggested\n",
        "            G is for General Audiences, anyone can watch.\n",
        "            TV 14 parents may find unsuitable for children under 14 years of age\n",
        "            R: Restricted, Children Under 17 Require Accompanying Parent or Adult Guardian\n",
        "            PG-13 rated film is unsuitable for preteens under age 13\n",
        "            TV-PG - parental guidance is recommended; these programs may be unsuitable for younger children.\n",
        "            TV-Y rating means that programming is appropriate for children of all ages\n",
        "            TV-G - programs suitable for all ages\n",
        "            TV-Y7 indicates that programming is designed for chil- dren ages 7 and older\n",
        "            NC-17 (No One Seventeen and Under Admitted) is the highest rating in Motion Picture Association film rating system assigned to films with content the MPA finds to be only suitable for ages 18 and older.\n",
        "\n",
        ">* runtime: The length of the episode (SHOW) or movie.\n",
        ">* genres: A list of genres.\n",
        ">* production countries: A list of countries that produced the title.\n",
        ">* seasons: Number of seasons if it's a SHOW.\n",
        ">* IMDB ID: The title ID on IMDB.\n",
        ">* IMDB Score: Score on IMDB.\n",
        ">* IMDB Votes: Votes on IMDB.\n",
        ">* TMDB Popularity: Popularity on TMDB.\n",
        ">* TMDB Score: Score on TMDB.\n",
        "\n",
        "And over `+77k` credits of actors and directors on `Netflix titles with 5 columns` containing their information, including:<br><br>\n",
        "\n",
        ">* person ID: The person ID on JustWatch.\n",
        ">* ID: The title ID on JustWatch.\n",
        ">* name: The actor or director's name.\n",
        ">* character name: The character name.\n",
        ">* role: ACTOR or DIRECTOR.\n",
        "    \n",
        "    \n"
      ]
    },
    {
      "cell_type": "markdown",
      "metadata": {
        "id": "0VRun3XphCE_"
      },
      "source": [
        "<span style=\"color:#E50914;font-size:25px; font-style:bold;\"><u><b>Library Used</b></u></span>\n",
        "\n",
        "The Libraries used in the Project are:\n",
        "* Matplotlib (for visualization of data) <a href='https://matplotlib.org/'> Explore here </a>\n",
        "* Seaborn (used alongside Matplotlib for visualization) <a href='https://seaborn.pydata.org/'> Explore here </a>\n",
        "* Numpy (used for operations on numeric data) <a href='https://numpy.org/'> Explore here </a>\n",
        "* Pandas (used for utilising DataFrames and organising the data) <a href='https://pandas.pydata.org/'> Explore here </a>\n",
        "* Plotly(used for visualization of data in 3d and attractive )<a href='https://plotly.com/'> Explore here </a>\n",
        "* Jovian (used for downloading dataset and to run, save and upload the Notebook) <a href='https://jovian.ml'> Explore here </a>\n",
        "* Os (used for Operating System)\n",
        "\n",
        "To install all required libraries, run the following Command:\n",
        "\n",
        "`pip install matplotlib seaborn numpy pandas jovian --upgrade`"
      ]
    },
    {
      "cell_type": "markdown",
      "metadata": {
        "id": "RrZuKnZHhCFA"
      },
      "source": [
        "\n",
        "<span style=\"color:#E50914;font-size:25px; font-style:bold;\"><u><b>Downloading the Dataset</b></u></span>\n",
        "\n",
        "The dataset is unpacked and opened using the `opendatasets` package from the `jovian` library."
      ]
    },
    {
      "cell_type": "code",
      "execution_count": 4,
      "metadata": {
        "colab": {
          "base_uri": "https://localhost:8080/"
        },
        "id": "nigIgJ75hCFB",
        "outputId": "86f9550d-64c0-48ff-bc51-0134908947f7"
      },
      "outputs": [
        {
          "output_type": "stream",
          "name": "stdout",
          "text": [
            "\u001b[K     |████████████████████████████████| 15.2 MB 68 kB/s \n",
            "\u001b[?25h"
          ]
        }
      ],
      "source": [
        "!pip install jovian opendatasets --upgrade --quiet\n",
        "!pip install jovian plotly --upgrade --quiet\n",
        "!pip install jovian cufflinks --upgrade --quiet\n"
      ]
    },
    {
      "cell_type": "markdown",
      "metadata": {
        "id": "WJEQQSqhhCFC"
      },
      "source": [
        "Let's begin by downloading the data, and listing the files within the dataset."
      ]
    },
    {
      "cell_type": "code",
      "execution_count": 34,
      "metadata": {
        "colab": {
          "base_uri": "https://localhost:8080/"
        },
        "id": "nbFC8hvVhCFD",
        "outputId": "12336bfa-3377-4de7-9555-786bf44a068f"
      },
      "outputs": [
        {
          "output_type": "stream",
          "name": "stdout",
          "text": [
            "Import Sucessfully\n"
          ]
        }
      ],
      "source": [
        "# All Libraries I am using \n",
        "import opendatasets as od\n",
        "import os\n",
        "import jovian\n",
        "import pandas as pd\n",
        "import numpy as np\n",
        "import matplotlib.pyplot as plt\n",
        "import matplotlib\n",
        "import seaborn as sns\n",
        "import plotly as py\n",
        "from plotly.offline import iplot\n",
        "import cufflinks as cf\n",
        "%matplotlib inline\n",
        "sns.set_style(\"darkgrid\")\n",
        "matplotlib.rcParams['font.size']=14\n",
        "matplotlib.rcParams['figure.figsize']=(9,5)\n",
        "matplotlib.rcParams['figure.facecolor']='Teal'\n",
        "import warnings\n",
        "warnings.filterwarnings('ignore')\n",
        "print(\"Import Sucessfully\")"
      ]
    },
    {
      "cell_type": "code",
      "execution_count": 6,
      "metadata": {
        "colab": {
          "base_uri": "https://localhost:8080/"
        },
        "id": "tEcQonpfhCFD",
        "outputId": "68859029-630d-46de-9467-a186679ceea4"
      },
      "outputs": [
        {
          "output_type": "stream",
          "name": "stdout",
          "text": [
            "Please provide your Kaggle credentials to download this dataset. Learn more: http://bit.ly/kaggle-creds\n",
            "Your Kaggle username: poojadasdodo\n",
            "Your Kaggle Key: ··········\n",
            "Downloading netflix-tv-shows-and-movies.zip to ./netflix-tv-shows-and-movies\n"
          ]
        },
        {
          "output_type": "stream",
          "name": "stderr",
          "text": [
            "100%|██████████| 2.24M/2.24M [00:00<00:00, 88.0MB/s]"
          ]
        },
        {
          "output_type": "stream",
          "name": "stdout",
          "text": [
            "\n",
            "Dataset has been downloaded......\n"
          ]
        },
        {
          "output_type": "stream",
          "name": "stderr",
          "text": [
            "\n"
          ]
        }
      ],
      "source": [
        "# Downloading Dataset from Kaggle for that I am using Opendatasets library\n",
        "\n",
        "# dataset_url is our  Dataset URL link\n",
        "dataset_url = 'https://www.kaggle.com/datasets/victorsoeiro/netflix-tv-shows-and-movies' \n",
        "\n",
        "# Download dataset_url with the help of  Opendatasets's download() function\n",
        "od.download(dataset_url)\n",
        "\n",
        "print(\"Dataset has been downloaded......\")\n"
      ]
    },
    {
      "cell_type": "markdown",
      "metadata": {
        "id": "DuxPAIQUhCFE"
      },
      "source": [
        "The dataset has been downloaded and extracted."
      ]
    },
    {
      "cell_type": "code",
      "execution_count": 7,
      "metadata": {
        "colab": {
          "base_uri": "https://localhost:8080/"
        },
        "id": "Z8VGmVXZhCFF",
        "outputId": "548e7d33-1d59-4053-c719-2eacf1b434f7"
      },
      "outputs": [
        {
          "output_type": "stream",
          "name": "stdout",
          "text": [
            "Dataset has been Extracted sucessfully......\n"
          ]
        }
      ],
      "source": [
        "#Extracted File inn data_dir\n",
        "data_dir = './netflix-tv-shows-and-movies'\n",
        "\n",
        "print(\"Dataset has been Extracted sucessfully......\")"
      ]
    },
    {
      "cell_type": "markdown",
      "metadata": {
        "id": "D3A8naHChCFF"
      },
      "source": [
        "# <span style=\"color:#E50914;font-size:25px; font-style:bold;\"><u><b>Data Preparation and Cleaning</b></u></span> \n",
        "\n",
        "**The raw data is now obtained. First we need to clean and simplify the data in order to prepare it for Analysis.** \n",
        "\n",
        "1. Load the file using Pandas\n",
        "2. Look at some information about the data & the columns\n",
        "3. Fix any missing or incorrect values\n"
      ]
    },
    {
      "cell_type": "code",
      "execution_count": 8,
      "metadata": {
        "scrolled": true,
        "colab": {
          "base_uri": "https://localhost:8080/"
        },
        "id": "wRwAfdZ3hCFG",
        "outputId": "9127f626-d028-4a66-abd2-e9efbae33086"
      },
      "outputs": [
        {
          "output_type": "execute_result",
          "data": {
            "text/plain": [
              "['titles.csv', 'credits.csv']"
            ]
          },
          "metadata": {},
          "execution_count": 8
        }
      ],
      "source": [
        "# checking the list of files  in directory (netflix-tv-shows-and-movies) with help of os.listdir() function\n",
        "os.listdir(data_dir)"
      ]
    },
    {
      "cell_type": "markdown",
      "metadata": {
        "id": "Cjyr5p8HhCFG"
      },
      "source": [
        "## As we seen here there are two files in netflix-tv-shows-and-movies \n",
        "\n",
        "1. credits.csv\n",
        "2. titles.csv\n",
        "\n",
        "**lets check both .csv files which is more informatic,with the help of Pandas library**"
      ]
    },
    {
      "cell_type": "markdown",
      "metadata": {
        "id": "mUkGdYUVhCFH"
      },
      "source": [
        "<img src = \"https://www.protocol.com/media-library/netflix-queried-people-in-a-survey-about-a-wide-range-of-features-and-content-including-podcasts-user-generated-playlists-how-tos-and-more.jpg?id=24541797&width=700&quality=85&coordinates=0%2C314%2C0%2C315&height=150\" title = \"Cover\" />\n",
        "\n",
        "The `.csv` file which we downloaded from Kaggle is now converted to a `Pandas DataFrame` and cleaned to extract only the columns which will be needed for analysis. \n",
        "<br>Holes and anomalies in the data (which were found in due course of Analysis) have also been rectified here itself to avoid loopholes later on."
      ]
    },
    {
      "cell_type": "code",
      "execution_count": 9,
      "metadata": {
        "colab": {
          "base_uri": "https://localhost:8080/",
          "height": 206
        },
        "id": "5Vfi0Q7jhCFI",
        "outputId": "d536da69-803c-420f-a346-f6962e09cd2b"
      },
      "outputs": [
        {
          "output_type": "execute_result",
          "data": {
            "text/plain": [
              "   person_id       id             name                character   role\n",
              "0       3748  tm84618   Robert De Niro            Travis Bickle  ACTOR\n",
              "1      14658  tm84618     Jodie Foster            Iris Steensma  ACTOR\n",
              "2       7064  tm84618    Albert Brooks                      Tom  ACTOR\n",
              "3       3739  tm84618    Harvey Keitel  Matthew 'Sport' Higgins  ACTOR\n",
              "4      48933  tm84618  Cybill Shepherd                    Betsy  ACTOR"
            ],
            "text/html": [
              "\n",
              "  <div id=\"df-61994b0c-6c83-4e15-bace-b277dc70b831\">\n",
              "    <div class=\"colab-df-container\">\n",
              "      <div>\n",
              "<style scoped>\n",
              "    .dataframe tbody tr th:only-of-type {\n",
              "        vertical-align: middle;\n",
              "    }\n",
              "\n",
              "    .dataframe tbody tr th {\n",
              "        vertical-align: top;\n",
              "    }\n",
              "\n",
              "    .dataframe thead th {\n",
              "        text-align: right;\n",
              "    }\n",
              "</style>\n",
              "<table border=\"1\" class=\"dataframe\">\n",
              "  <thead>\n",
              "    <tr style=\"text-align: right;\">\n",
              "      <th></th>\n",
              "      <th>person_id</th>\n",
              "      <th>id</th>\n",
              "      <th>name</th>\n",
              "      <th>character</th>\n",
              "      <th>role</th>\n",
              "    </tr>\n",
              "  </thead>\n",
              "  <tbody>\n",
              "    <tr>\n",
              "      <th>0</th>\n",
              "      <td>3748</td>\n",
              "      <td>tm84618</td>\n",
              "      <td>Robert De Niro</td>\n",
              "      <td>Travis Bickle</td>\n",
              "      <td>ACTOR</td>\n",
              "    </tr>\n",
              "    <tr>\n",
              "      <th>1</th>\n",
              "      <td>14658</td>\n",
              "      <td>tm84618</td>\n",
              "      <td>Jodie Foster</td>\n",
              "      <td>Iris Steensma</td>\n",
              "      <td>ACTOR</td>\n",
              "    </tr>\n",
              "    <tr>\n",
              "      <th>2</th>\n",
              "      <td>7064</td>\n",
              "      <td>tm84618</td>\n",
              "      <td>Albert Brooks</td>\n",
              "      <td>Tom</td>\n",
              "      <td>ACTOR</td>\n",
              "    </tr>\n",
              "    <tr>\n",
              "      <th>3</th>\n",
              "      <td>3739</td>\n",
              "      <td>tm84618</td>\n",
              "      <td>Harvey Keitel</td>\n",
              "      <td>Matthew 'Sport' Higgins</td>\n",
              "      <td>ACTOR</td>\n",
              "    </tr>\n",
              "    <tr>\n",
              "      <th>4</th>\n",
              "      <td>48933</td>\n",
              "      <td>tm84618</td>\n",
              "      <td>Cybill Shepherd</td>\n",
              "      <td>Betsy</td>\n",
              "      <td>ACTOR</td>\n",
              "    </tr>\n",
              "  </tbody>\n",
              "</table>\n",
              "</div>\n",
              "      <button class=\"colab-df-convert\" onclick=\"convertToInteractive('df-61994b0c-6c83-4e15-bace-b277dc70b831')\"\n",
              "              title=\"Convert this dataframe to an interactive table.\"\n",
              "              style=\"display:none;\">\n",
              "        \n",
              "  <svg xmlns=\"http://www.w3.org/2000/svg\" height=\"24px\"viewBox=\"0 0 24 24\"\n",
              "       width=\"24px\">\n",
              "    <path d=\"M0 0h24v24H0V0z\" fill=\"none\"/>\n",
              "    <path d=\"M18.56 5.44l.94 2.06.94-2.06 2.06-.94-2.06-.94-.94-2.06-.94 2.06-2.06.94zm-11 1L8.5 8.5l.94-2.06 2.06-.94-2.06-.94L8.5 2.5l-.94 2.06-2.06.94zm10 10l.94 2.06.94-2.06 2.06-.94-2.06-.94-.94-2.06-.94 2.06-2.06.94z\"/><path d=\"M17.41 7.96l-1.37-1.37c-.4-.4-.92-.59-1.43-.59-.52 0-1.04.2-1.43.59L10.3 9.45l-7.72 7.72c-.78.78-.78 2.05 0 2.83L4 21.41c.39.39.9.59 1.41.59.51 0 1.02-.2 1.41-.59l7.78-7.78 2.81-2.81c.8-.78.8-2.07 0-2.86zM5.41 20L4 18.59l7.72-7.72 1.47 1.35L5.41 20z\"/>\n",
              "  </svg>\n",
              "      </button>\n",
              "      \n",
              "  <style>\n",
              "    .colab-df-container {\n",
              "      display:flex;\n",
              "      flex-wrap:wrap;\n",
              "      gap: 12px;\n",
              "    }\n",
              "\n",
              "    .colab-df-convert {\n",
              "      background-color: #E8F0FE;\n",
              "      border: none;\n",
              "      border-radius: 50%;\n",
              "      cursor: pointer;\n",
              "      display: none;\n",
              "      fill: #1967D2;\n",
              "      height: 32px;\n",
              "      padding: 0 0 0 0;\n",
              "      width: 32px;\n",
              "    }\n",
              "\n",
              "    .colab-df-convert:hover {\n",
              "      background-color: #E2EBFA;\n",
              "      box-shadow: 0px 1px 2px rgba(60, 64, 67, 0.3), 0px 1px 3px 1px rgba(60, 64, 67, 0.15);\n",
              "      fill: #174EA6;\n",
              "    }\n",
              "\n",
              "    [theme=dark] .colab-df-convert {\n",
              "      background-color: #3B4455;\n",
              "      fill: #D2E3FC;\n",
              "    }\n",
              "\n",
              "    [theme=dark] .colab-df-convert:hover {\n",
              "      background-color: #434B5C;\n",
              "      box-shadow: 0px 1px 3px 1px rgba(0, 0, 0, 0.15);\n",
              "      filter: drop-shadow(0px 1px 2px rgba(0, 0, 0, 0.3));\n",
              "      fill: #FFFFFF;\n",
              "    }\n",
              "  </style>\n",
              "\n",
              "      <script>\n",
              "        const buttonEl =\n",
              "          document.querySelector('#df-61994b0c-6c83-4e15-bace-b277dc70b831 button.colab-df-convert');\n",
              "        buttonEl.style.display =\n",
              "          google.colab.kernel.accessAllowed ? 'block' : 'none';\n",
              "\n",
              "        async function convertToInteractive(key) {\n",
              "          const element = document.querySelector('#df-61994b0c-6c83-4e15-bace-b277dc70b831');\n",
              "          const dataTable =\n",
              "            await google.colab.kernel.invokeFunction('convertToInteractive',\n",
              "                                                     [key], {});\n",
              "          if (!dataTable) return;\n",
              "\n",
              "          const docLinkHtml = 'Like what you see? Visit the ' +\n",
              "            '<a target=\"_blank\" href=https://colab.research.google.com/notebooks/data_table.ipynb>data table notebook</a>'\n",
              "            + ' to learn more about interactive tables.';\n",
              "          element.innerHTML = '';\n",
              "          dataTable['output_type'] = 'display_data';\n",
              "          await google.colab.output.renderOutput(dataTable, element);\n",
              "          const docLink = document.createElement('div');\n",
              "          docLink.innerHTML = docLinkHtml;\n",
              "          element.appendChild(docLink);\n",
              "        }\n",
              "      </script>\n",
              "    </div>\n",
              "  </div>\n",
              "  "
            ]
          },
          "metadata": {},
          "execution_count": 9
        }
      ],
      "source": [
        "# first read credits.csv file as save in varible 'credits'\n",
        "\n",
        "credits = pd.read_csv('./netflix-tv-shows-and-movies/credits.csv')\n",
        "\n",
        "# let check head()\n",
        "\n",
        "credits.head()"
      ]
    },
    {
      "cell_type": "markdown",
      "metadata": {
        "id": "w7puoCfUhCFI"
      },
      "source": [
        "**In Credits there are only actors and directors details , So I use it with title  by merge it  base on id.**\n",
        "\n",
        "let check second .csv files "
      ]
    },
    {
      "cell_type": "code",
      "execution_count": 11,
      "metadata": {
        "colab": {
          "base_uri": "https://localhost:8080/",
          "height": 600
        },
        "id": "FI499wDfhCFJ",
        "outputId": "ab6106c3-32e1-4f5f-b01f-6fa08045fa9a"
      },
      "outputs": [
        {
          "output_type": "execute_result",
          "data": {
            "text/plain": [
              "         id                                title   type  \\\n",
              "0  ts300399  Five Came Back: The Reference Films   SHOW   \n",
              "1   tm84618                          Taxi Driver  MOVIE   \n",
              "2  tm127384      Monty Python and the Holy Grail  MOVIE   \n",
              "3   tm70993                        Life of Brian  MOVIE   \n",
              "4  tm190788                         The Exorcist  MOVIE   \n",
              "\n",
              "                                         description  release_year  \\\n",
              "0  This collection includes 12 World War II-era p...          1945   \n",
              "1  A mentally unstable Vietnam War veteran works ...          1976   \n",
              "2  King Arthur, accompanied by his squire, recrui...          1975   \n",
              "3  Brian Cohen is an average young Jewish man, bu...          1979   \n",
              "4  12-year-old Regan MacNeil begins to adapt an e...          1973   \n",
              "\n",
              "  age_certification  runtime                 genres production_countries  \\\n",
              "0             TV-MA       48      ['documentation']               ['US']   \n",
              "1                 R      113     ['crime', 'drama']               ['US']   \n",
              "2                PG       91  ['comedy', 'fantasy']               ['GB']   \n",
              "3                 R       94             ['comedy']               ['GB']   \n",
              "4                 R      133             ['horror']               ['US']   \n",
              "\n",
              "   seasons    imdb_id  imdb_score  imdb_votes  tmdb_popularity  tmdb_score  \n",
              "0      1.0        NaN         NaN         NaN            0.600         NaN  \n",
              "1      NaN  tt0075314         8.3    795222.0           27.612         8.2  \n",
              "2      NaN  tt0071853         8.2    530877.0           18.216         7.8  \n",
              "3      NaN  tt0079470         8.0    392419.0           17.505         7.8  \n",
              "4      NaN  tt0070047         8.1    391942.0           95.337         7.7  "
            ],
            "text/html": [
              "\n",
              "  <div id=\"df-89419d20-6040-4080-9e70-d3aa794a78e6\">\n",
              "    <div class=\"colab-df-container\">\n",
              "      <div>\n",
              "<style scoped>\n",
              "    .dataframe tbody tr th:only-of-type {\n",
              "        vertical-align: middle;\n",
              "    }\n",
              "\n",
              "    .dataframe tbody tr th {\n",
              "        vertical-align: top;\n",
              "    }\n",
              "\n",
              "    .dataframe thead th {\n",
              "        text-align: right;\n",
              "    }\n",
              "</style>\n",
              "<table border=\"1\" class=\"dataframe\">\n",
              "  <thead>\n",
              "    <tr style=\"text-align: right;\">\n",
              "      <th></th>\n",
              "      <th>id</th>\n",
              "      <th>title</th>\n",
              "      <th>type</th>\n",
              "      <th>description</th>\n",
              "      <th>release_year</th>\n",
              "      <th>age_certification</th>\n",
              "      <th>runtime</th>\n",
              "      <th>genres</th>\n",
              "      <th>production_countries</th>\n",
              "      <th>seasons</th>\n",
              "      <th>imdb_id</th>\n",
              "      <th>imdb_score</th>\n",
              "      <th>imdb_votes</th>\n",
              "      <th>tmdb_popularity</th>\n",
              "      <th>tmdb_score</th>\n",
              "    </tr>\n",
              "  </thead>\n",
              "  <tbody>\n",
              "    <tr>\n",
              "      <th>0</th>\n",
              "      <td>ts300399</td>\n",
              "      <td>Five Came Back: The Reference Films</td>\n",
              "      <td>SHOW</td>\n",
              "      <td>This collection includes 12 World War II-era p...</td>\n",
              "      <td>1945</td>\n",
              "      <td>TV-MA</td>\n",
              "      <td>48</td>\n",
              "      <td>['documentation']</td>\n",
              "      <td>['US']</td>\n",
              "      <td>1.0</td>\n",
              "      <td>NaN</td>\n",
              "      <td>NaN</td>\n",
              "      <td>NaN</td>\n",
              "      <td>0.600</td>\n",
              "      <td>NaN</td>\n",
              "    </tr>\n",
              "    <tr>\n",
              "      <th>1</th>\n",
              "      <td>tm84618</td>\n",
              "      <td>Taxi Driver</td>\n",
              "      <td>MOVIE</td>\n",
              "      <td>A mentally unstable Vietnam War veteran works ...</td>\n",
              "      <td>1976</td>\n",
              "      <td>R</td>\n",
              "      <td>113</td>\n",
              "      <td>['crime', 'drama']</td>\n",
              "      <td>['US']</td>\n",
              "      <td>NaN</td>\n",
              "      <td>tt0075314</td>\n",
              "      <td>8.3</td>\n",
              "      <td>795222.0</td>\n",
              "      <td>27.612</td>\n",
              "      <td>8.2</td>\n",
              "    </tr>\n",
              "    <tr>\n",
              "      <th>2</th>\n",
              "      <td>tm127384</td>\n",
              "      <td>Monty Python and the Holy Grail</td>\n",
              "      <td>MOVIE</td>\n",
              "      <td>King Arthur, accompanied by his squire, recrui...</td>\n",
              "      <td>1975</td>\n",
              "      <td>PG</td>\n",
              "      <td>91</td>\n",
              "      <td>['comedy', 'fantasy']</td>\n",
              "      <td>['GB']</td>\n",
              "      <td>NaN</td>\n",
              "      <td>tt0071853</td>\n",
              "      <td>8.2</td>\n",
              "      <td>530877.0</td>\n",
              "      <td>18.216</td>\n",
              "      <td>7.8</td>\n",
              "    </tr>\n",
              "    <tr>\n",
              "      <th>3</th>\n",
              "      <td>tm70993</td>\n",
              "      <td>Life of Brian</td>\n",
              "      <td>MOVIE</td>\n",
              "      <td>Brian Cohen is an average young Jewish man, bu...</td>\n",
              "      <td>1979</td>\n",
              "      <td>R</td>\n",
              "      <td>94</td>\n",
              "      <td>['comedy']</td>\n",
              "      <td>['GB']</td>\n",
              "      <td>NaN</td>\n",
              "      <td>tt0079470</td>\n",
              "      <td>8.0</td>\n",
              "      <td>392419.0</td>\n",
              "      <td>17.505</td>\n",
              "      <td>7.8</td>\n",
              "    </tr>\n",
              "    <tr>\n",
              "      <th>4</th>\n",
              "      <td>tm190788</td>\n",
              "      <td>The Exorcist</td>\n",
              "      <td>MOVIE</td>\n",
              "      <td>12-year-old Regan MacNeil begins to adapt an e...</td>\n",
              "      <td>1973</td>\n",
              "      <td>R</td>\n",
              "      <td>133</td>\n",
              "      <td>['horror']</td>\n",
              "      <td>['US']</td>\n",
              "      <td>NaN</td>\n",
              "      <td>tt0070047</td>\n",
              "      <td>8.1</td>\n",
              "      <td>391942.0</td>\n",
              "      <td>95.337</td>\n",
              "      <td>7.7</td>\n",
              "    </tr>\n",
              "  </tbody>\n",
              "</table>\n",
              "</div>\n",
              "      <button class=\"colab-df-convert\" onclick=\"convertToInteractive('df-89419d20-6040-4080-9e70-d3aa794a78e6')\"\n",
              "              title=\"Convert this dataframe to an interactive table.\"\n",
              "              style=\"display:none;\">\n",
              "        \n",
              "  <svg xmlns=\"http://www.w3.org/2000/svg\" height=\"24px\"viewBox=\"0 0 24 24\"\n",
              "       width=\"24px\">\n",
              "    <path d=\"M0 0h24v24H0V0z\" fill=\"none\"/>\n",
              "    <path d=\"M18.56 5.44l.94 2.06.94-2.06 2.06-.94-2.06-.94-.94-2.06-.94 2.06-2.06.94zm-11 1L8.5 8.5l.94-2.06 2.06-.94-2.06-.94L8.5 2.5l-.94 2.06-2.06.94zm10 10l.94 2.06.94-2.06 2.06-.94-2.06-.94-.94-2.06-.94 2.06-2.06.94z\"/><path d=\"M17.41 7.96l-1.37-1.37c-.4-.4-.92-.59-1.43-.59-.52 0-1.04.2-1.43.59L10.3 9.45l-7.72 7.72c-.78.78-.78 2.05 0 2.83L4 21.41c.39.39.9.59 1.41.59.51 0 1.02-.2 1.41-.59l7.78-7.78 2.81-2.81c.8-.78.8-2.07 0-2.86zM5.41 20L4 18.59l7.72-7.72 1.47 1.35L5.41 20z\"/>\n",
              "  </svg>\n",
              "      </button>\n",
              "      \n",
              "  <style>\n",
              "    .colab-df-container {\n",
              "      display:flex;\n",
              "      flex-wrap:wrap;\n",
              "      gap: 12px;\n",
              "    }\n",
              "\n",
              "    .colab-df-convert {\n",
              "      background-color: #E8F0FE;\n",
              "      border: none;\n",
              "      border-radius: 50%;\n",
              "      cursor: pointer;\n",
              "      display: none;\n",
              "      fill: #1967D2;\n",
              "      height: 32px;\n",
              "      padding: 0 0 0 0;\n",
              "      width: 32px;\n",
              "    }\n",
              "\n",
              "    .colab-df-convert:hover {\n",
              "      background-color: #E2EBFA;\n",
              "      box-shadow: 0px 1px 2px rgba(60, 64, 67, 0.3), 0px 1px 3px 1px rgba(60, 64, 67, 0.15);\n",
              "      fill: #174EA6;\n",
              "    }\n",
              "\n",
              "    [theme=dark] .colab-df-convert {\n",
              "      background-color: #3B4455;\n",
              "      fill: #D2E3FC;\n",
              "    }\n",
              "\n",
              "    [theme=dark] .colab-df-convert:hover {\n",
              "      background-color: #434B5C;\n",
              "      box-shadow: 0px 1px 3px 1px rgba(0, 0, 0, 0.15);\n",
              "      filter: drop-shadow(0px 1px 2px rgba(0, 0, 0, 0.3));\n",
              "      fill: #FFFFFF;\n",
              "    }\n",
              "  </style>\n",
              "\n",
              "      <script>\n",
              "        const buttonEl =\n",
              "          document.querySelector('#df-89419d20-6040-4080-9e70-d3aa794a78e6 button.colab-df-convert');\n",
              "        buttonEl.style.display =\n",
              "          google.colab.kernel.accessAllowed ? 'block' : 'none';\n",
              "\n",
              "        async function convertToInteractive(key) {\n",
              "          const element = document.querySelector('#df-89419d20-6040-4080-9e70-d3aa794a78e6');\n",
              "          const dataTable =\n",
              "            await google.colab.kernel.invokeFunction('convertToInteractive',\n",
              "                                                     [key], {});\n",
              "          if (!dataTable) return;\n",
              "\n",
              "          const docLinkHtml = 'Like what you see? Visit the ' +\n",
              "            '<a target=\"_blank\" href=https://colab.research.google.com/notebooks/data_table.ipynb>data table notebook</a>'\n",
              "            + ' to learn more about interactive tables.';\n",
              "          element.innerHTML = '';\n",
              "          dataTable['output_type'] = 'display_data';\n",
              "          await google.colab.output.renderOutput(dataTable, element);\n",
              "          const docLink = document.createElement('div');\n",
              "          docLink.innerHTML = docLinkHtml;\n",
              "          element.appendChild(docLink);\n",
              "        }\n",
              "      </script>\n",
              "    </div>\n",
              "  </div>\n",
              "  "
            ]
          },
          "metadata": {},
          "execution_count": 11
        }
      ],
      "source": [
        "# second read titles.csv file as save in varible titles\n",
        "\n",
        "titles = pd.read_csv('./netflix-tv-shows-and-movies/titles.csv')\n",
        "\n",
        "# let check head()\n",
        "\n",
        "titles.head()"
      ]
    },
    {
      "cell_type": "markdown",
      "metadata": {
        "id": "F1CWQbIIhCFK"
      },
      "source": [
        "**In Titles there are unique titles on Netflix details , So its usefull for me.**\n",
        "\n",
        "let's Explory  titles.csv"
      ]
    },
    {
      "cell_type": "markdown",
      "metadata": {
        "id": "6aWau-T7hCFK"
      },
      "source": [
        "Let us save and upload our work to Jovian before continuing."
      ]
    },
    {
      "cell_type": "code",
      "execution_count": 12,
      "metadata": {
        "id": "08KbbMPdhCFK"
      },
      "outputs": [],
      "source": [
        "project_name = \"Netflix_Movies_and_TV_Shows\""
      ]
    },
    {
      "cell_type": "code",
      "execution_count": 13,
      "metadata": {
        "id": "ErcrhrhEhCFL"
      },
      "outputs": [],
      "source": [
        "!pip install jovian --upgrade -q"
      ]
    },
    {
      "cell_type": "code",
      "execution_count": 14,
      "metadata": {
        "colab": {
          "base_uri": "https://localhost:8080/",
          "height": 122
        },
        "id": "7YFQZrxPhCFL",
        "outputId": "3371fa7d-da2b-49be-f3bb-72c985a320ff"
      },
      "outputs": [
        {
          "output_type": "stream",
          "name": "stdout",
          "text": [
            "[jovian] Detected Colab notebook...\u001b[0m\n",
            "[jovian] Please enter your API key ( from https://jovian.ai/ ):\u001b[0m\n",
            "API KEY: ··········\n",
            "[jovian] Uploading colab notebook to Jovian...\u001b[0m\n",
            "Committed successfully! https://jovian.ai/poojadas2014-pd/netflix-movies-and-tv-shows\n"
          ]
        },
        {
          "output_type": "execute_result",
          "data": {
            "text/plain": [
              "'https://jovian.ai/poojadas2014-pd/netflix-movies-and-tv-shows'"
            ],
            "application/vnd.google.colaboratory.intrinsic+json": {
              "type": "string"
            }
          },
          "metadata": {},
          "execution_count": 14
        }
      ],
      "source": [
        "jovian.commit(project=project_name)"
      ]
    },
    {
      "cell_type": "code",
      "execution_count": 16,
      "metadata": {
        "colab": {
          "base_uri": "https://localhost:8080/",
          "height": 315
        },
        "id": "rROTLko3hCFL",
        "outputId": "2814e6ad-1acb-4754-a670-d42f541782b9"
      },
      "outputs": [
        {
          "output_type": "execute_result",
          "data": {
            "text/plain": [
              "         id                                title   type  \\\n",
              "0  ts300399  Five Came Back: The Reference Films   SHOW   \n",
              "1   tm84618                          Taxi Driver  MOVIE   \n",
              "\n",
              "                                         description  release_year  \\\n",
              "0  This collection includes 12 World War II-era p...          1945   \n",
              "1  A mentally unstable Vietnam War veteran works ...          1976   \n",
              "\n",
              "  age_certification  runtime              genres production_countries  \\\n",
              "0             TV-MA       48   ['documentation']               ['US']   \n",
              "1                 R      113  ['crime', 'drama']               ['US']   \n",
              "\n",
              "   seasons    imdb_id  imdb_score  imdb_votes  tmdb_popularity  tmdb_score  \n",
              "0      1.0        NaN         NaN         NaN            0.600         NaN  \n",
              "1      NaN  tt0075314         8.3    795222.0           27.612         8.2  "
            ],
            "text/html": [
              "\n",
              "  <div id=\"df-97ee6402-46e3-47e8-ac29-0709b6260a89\">\n",
              "    <div class=\"colab-df-container\">\n",
              "      <div>\n",
              "<style scoped>\n",
              "    .dataframe tbody tr th:only-of-type {\n",
              "        vertical-align: middle;\n",
              "    }\n",
              "\n",
              "    .dataframe tbody tr th {\n",
              "        vertical-align: top;\n",
              "    }\n",
              "\n",
              "    .dataframe thead th {\n",
              "        text-align: right;\n",
              "    }\n",
              "</style>\n",
              "<table border=\"1\" class=\"dataframe\">\n",
              "  <thead>\n",
              "    <tr style=\"text-align: right;\">\n",
              "      <th></th>\n",
              "      <th>id</th>\n",
              "      <th>title</th>\n",
              "      <th>type</th>\n",
              "      <th>description</th>\n",
              "      <th>release_year</th>\n",
              "      <th>age_certification</th>\n",
              "      <th>runtime</th>\n",
              "      <th>genres</th>\n",
              "      <th>production_countries</th>\n",
              "      <th>seasons</th>\n",
              "      <th>imdb_id</th>\n",
              "      <th>imdb_score</th>\n",
              "      <th>imdb_votes</th>\n",
              "      <th>tmdb_popularity</th>\n",
              "      <th>tmdb_score</th>\n",
              "    </tr>\n",
              "  </thead>\n",
              "  <tbody>\n",
              "    <tr>\n",
              "      <th>0</th>\n",
              "      <td>ts300399</td>\n",
              "      <td>Five Came Back: The Reference Films</td>\n",
              "      <td>SHOW</td>\n",
              "      <td>This collection includes 12 World War II-era p...</td>\n",
              "      <td>1945</td>\n",
              "      <td>TV-MA</td>\n",
              "      <td>48</td>\n",
              "      <td>['documentation']</td>\n",
              "      <td>['US']</td>\n",
              "      <td>1.0</td>\n",
              "      <td>NaN</td>\n",
              "      <td>NaN</td>\n",
              "      <td>NaN</td>\n",
              "      <td>0.600</td>\n",
              "      <td>NaN</td>\n",
              "    </tr>\n",
              "    <tr>\n",
              "      <th>1</th>\n",
              "      <td>tm84618</td>\n",
              "      <td>Taxi Driver</td>\n",
              "      <td>MOVIE</td>\n",
              "      <td>A mentally unstable Vietnam War veteran works ...</td>\n",
              "      <td>1976</td>\n",
              "      <td>R</td>\n",
              "      <td>113</td>\n",
              "      <td>['crime', 'drama']</td>\n",
              "      <td>['US']</td>\n",
              "      <td>NaN</td>\n",
              "      <td>tt0075314</td>\n",
              "      <td>8.3</td>\n",
              "      <td>795222.0</td>\n",
              "      <td>27.612</td>\n",
              "      <td>8.2</td>\n",
              "    </tr>\n",
              "  </tbody>\n",
              "</table>\n",
              "</div>\n",
              "      <button class=\"colab-df-convert\" onclick=\"convertToInteractive('df-97ee6402-46e3-47e8-ac29-0709b6260a89')\"\n",
              "              title=\"Convert this dataframe to an interactive table.\"\n",
              "              style=\"display:none;\">\n",
              "        \n",
              "  <svg xmlns=\"http://www.w3.org/2000/svg\" height=\"24px\"viewBox=\"0 0 24 24\"\n",
              "       width=\"24px\">\n",
              "    <path d=\"M0 0h24v24H0V0z\" fill=\"none\"/>\n",
              "    <path d=\"M18.56 5.44l.94 2.06.94-2.06 2.06-.94-2.06-.94-.94-2.06-.94 2.06-2.06.94zm-11 1L8.5 8.5l.94-2.06 2.06-.94-2.06-.94L8.5 2.5l-.94 2.06-2.06.94zm10 10l.94 2.06.94-2.06 2.06-.94-2.06-.94-.94-2.06-.94 2.06-2.06.94z\"/><path d=\"M17.41 7.96l-1.37-1.37c-.4-.4-.92-.59-1.43-.59-.52 0-1.04.2-1.43.59L10.3 9.45l-7.72 7.72c-.78.78-.78 2.05 0 2.83L4 21.41c.39.39.9.59 1.41.59.51 0 1.02-.2 1.41-.59l7.78-7.78 2.81-2.81c.8-.78.8-2.07 0-2.86zM5.41 20L4 18.59l7.72-7.72 1.47 1.35L5.41 20z\"/>\n",
              "  </svg>\n",
              "      </button>\n",
              "      \n",
              "  <style>\n",
              "    .colab-df-container {\n",
              "      display:flex;\n",
              "      flex-wrap:wrap;\n",
              "      gap: 12px;\n",
              "    }\n",
              "\n",
              "    .colab-df-convert {\n",
              "      background-color: #E8F0FE;\n",
              "      border: none;\n",
              "      border-radius: 50%;\n",
              "      cursor: pointer;\n",
              "      display: none;\n",
              "      fill: #1967D2;\n",
              "      height: 32px;\n",
              "      padding: 0 0 0 0;\n",
              "      width: 32px;\n",
              "    }\n",
              "\n",
              "    .colab-df-convert:hover {\n",
              "      background-color: #E2EBFA;\n",
              "      box-shadow: 0px 1px 2px rgba(60, 64, 67, 0.3), 0px 1px 3px 1px rgba(60, 64, 67, 0.15);\n",
              "      fill: #174EA6;\n",
              "    }\n",
              "\n",
              "    [theme=dark] .colab-df-convert {\n",
              "      background-color: #3B4455;\n",
              "      fill: #D2E3FC;\n",
              "    }\n",
              "\n",
              "    [theme=dark] .colab-df-convert:hover {\n",
              "      background-color: #434B5C;\n",
              "      box-shadow: 0px 1px 3px 1px rgba(0, 0, 0, 0.15);\n",
              "      filter: drop-shadow(0px 1px 2px rgba(0, 0, 0, 0.3));\n",
              "      fill: #FFFFFF;\n",
              "    }\n",
              "  </style>\n",
              "\n",
              "      <script>\n",
              "        const buttonEl =\n",
              "          document.querySelector('#df-97ee6402-46e3-47e8-ac29-0709b6260a89 button.colab-df-convert');\n",
              "        buttonEl.style.display =\n",
              "          google.colab.kernel.accessAllowed ? 'block' : 'none';\n",
              "\n",
              "        async function convertToInteractive(key) {\n",
              "          const element = document.querySelector('#df-97ee6402-46e3-47e8-ac29-0709b6260a89');\n",
              "          const dataTable =\n",
              "            await google.colab.kernel.invokeFunction('convertToInteractive',\n",
              "                                                     [key], {});\n",
              "          if (!dataTable) return;\n",
              "\n",
              "          const docLinkHtml = 'Like what you see? Visit the ' +\n",
              "            '<a target=\"_blank\" href=https://colab.research.google.com/notebooks/data_table.ipynb>data table notebook</a>'\n",
              "            + ' to learn more about interactive tables.';\n",
              "          element.innerHTML = '';\n",
              "          dataTable['output_type'] = 'display_data';\n",
              "          await google.colab.output.renderOutput(dataTable, element);\n",
              "          const docLink = document.createElement('div');\n",
              "          docLink.innerHTML = docLinkHtml;\n",
              "          element.appendChild(docLink);\n",
              "        }\n",
              "      </script>\n",
              "    </div>\n",
              "  </div>\n",
              "  "
            ]
          },
          "metadata": {},
          "execution_count": 16
        }
      ],
      "source": [
        "# Our Titles Data\n",
        "\n",
        "titles.head(2)"
      ]
    },
    {
      "cell_type": "markdown",
      "metadata": {
        "id": "8AAJ0ydWhCFM"
      },
      "source": [
        "<span style=\"color:black;font-size:25px; font-style:bold;\"><b>Explore the number of rows & columns(shape), ranges of values , Information , null value count</b></span>"
      ]
    },
    {
      "cell_type": "markdown",
      "metadata": {
        "id": "tE4XsQ0ghCFM"
      },
      "source": [
        "<span style=\"color:#E50914;font-size:25px; font-style:bold;\"><b><u> See the shape of data</u></b></span>"
      ]
    },
    {
      "cell_type": "code",
      "execution_count": 17,
      "metadata": {
        "colab": {
          "base_uri": "https://localhost:8080/"
        },
        "id": "OVrdxSpKhCFN",
        "outputId": "94c402ff-2445-454f-b664-63477643f95d"
      },
      "outputs": [
        {
          "output_type": "execute_result",
          "data": {
            "text/plain": [
              "(5806, 15)"
            ]
          },
          "metadata": {},
          "execution_count": 17
        }
      ],
      "source": [
        "titles.shape"
      ]
    },
    {
      "cell_type": "code",
      "execution_count": 18,
      "metadata": {
        "colab": {
          "base_uri": "https://localhost:8080/"
        },
        "id": "zzzTnE_LhCFN",
        "outputId": "162b9d81-cb57-4ca4-b3ed-34bee55614c7"
      },
      "outputs": [
        {
          "output_type": "execute_result",
          "data": {
            "text/plain": [
              "Index(['id', 'title', 'type', 'description', 'release_year',\n",
              "       'age_certification', 'runtime', 'genres', 'production_countries',\n",
              "       'seasons', 'imdb_id', 'imdb_score', 'imdb_votes', 'tmdb_popularity',\n",
              "       'tmdb_score'],\n",
              "      dtype='object')"
            ]
          },
          "metadata": {},
          "execution_count": 18
        }
      ],
      "source": [
        "titles.columns"
      ]
    },
    {
      "cell_type": "markdown",
      "source": [
        "<span style=\"color:#E50914;font-size:25px; font-style:bold;\"><b><u>Lets See the information about Titles DataSet</u></b></span>"
      ],
      "metadata": {
        "id": "lGDNHNA1rub9"
      }
    },
    {
      "cell_type": "code",
      "execution_count": 21,
      "metadata": {
        "colab": {
          "base_uri": "https://localhost:8080/"
        },
        "id": "21TfwE1YhCFO",
        "outputId": "c73f7eda-19df-4956-f392-8afb682dc266"
      },
      "outputs": [
        {
          "output_type": "stream",
          "name": "stdout",
          "text": [
            "<class 'pandas.core.frame.DataFrame'>\n",
            "RangeIndex: 5806 entries, 0 to 5805\n",
            "Data columns (total 15 columns):\n",
            " #   Column                Non-Null Count  Dtype  \n",
            "---  ------                --------------  -----  \n",
            " 0   id                    5806 non-null   object \n",
            " 1   title                 5805 non-null   object \n",
            " 2   type                  5806 non-null   object \n",
            " 3   description           5788 non-null   object \n",
            " 4   release_year          5806 non-null   int64  \n",
            " 5   age_certification     3196 non-null   object \n",
            " 6   runtime               5806 non-null   int64  \n",
            " 7   genres                5806 non-null   object \n",
            " 8   production_countries  5806 non-null   object \n",
            " 9   seasons               2047 non-null   float64\n",
            " 10  imdb_id               5362 non-null   object \n",
            " 11  imdb_score            5283 non-null   float64\n",
            " 12  imdb_votes            5267 non-null   float64\n",
            " 13  tmdb_popularity       5712 non-null   float64\n",
            " 14  tmdb_score            5488 non-null   float64\n",
            "dtypes: float64(5), int64(2), object(8)\n",
            "memory usage: 680.5+ KB\n"
          ]
        }
      ],
      "source": [
        "titles.info()"
      ]
    },
    {
      "cell_type": "code",
      "execution_count": 22,
      "metadata": {
        "colab": {
          "base_uri": "https://localhost:8080/",
          "height": 300
        },
        "id": "0mClwTKShCFP",
        "outputId": "56d339a8-3588-4e72-c558-248088b6f9e7"
      },
      "outputs": [
        {
          "output_type": "execute_result",
          "data": {
            "text/plain": [
              "       release_year      runtime      seasons   imdb_score    imdb_votes  \\\n",
              "count   5806.000000  5806.000000  2047.000000  5283.000000  5.267000e+03   \n",
              "mean    2016.013434    77.643989     2.165608     6.533447  2.340719e+04   \n",
              "std        7.324883    39.474160     2.636207     1.160932  8.713432e+04   \n",
              "min     1945.000000     0.000000     1.000000     1.500000  5.000000e+00   \n",
              "25%     2015.000000    44.000000     1.000000     5.800000  5.210000e+02   \n",
              "50%     2018.000000    84.000000     1.000000     6.600000  2.279000e+03   \n",
              "75%     2020.000000   105.000000     2.000000     7.400000  1.014400e+04   \n",
              "max     2022.000000   251.000000    42.000000     9.600000  2.268288e+06   \n",
              "\n",
              "       tmdb_popularity   tmdb_score  \n",
              "count      5712.000000  5488.000000  \n",
              "mean         22.525660     6.818039  \n",
              "std          68.849177     1.171560  \n",
              "min           0.009442     0.500000  \n",
              "25%           3.155250     6.100000  \n",
              "50%           7.478000     6.900000  \n",
              "75%          17.775750     7.500000  \n",
              "max        1823.374000    10.000000  "
            ],
            "text/html": [
              "\n",
              "  <div id=\"df-28f4732c-9831-487a-af1d-39a214dddeff\">\n",
              "    <div class=\"colab-df-container\">\n",
              "      <div>\n",
              "<style scoped>\n",
              "    .dataframe tbody tr th:only-of-type {\n",
              "        vertical-align: middle;\n",
              "    }\n",
              "\n",
              "    .dataframe tbody tr th {\n",
              "        vertical-align: top;\n",
              "    }\n",
              "\n",
              "    .dataframe thead th {\n",
              "        text-align: right;\n",
              "    }\n",
              "</style>\n",
              "<table border=\"1\" class=\"dataframe\">\n",
              "  <thead>\n",
              "    <tr style=\"text-align: right;\">\n",
              "      <th></th>\n",
              "      <th>release_year</th>\n",
              "      <th>runtime</th>\n",
              "      <th>seasons</th>\n",
              "      <th>imdb_score</th>\n",
              "      <th>imdb_votes</th>\n",
              "      <th>tmdb_popularity</th>\n",
              "      <th>tmdb_score</th>\n",
              "    </tr>\n",
              "  </thead>\n",
              "  <tbody>\n",
              "    <tr>\n",
              "      <th>count</th>\n",
              "      <td>5806.000000</td>\n",
              "      <td>5806.000000</td>\n",
              "      <td>2047.000000</td>\n",
              "      <td>5283.000000</td>\n",
              "      <td>5.267000e+03</td>\n",
              "      <td>5712.000000</td>\n",
              "      <td>5488.000000</td>\n",
              "    </tr>\n",
              "    <tr>\n",
              "      <th>mean</th>\n",
              "      <td>2016.013434</td>\n",
              "      <td>77.643989</td>\n",
              "      <td>2.165608</td>\n",
              "      <td>6.533447</td>\n",
              "      <td>2.340719e+04</td>\n",
              "      <td>22.525660</td>\n",
              "      <td>6.818039</td>\n",
              "    </tr>\n",
              "    <tr>\n",
              "      <th>std</th>\n",
              "      <td>7.324883</td>\n",
              "      <td>39.474160</td>\n",
              "      <td>2.636207</td>\n",
              "      <td>1.160932</td>\n",
              "      <td>8.713432e+04</td>\n",
              "      <td>68.849177</td>\n",
              "      <td>1.171560</td>\n",
              "    </tr>\n",
              "    <tr>\n",
              "      <th>min</th>\n",
              "      <td>1945.000000</td>\n",
              "      <td>0.000000</td>\n",
              "      <td>1.000000</td>\n",
              "      <td>1.500000</td>\n",
              "      <td>5.000000e+00</td>\n",
              "      <td>0.009442</td>\n",
              "      <td>0.500000</td>\n",
              "    </tr>\n",
              "    <tr>\n",
              "      <th>25%</th>\n",
              "      <td>2015.000000</td>\n",
              "      <td>44.000000</td>\n",
              "      <td>1.000000</td>\n",
              "      <td>5.800000</td>\n",
              "      <td>5.210000e+02</td>\n",
              "      <td>3.155250</td>\n",
              "      <td>6.100000</td>\n",
              "    </tr>\n",
              "    <tr>\n",
              "      <th>50%</th>\n",
              "      <td>2018.000000</td>\n",
              "      <td>84.000000</td>\n",
              "      <td>1.000000</td>\n",
              "      <td>6.600000</td>\n",
              "      <td>2.279000e+03</td>\n",
              "      <td>7.478000</td>\n",
              "      <td>6.900000</td>\n",
              "    </tr>\n",
              "    <tr>\n",
              "      <th>75%</th>\n",
              "      <td>2020.000000</td>\n",
              "      <td>105.000000</td>\n",
              "      <td>2.000000</td>\n",
              "      <td>7.400000</td>\n",
              "      <td>1.014400e+04</td>\n",
              "      <td>17.775750</td>\n",
              "      <td>7.500000</td>\n",
              "    </tr>\n",
              "    <tr>\n",
              "      <th>max</th>\n",
              "      <td>2022.000000</td>\n",
              "      <td>251.000000</td>\n",
              "      <td>42.000000</td>\n",
              "      <td>9.600000</td>\n",
              "      <td>2.268288e+06</td>\n",
              "      <td>1823.374000</td>\n",
              "      <td>10.000000</td>\n",
              "    </tr>\n",
              "  </tbody>\n",
              "</table>\n",
              "</div>\n",
              "      <button class=\"colab-df-convert\" onclick=\"convertToInteractive('df-28f4732c-9831-487a-af1d-39a214dddeff')\"\n",
              "              title=\"Convert this dataframe to an interactive table.\"\n",
              "              style=\"display:none;\">\n",
              "        \n",
              "  <svg xmlns=\"http://www.w3.org/2000/svg\" height=\"24px\"viewBox=\"0 0 24 24\"\n",
              "       width=\"24px\">\n",
              "    <path d=\"M0 0h24v24H0V0z\" fill=\"none\"/>\n",
              "    <path d=\"M18.56 5.44l.94 2.06.94-2.06 2.06-.94-2.06-.94-.94-2.06-.94 2.06-2.06.94zm-11 1L8.5 8.5l.94-2.06 2.06-.94-2.06-.94L8.5 2.5l-.94 2.06-2.06.94zm10 10l.94 2.06.94-2.06 2.06-.94-2.06-.94-.94-2.06-.94 2.06-2.06.94z\"/><path d=\"M17.41 7.96l-1.37-1.37c-.4-.4-.92-.59-1.43-.59-.52 0-1.04.2-1.43.59L10.3 9.45l-7.72 7.72c-.78.78-.78 2.05 0 2.83L4 21.41c.39.39.9.59 1.41.59.51 0 1.02-.2 1.41-.59l7.78-7.78 2.81-2.81c.8-.78.8-2.07 0-2.86zM5.41 20L4 18.59l7.72-7.72 1.47 1.35L5.41 20z\"/>\n",
              "  </svg>\n",
              "      </button>\n",
              "      \n",
              "  <style>\n",
              "    .colab-df-container {\n",
              "      display:flex;\n",
              "      flex-wrap:wrap;\n",
              "      gap: 12px;\n",
              "    }\n",
              "\n",
              "    .colab-df-convert {\n",
              "      background-color: #E8F0FE;\n",
              "      border: none;\n",
              "      border-radius: 50%;\n",
              "      cursor: pointer;\n",
              "      display: none;\n",
              "      fill: #1967D2;\n",
              "      height: 32px;\n",
              "      padding: 0 0 0 0;\n",
              "      width: 32px;\n",
              "    }\n",
              "\n",
              "    .colab-df-convert:hover {\n",
              "      background-color: #E2EBFA;\n",
              "      box-shadow: 0px 1px 2px rgba(60, 64, 67, 0.3), 0px 1px 3px 1px rgba(60, 64, 67, 0.15);\n",
              "      fill: #174EA6;\n",
              "    }\n",
              "\n",
              "    [theme=dark] .colab-df-convert {\n",
              "      background-color: #3B4455;\n",
              "      fill: #D2E3FC;\n",
              "    }\n",
              "\n",
              "    [theme=dark] .colab-df-convert:hover {\n",
              "      background-color: #434B5C;\n",
              "      box-shadow: 0px 1px 3px 1px rgba(0, 0, 0, 0.15);\n",
              "      filter: drop-shadow(0px 1px 2px rgba(0, 0, 0, 0.3));\n",
              "      fill: #FFFFFF;\n",
              "    }\n",
              "  </style>\n",
              "\n",
              "      <script>\n",
              "        const buttonEl =\n",
              "          document.querySelector('#df-28f4732c-9831-487a-af1d-39a214dddeff button.colab-df-convert');\n",
              "        buttonEl.style.display =\n",
              "          google.colab.kernel.accessAllowed ? 'block' : 'none';\n",
              "\n",
              "        async function convertToInteractive(key) {\n",
              "          const element = document.querySelector('#df-28f4732c-9831-487a-af1d-39a214dddeff');\n",
              "          const dataTable =\n",
              "            await google.colab.kernel.invokeFunction('convertToInteractive',\n",
              "                                                     [key], {});\n",
              "          if (!dataTable) return;\n",
              "\n",
              "          const docLinkHtml = 'Like what you see? Visit the ' +\n",
              "            '<a target=\"_blank\" href=https://colab.research.google.com/notebooks/data_table.ipynb>data table notebook</a>'\n",
              "            + ' to learn more about interactive tables.';\n",
              "          element.innerHTML = '';\n",
              "          dataTable['output_type'] = 'display_data';\n",
              "          await google.colab.output.renderOutput(dataTable, element);\n",
              "          const docLink = document.createElement('div');\n",
              "          docLink.innerHTML = docLinkHtml;\n",
              "          element.appendChild(docLink);\n",
              "        }\n",
              "      </script>\n",
              "    </div>\n",
              "  </div>\n",
              "  "
            ]
          },
          "metadata": {},
          "execution_count": 22
        }
      ],
      "source": [
        "titles.describe()"
      ]
    },
    {
      "cell_type": "code",
      "source": [
        "#  Numeric columns\n",
        "colnames_numerics_only = titles.select_dtypes(include= np.number).columns\n",
        "print(len(colnames_numerics_only))\n",
        "print(colnames_numerics_only)"
      ],
      "metadata": {
        "colab": {
          "base_uri": "https://localhost:8080/"
        },
        "id": "2mOezVOYsEfv",
        "outputId": "155b02fb-92a2-4976-b5ea-483ca4c2dc30"
      },
      "execution_count": 24,
      "outputs": [
        {
          "output_type": "stream",
          "name": "stdout",
          "text": [
            "7\n",
            "Index(['release_year', 'runtime', 'seasons', 'imdb_score', 'imdb_votes',\n",
            "       'tmdb_popularity', 'tmdb_score'],\n",
            "      dtype='object')\n"
          ]
        }
      ]
    },
    {
      "cell_type": "markdown",
      "metadata": {
        "id": "M7IK9SqGhCFP"
      },
      "source": [
        "<span style=\"color:#E50914;font-size:25px; font-style:bold;\"><b><u>Null Count</u></b></span>"
      ]
    },
    {
      "cell_type": "markdown",
      "metadata": {
        "id": "ZvAOPyyFhCFQ"
      },
      "source": [
        "<span style=\"color:black;font-size:25px; font-style:bold;\"><b>Handle missing, incorrect and invalid data</b></span>"
      ]
    },
    {
      "cell_type": "code",
      "source": [
        "titles.isnull().sum().sort_values(ascending=False)"
      ],
      "metadata": {
        "colab": {
          "base_uri": "https://localhost:8080/"
        },
        "id": "OjkVQWZGsl3l",
        "outputId": "22821a60-f88b-4320-f40c-0b1847c56b4d"
      },
      "execution_count": 27,
      "outputs": [
        {
          "output_type": "execute_result",
          "data": {
            "text/plain": [
              "seasons                 3759\n",
              "age_certification       2610\n",
              "imdb_votes               539\n",
              "imdb_score               523\n",
              "imdb_id                  444\n",
              "tmdb_score               318\n",
              "tmdb_popularity           94\n",
              "description               18\n",
              "title                      1\n",
              "id                         0\n",
              "type                       0\n",
              "release_year               0\n",
              "runtime                    0\n",
              "genres                     0\n",
              "production_countries       0\n",
              "dtype: int64"
            ]
          },
          "metadata": {},
          "execution_count": 27
        }
      ]
    },
    {
      "cell_type": "markdown",
      "source": [
        "### Percentage of missing value per column"
      ],
      "metadata": {
        "id": "pz1x8ZQMtJl6"
      }
    },
    {
      "cell_type": "code",
      "source": [
        "missing_percentages=(titles.isnull().sum().sort_values(ascending=False)/len(titles))*100\n",
        "missing_percentages"
      ],
      "metadata": {
        "colab": {
          "base_uri": "https://localhost:8080/"
        },
        "id": "xYe_15SKsl58",
        "outputId": "7b5a9af0-921c-4571-a293-b1f7b19d00b8"
      },
      "execution_count": 29,
      "outputs": [
        {
          "output_type": "execute_result",
          "data": {
            "text/plain": [
              "seasons                 64.743369\n",
              "age_certification       44.953496\n",
              "imdb_votes               9.283500\n",
              "imdb_score               9.007923\n",
              "imdb_id                  7.647261\n",
              "tmdb_score               5.477093\n",
              "tmdb_popularity          1.619015\n",
              "description              0.310024\n",
              "title                    0.017224\n",
              "id                       0.000000\n",
              "type                     0.000000\n",
              "release_year             0.000000\n",
              "runtime                  0.000000\n",
              "genres                   0.000000\n",
              "production_countries     0.000000\n",
              "dtype: float64"
            ]
          },
          "metadata": {},
          "execution_count": 29
        }
      ]
    },
    {
      "cell_type": "code",
      "source": [
        "missing_percentages[missing_percentages>1].plot(kind='bar',color='#E50914');\n",
        "plt.title(\"Plot of Missing  Value Columns percentile\");\n",
        "plt.xticks(rotation=45);"
      ],
      "metadata": {
        "colab": {
          "base_uri": "https://localhost:8080/",
          "height": 422
        },
        "id": "2tfyfnc7sl8f",
        "outputId": "a9fa7461-6eeb-4815-ee46-39f1aec534f0"
      },
      "execution_count": 43,
      "outputs": [
        {
          "output_type": "display_data",
          "data": {
            "text/plain": [
              "<Figure size 648x360 with 1 Axes>"
            ],
            "image/png": "[encoded data removed]"
          },
          "metadata": {}
        }
      ]
    },
    {
      "cell_type": "markdown",
      "source": [
        "<span style=\"color:#E50914;font-size:20px; font-style:bold;\">\n",
        "   <h2> As we seen here our Data is not complete ,there are lots of NaN  value. Colume like:</h2><br>\n",
        "    <span style=\"color:Teal;font-size:15px; font-style:bold;\"><br>\n",
        "        <ol>\n",
        "              <li> title column contain column contain 1 null value (this we can remove)</li>\n",
        "              <li> description column contain 18 null value (Well this column is not need so I Drop this)</li>\n",
        "              <li> age_certification column contain 2610 null value (As Only Those age_certification are mentioned which  have  certicated other which are normal  that leave as Nan, we make them General Audience(G))</li>\n",
        "             <li> seasons column contain column contain 3759 null value (As mention in dataset document only show have seasons movie not so we replace NaN with 1.0)</li>\n",
        "             <li> imdb_id column contain 444 null value (Well this column is not need so I Drop this)</li>\n",
        "             <li> imdb_score column contain 523 null value (We replace this with Mean)</li>\n",
        "             <li> imdb_votes column contain 523 null value (We replace this with Mean)</li>\n",
        "             <li> tmdb_popularity column contain 523 null value (We replace this with Mean)</li>\n",
        "             <li> tmdb_score column contain 523 null value (We replace this with Mean)</li>\n",
        "        </ol>\n",
        "     </span>   \n",
        "</span>\n"
      ],
      "metadata": {
        "id": "k3bYtXd7v3rZ"
      }
    },
    {
      "cell_type": "markdown",
      "source": [
        "# 1. title column contain column contain 1 null value (this we can remove)"
      ],
      "metadata": {
        "id": "3_xAzb5dwgrG"
      }
    },
    {
      "cell_type": "code",
      "source": [
        "titles=titles.dropna(subset=['title'])"
      ],
      "metadata": {
        "id": "xN8JqmIPsl-l"
      },
      "execution_count": 44,
      "outputs": []
    },
    {
      "cell_type": "code",
      "source": [
        ""
      ],
      "metadata": {
        "id": "gPCnsJ62smBM"
      },
      "execution_count": null,
      "outputs": []
    },
    {
      "cell_type": "code",
      "source": [
        ""
      ],
      "metadata": {
        "id": "x-G69HjYsmDh"
      },
      "execution_count": null,
      "outputs": []
    },
    {
      "cell_type": "code",
      "source": [
        ""
      ],
      "metadata": {
        "id": "eyHs9cC9smGu"
      },
      "execution_count": null,
      "outputs": []
    },
    {
      "cell_type": "code",
      "source": [
        ""
      ],
      "metadata": {
        "id": "DjFU3BFbsmJ-"
      },
      "execution_count": null,
      "outputs": []
    },
    {
      "cell_type": "markdown",
      "metadata": {
        "id": "UVhJ96JChCFQ"
      },
      "source": [
        "<span style=\"color:#E50914;font-size:20px; font-style:bold;\">\n",
        "    As we seen here our Data is not complete ,there are lots of NaN  value. Colume like:<br>\n",
        "    <span style=\"color:Teal;font-size:15px; font-style:bold;\"><br>\n",
        "        <ol>\n",
        "              <li> title column contain column contain 1 null value (this we can remove)</li>\n",
        "              <li> description column contain 18 null value (Well this column is not need so I Drop this)</li>\n",
        "              <li> age_certification column contain 2610 null value (As Only Those age_certification are mentioned which  have  certicated other which are normal  that leave as Nan, we make them General Audience(G))</li>\n",
        "             <li> seasons column contain column contain 3759 null value (As mention in dataset document only show have seasons movie not so we replace NaN with 1.0)</li>\n",
        "             <li> imdb_id column contain 444 null value (Well this column is not need so I Drop this)</li>\n",
        "             <li> imdb_score column contain 523 null value (We replace this with Mean)</li>\n",
        "             <li> imdb_votes column contain 523 null value (We replace this with Mean)</li>\n",
        "             <li> tmdb_popularity column contain 523 null value (We replace this with Mean)</li>\n",
        "             <li> tmdb_score column contain 523 null value (We replace this with Mean)</li>\n",
        "        </ol>\n",
        "     </span>   \n",
        "</span>\n"
      ]
    },
    {
      "cell_type": "code",
      "execution_count": null,
      "metadata": {
        "id": "zif7fQo7hCFQ"
      },
      "outputs": [],
      "source": [
        "# 1. title column contain column contain 1 null value (this we can remove)\n",
        "titles=titles.dropna(subset=['title'])"
      ]
    },
    {
      "cell_type": "code",
      "execution_count": null,
      "metadata": {
        "id": "urSsAF3shCFR"
      },
      "outputs": [],
      "source": [
        "# 2.description and imdb_id column contain 18 null value (Well this column is not need so I Drop this)\n",
        "\n",
        "drop_col=['description','imdb_id']\n",
        "titles.drop(drop_col,axis=1,inplace=True)\n"
      ]
    },
    {
      "cell_type": "code",
      "execution_count": null,
      "metadata": {
        "id": "ULFwRiTNhCFR"
      },
      "outputs": [],
      "source": [
        "# 3. age_certification column contain 2610 null value (As Only Those age_certification are mentioned which have certicated other which are normal that leave as Nan, we make them General Audience(G))\n",
        "# print(titles['age_certification'].unique())\n",
        "titles['age_certification'].replace(np.nan,'G',inplace=True)\n"
      ]
    },
    {
      "cell_type": "code",
      "execution_count": null,
      "metadata": {
        "id": "Yk2MXKt2hCFR"
      },
      "outputs": [],
      "source": [
        "# 4.seasons column contain column contain 3759 null value (As mention in dataset document only show have seasons movie not so we replace NaN with 1.0)\n",
        "titles['seasons'].replace(np.nan , float(1.0),inplace= True)\n"
      ]
    },
    {
      "cell_type": "code",
      "execution_count": null,
      "metadata": {
        "id": "J1uMfp8yhCFS"
      },
      "outputs": [],
      "source": [
        "# 5.We replace Nan  this with Mean\n",
        "\n",
        "titles.fillna(titles.mean(),inplace=True)\n"
      ]
    },
    {
      "cell_type": "markdown",
      "metadata": {
        "id": "8Z7eqovchCFS"
      },
      "source": [
        "<span style=\"color:#E50914;font-size:28px; font-style:bold;\"><u><b> Finally check our final clean Data and it shape, infomation & description</b></u></span>"
      ]
    },
    {
      "cell_type": "code",
      "execution_count": null,
      "metadata": {
        "id": "d5xXWyfhhCFT",
        "outputId": "a6afca5e-3572-4893-e191-4cbfb78314af"
      },
      "outputs": [
        {
          "data": {
            "text/plain": [
              "(5805, 13)"
            ]
          },
          "execution_count": 21,
          "metadata": {},
          "output_type": "execute_result"
        }
      ],
      "source": [
        "titles.shape"
      ]
    },
    {
      "cell_type": "code",
      "execution_count": null,
      "metadata": {
        "id": "aaG5wMv-hCFU",
        "outputId": "5f8da0bd-3996-4521-aa27-d2c924a4c829"
      },
      "outputs": [
        {
          "data": {
            "text/html": [
              "<div>\n",
              "<style scoped>\n",
              "    .dataframe tbody tr th:only-of-type {\n",
              "        vertical-align: middle;\n",
              "    }\n",
              "\n",
              "    .dataframe tbody tr th {\n",
              "        vertical-align: top;\n",
              "    }\n",
              "\n",
              "    .dataframe thead th {\n",
              "        text-align: right;\n",
              "    }\n",
              "</style>\n",
              "<table border=\"1\" class=\"dataframe\">\n",
              "  <thead>\n",
              "    <tr style=\"text-align: right;\">\n",
              "      <th></th>\n",
              "      <th>0</th>\n",
              "    </tr>\n",
              "  </thead>\n",
              "  <tbody>\n",
              "    <tr>\n",
              "      <th>id</th>\n",
              "      <td>0</td>\n",
              "    </tr>\n",
              "    <tr>\n",
              "      <th>title</th>\n",
              "      <td>0</td>\n",
              "    </tr>\n",
              "    <tr>\n",
              "      <th>type</th>\n",
              "      <td>0</td>\n",
              "    </tr>\n",
              "    <tr>\n",
              "      <th>release_year</th>\n",
              "      <td>0</td>\n",
              "    </tr>\n",
              "    <tr>\n",
              "      <th>age_certification</th>\n",
              "      <td>0</td>\n",
              "    </tr>\n",
              "    <tr>\n",
              "      <th>runtime</th>\n",
              "      <td>0</td>\n",
              "    </tr>\n",
              "    <tr>\n",
              "      <th>genres</th>\n",
              "      <td>0</td>\n",
              "    </tr>\n",
              "    <tr>\n",
              "      <th>production_countries</th>\n",
              "      <td>0</td>\n",
              "    </tr>\n",
              "    <tr>\n",
              "      <th>seasons</th>\n",
              "      <td>0</td>\n",
              "    </tr>\n",
              "    <tr>\n",
              "      <th>imdb_score</th>\n",
              "      <td>0</td>\n",
              "    </tr>\n",
              "    <tr>\n",
              "      <th>imdb_votes</th>\n",
              "      <td>0</td>\n",
              "    </tr>\n",
              "    <tr>\n",
              "      <th>tmdb_popularity</th>\n",
              "      <td>0</td>\n",
              "    </tr>\n",
              "    <tr>\n",
              "      <th>tmdb_score</th>\n",
              "      <td>0</td>\n",
              "    </tr>\n",
              "  </tbody>\n",
              "</table>\n",
              "</div>"
            ],
            "text/plain": [
              "                      0\n",
              "id                    0\n",
              "title                 0\n",
              "type                  0\n",
              "release_year          0\n",
              "age_certification     0\n",
              "runtime               0\n",
              "genres                0\n",
              "production_countries  0\n",
              "seasons               0\n",
              "imdb_score            0\n",
              "imdb_votes            0\n",
              "tmdb_popularity       0\n",
              "tmdb_score            0"
            ]
          },
          "execution_count": 22,
          "metadata": {},
          "output_type": "execute_result"
        }
      ],
      "source": [
        "pd.DataFrame(titles.isnull().sum())"
      ]
    },
    {
      "cell_type": "code",
      "execution_count": null,
      "metadata": {
        "id": "03wP4TGDhCFU",
        "outputId": "6b9b16ec-d448-4d8a-a7fc-187e0eda77f3"
      },
      "outputs": [
        {
          "name": "stdout",
          "output_type": "stream",
          "text": [
            "<class 'pandas.core.frame.DataFrame'>\n",
            "Int64Index: 5805 entries, 0 to 5805\n",
            "Data columns (total 13 columns):\n",
            " #   Column                Non-Null Count  Dtype  \n",
            "---  ------                --------------  -----  \n",
            " 0   id                    5805 non-null   object \n",
            " 1   title                 5805 non-null   object \n",
            " 2   type                  5805 non-null   object \n",
            " 3   release_year          5805 non-null   int64  \n",
            " 4   age_certification     5805 non-null   object \n",
            " 5   runtime               5805 non-null   int64  \n",
            " 6   genres                5805 non-null   object \n",
            " 7   production_countries  5805 non-null   object \n",
            " 8   seasons               5805 non-null   float64\n",
            " 9   imdb_score            5805 non-null   float64\n",
            " 10  imdb_votes            5805 non-null   float64\n",
            " 11  tmdb_popularity       5805 non-null   float64\n",
            " 12  tmdb_score            5805 non-null   float64\n",
            "dtypes: float64(5), int64(2), object(6)\n",
            "memory usage: 634.9+ KB\n"
          ]
        }
      ],
      "source": [
        "titles.info()"
      ]
    },
    {
      "cell_type": "code",
      "execution_count": null,
      "metadata": {
        "id": "yoZjfH0LhCFV",
        "outputId": "5706a163-c895-4f25-f6fc-a18f4cceba67"
      },
      "outputs": [
        {
          "data": {
            "text/html": [
              "<div>\n",
              "<style scoped>\n",
              "    .dataframe tbody tr th:only-of-type {\n",
              "        vertical-align: middle;\n",
              "    }\n",
              "\n",
              "    .dataframe tbody tr th {\n",
              "        vertical-align: top;\n",
              "    }\n",
              "\n",
              "    .dataframe thead th {\n",
              "        text-align: right;\n",
              "    }\n",
              "</style>\n",
              "<table border=\"1\" class=\"dataframe\">\n",
              "  <thead>\n",
              "    <tr style=\"text-align: right;\">\n",
              "      <th></th>\n",
              "      <th>release_year</th>\n",
              "      <th>runtime</th>\n",
              "      <th>seasons</th>\n",
              "      <th>imdb_score</th>\n",
              "      <th>imdb_votes</th>\n",
              "      <th>tmdb_popularity</th>\n",
              "      <th>tmdb_score</th>\n",
              "    </tr>\n",
              "  </thead>\n",
              "  <tbody>\n",
              "    <tr>\n",
              "      <th>count</th>\n",
              "      <td>5805.000000</td>\n",
              "      <td>5805.000000</td>\n",
              "      <td>5805.000000</td>\n",
              "      <td>5805.000000</td>\n",
              "      <td>5.805000e+03</td>\n",
              "      <td>5805.000000</td>\n",
              "      <td>5805.000000</td>\n",
              "    </tr>\n",
              "    <tr>\n",
              "      <th>mean</th>\n",
              "      <td>2016.013609</td>\n",
              "      <td>77.655469</td>\n",
              "      <td>1.411025</td>\n",
              "      <td>6.533447</td>\n",
              "      <td>2.340719e+04</td>\n",
              "      <td>22.525660</td>\n",
              "      <td>6.818039</td>\n",
              "    </tr>\n",
              "    <tr>\n",
              "      <th>std</th>\n",
              "      <td>7.325502</td>\n",
              "      <td>39.467866</td>\n",
              "      <td>1.661338</td>\n",
              "      <td>1.107496</td>\n",
              "      <td>8.299768e+04</td>\n",
              "      <td>68.295349</td>\n",
              "      <td>1.139117</td>\n",
              "    </tr>\n",
              "    <tr>\n",
              "      <th>min</th>\n",
              "      <td>1945.000000</td>\n",
              "      <td>0.000000</td>\n",
              "      <td>1.000000</td>\n",
              "      <td>1.500000</td>\n",
              "      <td>5.000000e+00</td>\n",
              "      <td>0.009442</td>\n",
              "      <td>0.500000</td>\n",
              "    </tr>\n",
              "    <tr>\n",
              "      <th>25%</th>\n",
              "      <td>2015.000000</td>\n",
              "      <td>44.000000</td>\n",
              "      <td>1.000000</td>\n",
              "      <td>5.900000</td>\n",
              "      <td>6.080000e+02</td>\n",
              "      <td>3.190000</td>\n",
              "      <td>6.200000</td>\n",
              "    </tr>\n",
              "    <tr>\n",
              "      <th>50%</th>\n",
              "      <td>2018.000000</td>\n",
              "      <td>84.000000</td>\n",
              "      <td>1.000000</td>\n",
              "      <td>6.533447</td>\n",
              "      <td>3.020000e+03</td>\n",
              "      <td>7.710000</td>\n",
              "      <td>6.818039</td>\n",
              "    </tr>\n",
              "    <tr>\n",
              "      <th>75%</th>\n",
              "      <td>2020.000000</td>\n",
              "      <td>105.000000</td>\n",
              "      <td>1.000000</td>\n",
              "      <td>7.300000</td>\n",
              "      <td>2.019400e+04</td>\n",
              "      <td>18.766000</td>\n",
              "      <td>7.500000</td>\n",
              "    </tr>\n",
              "    <tr>\n",
              "      <th>max</th>\n",
              "      <td>2022.000000</td>\n",
              "      <td>251.000000</td>\n",
              "      <td>42.000000</td>\n",
              "      <td>9.600000</td>\n",
              "      <td>2.268288e+06</td>\n",
              "      <td>1823.374000</td>\n",
              "      <td>10.000000</td>\n",
              "    </tr>\n",
              "  </tbody>\n",
              "</table>\n",
              "</div>"
            ],
            "text/plain": [
              "       release_year      runtime      seasons   imdb_score    imdb_votes  \\\n",
              "count   5805.000000  5805.000000  5805.000000  5805.000000  5.805000e+03   \n",
              "mean    2016.013609    77.655469     1.411025     6.533447  2.340719e+04   \n",
              "std        7.325502    39.467866     1.661338     1.107496  8.299768e+04   \n",
              "min     1945.000000     0.000000     1.000000     1.500000  5.000000e+00   \n",
              "25%     2015.000000    44.000000     1.000000     5.900000  6.080000e+02   \n",
              "50%     2018.000000    84.000000     1.000000     6.533447  3.020000e+03   \n",
              "75%     2020.000000   105.000000     1.000000     7.300000  2.019400e+04   \n",
              "max     2022.000000   251.000000    42.000000     9.600000  2.268288e+06   \n",
              "\n",
              "       tmdb_popularity   tmdb_score  \n",
              "count      5805.000000  5805.000000  \n",
              "mean         22.525660     6.818039  \n",
              "std          68.295349     1.139117  \n",
              "min           0.009442     0.500000  \n",
              "25%           3.190000     6.200000  \n",
              "50%           7.710000     6.818039  \n",
              "75%          18.766000     7.500000  \n",
              "max        1823.374000    10.000000  "
            ]
          },
          "execution_count": 24,
          "metadata": {},
          "output_type": "execute_result"
        }
      ],
      "source": [
        "titles.describe()"
      ]
    },
    {
      "cell_type": "code",
      "execution_count": null,
      "metadata": {
        "id": "RDvgyRumhCFV",
        "outputId": "ad95bdba-4b5b-4cdf-d544-204e58ea504d"
      },
      "outputs": [
        {
          "data": {
            "text/html": [
              "<div>\n",
              "<style scoped>\n",
              "    .dataframe tbody tr th:only-of-type {\n",
              "        vertical-align: middle;\n",
              "    }\n",
              "\n",
              "    .dataframe tbody tr th {\n",
              "        vertical-align: top;\n",
              "    }\n",
              "\n",
              "    .dataframe thead th {\n",
              "        text-align: right;\n",
              "    }\n",
              "</style>\n",
              "<table border=\"1\" class=\"dataframe\">\n",
              "  <thead>\n",
              "    <tr style=\"text-align: right;\">\n",
              "      <th></th>\n",
              "      <th>id</th>\n",
              "      <th>title</th>\n",
              "      <th>type</th>\n",
              "      <th>release_year</th>\n",
              "      <th>age_certification</th>\n",
              "      <th>runtime</th>\n",
              "      <th>genres</th>\n",
              "      <th>production_countries</th>\n",
              "      <th>seasons</th>\n",
              "      <th>imdb_score</th>\n",
              "      <th>imdb_votes</th>\n",
              "      <th>tmdb_popularity</th>\n",
              "      <th>tmdb_score</th>\n",
              "    </tr>\n",
              "  </thead>\n",
              "  <tbody>\n",
              "    <tr>\n",
              "      <th>0</th>\n",
              "      <td>ts300399</td>\n",
              "      <td>Five Came Back: The Reference Films</td>\n",
              "      <td>SHOW</td>\n",
              "      <td>1945</td>\n",
              "      <td>TV-MA</td>\n",
              "      <td>48</td>\n",
              "      <td>['documentation']</td>\n",
              "      <td>['US']</td>\n",
              "      <td>1.0</td>\n",
              "      <td>6.533447</td>\n",
              "      <td>23407.194988</td>\n",
              "      <td>0.600</td>\n",
              "      <td>6.818039</td>\n",
              "    </tr>\n",
              "    <tr>\n",
              "      <th>1</th>\n",
              "      <td>tm84618</td>\n",
              "      <td>Taxi Driver</td>\n",
              "      <td>MOVIE</td>\n",
              "      <td>1976</td>\n",
              "      <td>R</td>\n",
              "      <td>113</td>\n",
              "      <td>['crime', 'drama']</td>\n",
              "      <td>['US']</td>\n",
              "      <td>1.0</td>\n",
              "      <td>8.300000</td>\n",
              "      <td>795222.000000</td>\n",
              "      <td>27.612</td>\n",
              "      <td>8.200000</td>\n",
              "    </tr>\n",
              "    <tr>\n",
              "      <th>2</th>\n",
              "      <td>tm127384</td>\n",
              "      <td>Monty Python and the Holy Grail</td>\n",
              "      <td>MOVIE</td>\n",
              "      <td>1975</td>\n",
              "      <td>PG</td>\n",
              "      <td>91</td>\n",
              "      <td>['comedy', 'fantasy']</td>\n",
              "      <td>['GB']</td>\n",
              "      <td>1.0</td>\n",
              "      <td>8.200000</td>\n",
              "      <td>530877.000000</td>\n",
              "      <td>18.216</td>\n",
              "      <td>7.800000</td>\n",
              "    </tr>\n",
              "    <tr>\n",
              "      <th>3</th>\n",
              "      <td>tm70993</td>\n",
              "      <td>Life of Brian</td>\n",
              "      <td>MOVIE</td>\n",
              "      <td>1979</td>\n",
              "      <td>R</td>\n",
              "      <td>94</td>\n",
              "      <td>['comedy']</td>\n",
              "      <td>['GB']</td>\n",
              "      <td>1.0</td>\n",
              "      <td>8.000000</td>\n",
              "      <td>392419.000000</td>\n",
              "      <td>17.505</td>\n",
              "      <td>7.800000</td>\n",
              "    </tr>\n",
              "    <tr>\n",
              "      <th>4</th>\n",
              "      <td>tm190788</td>\n",
              "      <td>The Exorcist</td>\n",
              "      <td>MOVIE</td>\n",
              "      <td>1973</td>\n",
              "      <td>R</td>\n",
              "      <td>133</td>\n",
              "      <td>['horror']</td>\n",
              "      <td>['US']</td>\n",
              "      <td>1.0</td>\n",
              "      <td>8.100000</td>\n",
              "      <td>391942.000000</td>\n",
              "      <td>95.337</td>\n",
              "      <td>7.700000</td>\n",
              "    </tr>\n",
              "    <tr>\n",
              "      <th>...</th>\n",
              "      <td>...</td>\n",
              "      <td>...</td>\n",
              "      <td>...</td>\n",
              "      <td>...</td>\n",
              "      <td>...</td>\n",
              "      <td>...</td>\n",
              "      <td>...</td>\n",
              "      <td>...</td>\n",
              "      <td>...</td>\n",
              "      <td>...</td>\n",
              "      <td>...</td>\n",
              "      <td>...</td>\n",
              "      <td>...</td>\n",
              "    </tr>\n",
              "    <tr>\n",
              "      <th>5801</th>\n",
              "      <td>tm1014599</td>\n",
              "      <td>Fine Wine</td>\n",
              "      <td>MOVIE</td>\n",
              "      <td>2021</td>\n",
              "      <td>G</td>\n",
              "      <td>100</td>\n",
              "      <td>['romance', 'drama']</td>\n",
              "      <td>['NG']</td>\n",
              "      <td>1.0</td>\n",
              "      <td>6.900000</td>\n",
              "      <td>39.000000</td>\n",
              "      <td>0.966</td>\n",
              "      <td>6.818039</td>\n",
              "    </tr>\n",
              "    <tr>\n",
              "      <th>5802</th>\n",
              "      <td>tm1108171</td>\n",
              "      <td>Edis Starlight</td>\n",
              "      <td>MOVIE</td>\n",
              "      <td>2021</td>\n",
              "      <td>G</td>\n",
              "      <td>74</td>\n",
              "      <td>['music', 'documentation']</td>\n",
              "      <td>[]</td>\n",
              "      <td>1.0</td>\n",
              "      <td>6.533447</td>\n",
              "      <td>23407.194988</td>\n",
              "      <td>1.036</td>\n",
              "      <td>8.500000</td>\n",
              "    </tr>\n",
              "    <tr>\n",
              "      <th>5803</th>\n",
              "      <td>tm1045018</td>\n",
              "      <td>Clash</td>\n",
              "      <td>MOVIE</td>\n",
              "      <td>2021</td>\n",
              "      <td>G</td>\n",
              "      <td>88</td>\n",
              "      <td>['family', 'drama']</td>\n",
              "      <td>['NG', 'CA']</td>\n",
              "      <td>1.0</td>\n",
              "      <td>6.500000</td>\n",
              "      <td>32.000000</td>\n",
              "      <td>0.709</td>\n",
              "      <td>6.818039</td>\n",
              "    </tr>\n",
              "    <tr>\n",
              "      <th>5804</th>\n",
              "      <td>tm1098060</td>\n",
              "      <td>Shadow Parties</td>\n",
              "      <td>MOVIE</td>\n",
              "      <td>2021</td>\n",
              "      <td>G</td>\n",
              "      <td>116</td>\n",
              "      <td>['action', 'thriller']</td>\n",
              "      <td>[]</td>\n",
              "      <td>1.0</td>\n",
              "      <td>6.200000</td>\n",
              "      <td>9.000000</td>\n",
              "      <td>2.186</td>\n",
              "      <td>6.818039</td>\n",
              "    </tr>\n",
              "    <tr>\n",
              "      <th>5805</th>\n",
              "      <td>ts271048</td>\n",
              "      <td>Mighty Little Bheem: Kite Festival</td>\n",
              "      <td>SHOW</td>\n",
              "      <td>2021</td>\n",
              "      <td>G</td>\n",
              "      <td>0</td>\n",
              "      <td>['family', 'comedy', 'animation']</td>\n",
              "      <td>[]</td>\n",
              "      <td>1.0</td>\n",
              "      <td>8.800000</td>\n",
              "      <td>16.000000</td>\n",
              "      <td>0.979</td>\n",
              "      <td>10.000000</td>\n",
              "    </tr>\n",
              "  </tbody>\n",
              "</table>\n",
              "<p>5805 rows × 13 columns</p>\n",
              "</div>"
            ],
            "text/plain": [
              "             id                                title   type  release_year  \\\n",
              "0      ts300399  Five Came Back: The Reference Films   SHOW          1945   \n",
              "1       tm84618                          Taxi Driver  MOVIE          1976   \n",
              "2      tm127384      Monty Python and the Holy Grail  MOVIE          1975   \n",
              "3       tm70993                        Life of Brian  MOVIE          1979   \n",
              "4      tm190788                         The Exorcist  MOVIE          1973   \n",
              "...         ...                                  ...    ...           ...   \n",
              "5801  tm1014599                            Fine Wine  MOVIE          2021   \n",
              "5802  tm1108171                       Edis Starlight  MOVIE          2021   \n",
              "5803  tm1045018                                Clash  MOVIE          2021   \n",
              "5804  tm1098060                       Shadow Parties  MOVIE          2021   \n",
              "5805   ts271048   Mighty Little Bheem: Kite Festival   SHOW          2021   \n",
              "\n",
              "     age_certification  runtime                             genres  \\\n",
              "0                TV-MA       48                  ['documentation']   \n",
              "1                    R      113                 ['crime', 'drama']   \n",
              "2                   PG       91              ['comedy', 'fantasy']   \n",
              "3                    R       94                         ['comedy']   \n",
              "4                    R      133                         ['horror']   \n",
              "...                ...      ...                                ...   \n",
              "5801                 G      100               ['romance', 'drama']   \n",
              "5802                 G       74         ['music', 'documentation']   \n",
              "5803                 G       88                ['family', 'drama']   \n",
              "5804                 G      116             ['action', 'thriller']   \n",
              "5805                 G        0  ['family', 'comedy', 'animation']   \n",
              "\n",
              "     production_countries  seasons  imdb_score     imdb_votes  \\\n",
              "0                  ['US']      1.0    6.533447   23407.194988   \n",
              "1                  ['US']      1.0    8.300000  795222.000000   \n",
              "2                  ['GB']      1.0    8.200000  530877.000000   \n",
              "3                  ['GB']      1.0    8.000000  392419.000000   \n",
              "4                  ['US']      1.0    8.100000  391942.000000   \n",
              "...                   ...      ...         ...            ...   \n",
              "5801               ['NG']      1.0    6.900000      39.000000   \n",
              "5802                   []      1.0    6.533447   23407.194988   \n",
              "5803         ['NG', 'CA']      1.0    6.500000      32.000000   \n",
              "5804                   []      1.0    6.200000       9.000000   \n",
              "5805                   []      1.0    8.800000      16.000000   \n",
              "\n",
              "      tmdb_popularity  tmdb_score  \n",
              "0               0.600    6.818039  \n",
              "1              27.612    8.200000  \n",
              "2              18.216    7.800000  \n",
              "3              17.505    7.800000  \n",
              "4              95.337    7.700000  \n",
              "...               ...         ...  \n",
              "5801            0.966    6.818039  \n",
              "5802            1.036    8.500000  \n",
              "5803            0.709    6.818039  \n",
              "5804            2.186    6.818039  \n",
              "5805            0.979   10.000000  \n",
              "\n",
              "[5805 rows x 13 columns]"
            ]
          },
          "execution_count": 25,
          "metadata": {},
          "output_type": "execute_result"
        }
      ],
      "source": [
        "titles"
      ]
    },
    {
      "cell_type": "code",
      "execution_count": null,
      "metadata": {
        "id": "gEA80UyghCFV",
        "outputId": "fd4ee7aa-b6ec-4d77-ae4a-a96b680a0633"
      },
      "outputs": [
        {
          "data": {
            "text/plain": [
              "(5805, 13)"
            ]
          },
          "execution_count": 59,
          "metadata": {},
          "output_type": "execute_result"
        }
      ],
      "source": [
        "titles.drop_duplicates(subset =\"id\",\n",
        "                     keep = False, inplace = True,ignore_index=True)\n",
        "titles.shape"
      ]
    },
    {
      "cell_type": "markdown",
      "metadata": {
        "id": "k8No9Fd1hCFW"
      },
      "source": [
        "<span style=\"color:#E50914;font-size:28px; font-style:bold;\"><u><b> Creating new Dataset of netflix</b></u></span>"
      ]
    },
    {
      "cell_type": "markdown",
      "metadata": {
        "id": "IBxduQOFhCFW"
      },
      "source": [
        "<span style=\"color:black;font-size:25px; font-style:bold;\"><b>Merge  Titles Dataset with credits dataset</b></span>"
      ]
    },
    {
      "cell_type": "code",
      "execution_count": null,
      "metadata": {
        "id": "sFqetBC5hCFW"
      },
      "outputs": [],
      "source": [
        "# Merge  Titles Dataset with credits dataset \n",
        "netflix=titles.merge(credits,how='inner',on='id')"
      ]
    },
    {
      "cell_type": "code",
      "execution_count": null,
      "metadata": {
        "id": "LjDce3QLhCFX",
        "outputId": "036f6185-875e-4fcf-a639-4113b2bdeb04"
      },
      "outputs": [
        {
          "data": {
            "text/plain": [
              "((77213, 5), (5805, 13))"
            ]
          },
          "execution_count": 27,
          "metadata": {},
          "output_type": "execute_result"
        }
      ],
      "source": [
        "credits.shape,titles.shape"
      ]
    },
    {
      "cell_type": "code",
      "execution_count": null,
      "metadata": {
        "id": "x7SCShiAhCFX",
        "outputId": "e517bb4e-197a-46d4-efca-246ad89f4aa0"
      },
      "outputs": [
        {
          "data": {
            "text/plain": [
              "(77212, 17)"
            ]
          },
          "execution_count": 28,
          "metadata": {},
          "output_type": "execute_result"
        }
      ],
      "source": [
        "# netflix shape\n",
        "netflix.shape"
      ]
    },
    {
      "cell_type": "code",
      "execution_count": null,
      "metadata": {
        "id": "KrVgxmBXhCFX",
        "outputId": "2c68be50-d710-4626-b259-f3bbdbc9f58e"
      },
      "outputs": [
        {
          "data": {
            "text/html": [
              "<div>\n",
              "<style scoped>\n",
              "    .dataframe tbody tr th:only-of-type {\n",
              "        vertical-align: middle;\n",
              "    }\n",
              "\n",
              "    .dataframe tbody tr th {\n",
              "        vertical-align: top;\n",
              "    }\n",
              "\n",
              "    .dataframe thead th {\n",
              "        text-align: right;\n",
              "    }\n",
              "</style>\n",
              "<table border=\"1\" class=\"dataframe\">\n",
              "  <thead>\n",
              "    <tr style=\"text-align: right;\">\n",
              "      <th></th>\n",
              "      <th>id</th>\n",
              "      <th>title</th>\n",
              "      <th>type</th>\n",
              "      <th>release_year</th>\n",
              "      <th>age_certification</th>\n",
              "      <th>runtime</th>\n",
              "      <th>genres</th>\n",
              "      <th>production_countries</th>\n",
              "      <th>seasons</th>\n",
              "      <th>imdb_score</th>\n",
              "      <th>imdb_votes</th>\n",
              "      <th>tmdb_popularity</th>\n",
              "      <th>tmdb_score</th>\n",
              "      <th>person_id</th>\n",
              "      <th>name</th>\n",
              "      <th>character</th>\n",
              "      <th>role</th>\n",
              "    </tr>\n",
              "  </thead>\n",
              "  <tbody>\n",
              "    <tr>\n",
              "      <th>0</th>\n",
              "      <td>tm84618</td>\n",
              "      <td>Taxi Driver</td>\n",
              "      <td>MOVIE</td>\n",
              "      <td>1976</td>\n",
              "      <td>R</td>\n",
              "      <td>113</td>\n",
              "      <td>['crime', 'drama']</td>\n",
              "      <td>['US']</td>\n",
              "      <td>1.0</td>\n",
              "      <td>8.3</td>\n",
              "      <td>795222.0</td>\n",
              "      <td>27.612</td>\n",
              "      <td>8.2</td>\n",
              "      <td>3748</td>\n",
              "      <td>Robert De Niro</td>\n",
              "      <td>Travis Bickle</td>\n",
              "      <td>ACTOR</td>\n",
              "    </tr>\n",
              "    <tr>\n",
              "      <th>1</th>\n",
              "      <td>tm84618</td>\n",
              "      <td>Taxi Driver</td>\n",
              "      <td>MOVIE</td>\n",
              "      <td>1976</td>\n",
              "      <td>R</td>\n",
              "      <td>113</td>\n",
              "      <td>['crime', 'drama']</td>\n",
              "      <td>['US']</td>\n",
              "      <td>1.0</td>\n",
              "      <td>8.3</td>\n",
              "      <td>795222.0</td>\n",
              "      <td>27.612</td>\n",
              "      <td>8.2</td>\n",
              "      <td>14658</td>\n",
              "      <td>Jodie Foster</td>\n",
              "      <td>Iris Steensma</td>\n",
              "      <td>ACTOR</td>\n",
              "    </tr>\n",
              "    <tr>\n",
              "      <th>2</th>\n",
              "      <td>tm84618</td>\n",
              "      <td>Taxi Driver</td>\n",
              "      <td>MOVIE</td>\n",
              "      <td>1976</td>\n",
              "      <td>R</td>\n",
              "      <td>113</td>\n",
              "      <td>['crime', 'drama']</td>\n",
              "      <td>['US']</td>\n",
              "      <td>1.0</td>\n",
              "      <td>8.3</td>\n",
              "      <td>795222.0</td>\n",
              "      <td>27.612</td>\n",
              "      <td>8.2</td>\n",
              "      <td>7064</td>\n",
              "      <td>Albert Brooks</td>\n",
              "      <td>Tom</td>\n",
              "      <td>ACTOR</td>\n",
              "    </tr>\n",
              "    <tr>\n",
              "      <th>3</th>\n",
              "      <td>tm84618</td>\n",
              "      <td>Taxi Driver</td>\n",
              "      <td>MOVIE</td>\n",
              "      <td>1976</td>\n",
              "      <td>R</td>\n",
              "      <td>113</td>\n",
              "      <td>['crime', 'drama']</td>\n",
              "      <td>['US']</td>\n",
              "      <td>1.0</td>\n",
              "      <td>8.3</td>\n",
              "      <td>795222.0</td>\n",
              "      <td>27.612</td>\n",
              "      <td>8.2</td>\n",
              "      <td>3739</td>\n",
              "      <td>Harvey Keitel</td>\n",
              "      <td>Matthew 'Sport' Higgins</td>\n",
              "      <td>ACTOR</td>\n",
              "    </tr>\n",
              "    <tr>\n",
              "      <th>4</th>\n",
              "      <td>tm84618</td>\n",
              "      <td>Taxi Driver</td>\n",
              "      <td>MOVIE</td>\n",
              "      <td>1976</td>\n",
              "      <td>R</td>\n",
              "      <td>113</td>\n",
              "      <td>['crime', 'drama']</td>\n",
              "      <td>['US']</td>\n",
              "      <td>1.0</td>\n",
              "      <td>8.3</td>\n",
              "      <td>795222.0</td>\n",
              "      <td>27.612</td>\n",
              "      <td>8.2</td>\n",
              "      <td>48933</td>\n",
              "      <td>Cybill Shepherd</td>\n",
              "      <td>Betsy</td>\n",
              "      <td>ACTOR</td>\n",
              "    </tr>\n",
              "  </tbody>\n",
              "</table>\n",
              "</div>"
            ],
            "text/plain": [
              "        id        title   type  release_year age_certification  runtime  \\\n",
              "0  tm84618  Taxi Driver  MOVIE          1976                 R      113   \n",
              "1  tm84618  Taxi Driver  MOVIE          1976                 R      113   \n",
              "2  tm84618  Taxi Driver  MOVIE          1976                 R      113   \n",
              "3  tm84618  Taxi Driver  MOVIE          1976                 R      113   \n",
              "4  tm84618  Taxi Driver  MOVIE          1976                 R      113   \n",
              "\n",
              "               genres production_countries  seasons  imdb_score  imdb_votes  \\\n",
              "0  ['crime', 'drama']               ['US']      1.0         8.3    795222.0   \n",
              "1  ['crime', 'drama']               ['US']      1.0         8.3    795222.0   \n",
              "2  ['crime', 'drama']               ['US']      1.0         8.3    795222.0   \n",
              "3  ['crime', 'drama']               ['US']      1.0         8.3    795222.0   \n",
              "4  ['crime', 'drama']               ['US']      1.0         8.3    795222.0   \n",
              "\n",
              "   tmdb_popularity  tmdb_score  person_id             name  \\\n",
              "0           27.612         8.2       3748   Robert De Niro   \n",
              "1           27.612         8.2      14658     Jodie Foster   \n",
              "2           27.612         8.2       7064    Albert Brooks   \n",
              "3           27.612         8.2       3739    Harvey Keitel   \n",
              "4           27.612         8.2      48933  Cybill Shepherd   \n",
              "\n",
              "                 character   role  \n",
              "0            Travis Bickle  ACTOR  \n",
              "1            Iris Steensma  ACTOR  \n",
              "2                      Tom  ACTOR  \n",
              "3  Matthew 'Sport' Higgins  ACTOR  \n",
              "4                    Betsy  ACTOR  "
            ]
          },
          "execution_count": 29,
          "metadata": {},
          "output_type": "execute_result"
        }
      ],
      "source": [
        "# netflix dataset\n",
        "netflix.head()"
      ]
    },
    {
      "cell_type": "code",
      "execution_count": null,
      "metadata": {
        "id": "oQM-4nX0hCFY",
        "outputId": "4de7de0f-02f8-4280-f7a4-c83edc7dca25"
      },
      "outputs": [
        {
          "data": {
            "text/plain": [
              "(321, 17)"
            ]
          },
          "execution_count": 30,
          "metadata": {},
          "output_type": "execute_result"
        }
      ],
      "source": [
        "netflix.drop_duplicates(subset =\"id\",\n",
        "                     keep = False, inplace = True,ignore_index=True)\n",
        "netflix.shape\n",
        "\n"
      ]
    },
    {
      "cell_type": "code",
      "execution_count": null,
      "metadata": {
        "id": "_LsaxAX2hCFY",
        "outputId": "0a6c8b75-5765-4124-ee57-058f8c726f9b"
      },
      "outputs": [
        {
          "data": {
            "text/html": [
              "<div>\n",
              "<style scoped>\n",
              "    .dataframe tbody tr th:only-of-type {\n",
              "        vertical-align: middle;\n",
              "    }\n",
              "\n",
              "    .dataframe tbody tr th {\n",
              "        vertical-align: top;\n",
              "    }\n",
              "\n",
              "    .dataframe thead th {\n",
              "        text-align: right;\n",
              "    }\n",
              "</style>\n",
              "<table border=\"1\" class=\"dataframe\">\n",
              "  <thead>\n",
              "    <tr style=\"text-align: right;\">\n",
              "      <th></th>\n",
              "      <th>0</th>\n",
              "    </tr>\n",
              "  </thead>\n",
              "  <tbody>\n",
              "    <tr>\n",
              "      <th>id</th>\n",
              "      <td>0</td>\n",
              "    </tr>\n",
              "    <tr>\n",
              "      <th>title</th>\n",
              "      <td>0</td>\n",
              "    </tr>\n",
              "    <tr>\n",
              "      <th>type</th>\n",
              "      <td>0</td>\n",
              "    </tr>\n",
              "    <tr>\n",
              "      <th>release_year</th>\n",
              "      <td>0</td>\n",
              "    </tr>\n",
              "    <tr>\n",
              "      <th>age_certification</th>\n",
              "      <td>0</td>\n",
              "    </tr>\n",
              "    <tr>\n",
              "      <th>runtime</th>\n",
              "      <td>0</td>\n",
              "    </tr>\n",
              "    <tr>\n",
              "      <th>genres</th>\n",
              "      <td>0</td>\n",
              "    </tr>\n",
              "    <tr>\n",
              "      <th>production_countries</th>\n",
              "      <td>0</td>\n",
              "    </tr>\n",
              "    <tr>\n",
              "      <th>seasons</th>\n",
              "      <td>0</td>\n",
              "    </tr>\n",
              "    <tr>\n",
              "      <th>imdb_score</th>\n",
              "      <td>0</td>\n",
              "    </tr>\n",
              "    <tr>\n",
              "      <th>imdb_votes</th>\n",
              "      <td>0</td>\n",
              "    </tr>\n",
              "    <tr>\n",
              "      <th>tmdb_popularity</th>\n",
              "      <td>0</td>\n",
              "    </tr>\n",
              "    <tr>\n",
              "      <th>tmdb_score</th>\n",
              "      <td>0</td>\n",
              "    </tr>\n",
              "    <tr>\n",
              "      <th>person_id</th>\n",
              "      <td>0</td>\n",
              "    </tr>\n",
              "    <tr>\n",
              "      <th>name</th>\n",
              "      <td>0</td>\n",
              "    </tr>\n",
              "    <tr>\n",
              "      <th>character</th>\n",
              "      <td>159</td>\n",
              "    </tr>\n",
              "    <tr>\n",
              "      <th>role</th>\n",
              "      <td>0</td>\n",
              "    </tr>\n",
              "  </tbody>\n",
              "</table>\n",
              "</div>"
            ],
            "text/plain": [
              "                        0\n",
              "id                      0\n",
              "title                   0\n",
              "type                    0\n",
              "release_year            0\n",
              "age_certification       0\n",
              "runtime                 0\n",
              "genres                  0\n",
              "production_countries    0\n",
              "seasons                 0\n",
              "imdb_score              0\n",
              "imdb_votes              0\n",
              "tmdb_popularity         0\n",
              "tmdb_score              0\n",
              "person_id               0\n",
              "name                    0\n",
              "character             159\n",
              "role                    0"
            ]
          },
          "execution_count": 31,
          "metadata": {},
          "output_type": "execute_result"
        }
      ],
      "source": [
        "# null value checking\n",
        "pd.DataFrame(netflix.isnull().sum())"
      ]
    },
    {
      "cell_type": "code",
      "execution_count": null,
      "metadata": {
        "id": "JT5XVwIRhCFZ"
      },
      "outputs": [],
      "source": [
        "# drop character columne\n",
        "netflix.drop('character',axis=1,inplace=True)"
      ]
    },
    {
      "cell_type": "code",
      "execution_count": null,
      "metadata": {
        "id": "7CCKSL-4hCFZ",
        "outputId": "cc20ace4-d2f0-41f4-a1e0-defd0ec5bb8e"
      },
      "outputs": [
        {
          "data": {
            "text/html": [
              "<div>\n",
              "<style scoped>\n",
              "    .dataframe tbody tr th:only-of-type {\n",
              "        vertical-align: middle;\n",
              "    }\n",
              "\n",
              "    .dataframe tbody tr th {\n",
              "        vertical-align: top;\n",
              "    }\n",
              "\n",
              "    .dataframe thead th {\n",
              "        text-align: right;\n",
              "    }\n",
              "</style>\n",
              "<table border=\"1\" class=\"dataframe\">\n",
              "  <thead>\n",
              "    <tr style=\"text-align: right;\">\n",
              "      <th></th>\n",
              "      <th>0</th>\n",
              "    </tr>\n",
              "  </thead>\n",
              "  <tbody>\n",
              "    <tr>\n",
              "      <th>id</th>\n",
              "      <td>0</td>\n",
              "    </tr>\n",
              "    <tr>\n",
              "      <th>title</th>\n",
              "      <td>0</td>\n",
              "    </tr>\n",
              "    <tr>\n",
              "      <th>type</th>\n",
              "      <td>0</td>\n",
              "    </tr>\n",
              "    <tr>\n",
              "      <th>release_year</th>\n",
              "      <td>0</td>\n",
              "    </tr>\n",
              "    <tr>\n",
              "      <th>age_certification</th>\n",
              "      <td>0</td>\n",
              "    </tr>\n",
              "    <tr>\n",
              "      <th>runtime</th>\n",
              "      <td>0</td>\n",
              "    </tr>\n",
              "    <tr>\n",
              "      <th>genres</th>\n",
              "      <td>0</td>\n",
              "    </tr>\n",
              "    <tr>\n",
              "      <th>production_countries</th>\n",
              "      <td>0</td>\n",
              "    </tr>\n",
              "    <tr>\n",
              "      <th>seasons</th>\n",
              "      <td>0</td>\n",
              "    </tr>\n",
              "    <tr>\n",
              "      <th>imdb_score</th>\n",
              "      <td>0</td>\n",
              "    </tr>\n",
              "    <tr>\n",
              "      <th>imdb_votes</th>\n",
              "      <td>0</td>\n",
              "    </tr>\n",
              "    <tr>\n",
              "      <th>tmdb_popularity</th>\n",
              "      <td>0</td>\n",
              "    </tr>\n",
              "    <tr>\n",
              "      <th>tmdb_score</th>\n",
              "      <td>0</td>\n",
              "    </tr>\n",
              "    <tr>\n",
              "      <th>person_id</th>\n",
              "      <td>0</td>\n",
              "    </tr>\n",
              "    <tr>\n",
              "      <th>name</th>\n",
              "      <td>0</td>\n",
              "    </tr>\n",
              "    <tr>\n",
              "      <th>role</th>\n",
              "      <td>0</td>\n",
              "    </tr>\n",
              "  </tbody>\n",
              "</table>\n",
              "</div>"
            ],
            "text/plain": [
              "                      0\n",
              "id                    0\n",
              "title                 0\n",
              "type                  0\n",
              "release_year          0\n",
              "age_certification     0\n",
              "runtime               0\n",
              "genres                0\n",
              "production_countries  0\n",
              "seasons               0\n",
              "imdb_score            0\n",
              "imdb_votes            0\n",
              "tmdb_popularity       0\n",
              "tmdb_score            0\n",
              "person_id             0\n",
              "name                  0\n",
              "role                  0"
            ]
          },
          "execution_count": 33,
          "metadata": {},
          "output_type": "execute_result"
        }
      ],
      "source": [
        "# Final clean  netflix data\n",
        "pd.DataFrame(netflix.isnull().sum())"
      ]
    },
    {
      "cell_type": "code",
      "execution_count": null,
      "metadata": {
        "id": "WEWueuGohCFZ",
        "outputId": "01f38ee5-1622-4335-d3f9-65c391dd935a"
      },
      "outputs": [
        {
          "name": "stdout",
          "output_type": "stream",
          "text": [
            "(321, 16)\n"
          ]
        },
        {
          "data": {
            "text/html": [
              "<div>\n",
              "<style scoped>\n",
              "    .dataframe tbody tr th:only-of-type {\n",
              "        vertical-align: middle;\n",
              "    }\n",
              "\n",
              "    .dataframe tbody tr th {\n",
              "        vertical-align: top;\n",
              "    }\n",
              "\n",
              "    .dataframe thead th {\n",
              "        text-align: right;\n",
              "    }\n",
              "</style>\n",
              "<table border=\"1\" class=\"dataframe\">\n",
              "  <thead>\n",
              "    <tr style=\"text-align: right;\">\n",
              "      <th></th>\n",
              "      <th>id</th>\n",
              "      <th>title</th>\n",
              "      <th>type</th>\n",
              "      <th>release_year</th>\n",
              "      <th>age_certification</th>\n",
              "      <th>runtime</th>\n",
              "      <th>genres</th>\n",
              "      <th>production_countries</th>\n",
              "      <th>seasons</th>\n",
              "      <th>imdb_score</th>\n",
              "      <th>imdb_votes</th>\n",
              "      <th>tmdb_popularity</th>\n",
              "      <th>tmdb_score</th>\n",
              "      <th>person_id</th>\n",
              "      <th>name</th>\n",
              "      <th>role</th>\n",
              "    </tr>\n",
              "  </thead>\n",
              "  <tbody>\n",
              "    <tr>\n",
              "      <th>0</th>\n",
              "      <td>tm259855</td>\n",
              "      <td>We Are All for the Fatherland</td>\n",
              "      <td>MOVIE</td>\n",
              "      <td>1979</td>\n",
              "      <td>G</td>\n",
              "      <td>74</td>\n",
              "      <td>['documentation']</td>\n",
              "      <td>['FR', 'LB', 'CA']</td>\n",
              "      <td>1.0</td>\n",
              "      <td>6.2</td>\n",
              "      <td>43.0</td>\n",
              "      <td>0.600</td>\n",
              "      <td>5.300000</td>\n",
              "      <td>479396</td>\n",
              "      <td>Maroun Bagdadi</td>\n",
              "      <td>DIRECTOR</td>\n",
              "    </tr>\n",
              "    <tr>\n",
              "      <th>1</th>\n",
              "      <td>tm259684</td>\n",
              "      <td>Whispers</td>\n",
              "      <td>MOVIE</td>\n",
              "      <td>1980</td>\n",
              "      <td>G</td>\n",
              "      <td>93</td>\n",
              "      <td>['documentation']</td>\n",
              "      <td>['FR', 'LB', 'CA']</td>\n",
              "      <td>1.0</td>\n",
              "      <td>7.8</td>\n",
              "      <td>75.0</td>\n",
              "      <td>1.400</td>\n",
              "      <td>5.000000</td>\n",
              "      <td>479396</td>\n",
              "      <td>Maroun Bagdadi</td>\n",
              "      <td>DIRECTOR</td>\n",
              "    </tr>\n",
              "    <tr>\n",
              "      <th>2</th>\n",
              "      <td>tm403346</td>\n",
              "      <td>Chadi Jawani Budhe Nu</td>\n",
              "      <td>MOVIE</td>\n",
              "      <td>1976</td>\n",
              "      <td>G</td>\n",
              "      <td>135</td>\n",
              "      <td>['romance']</td>\n",
              "      <td>['IN']</td>\n",
              "      <td>1.0</td>\n",
              "      <td>4.6</td>\n",
              "      <td>14.0</td>\n",
              "      <td>1.240</td>\n",
              "      <td>6.000000</td>\n",
              "      <td>522301</td>\n",
              "      <td>A. Salaam</td>\n",
              "      <td>DIRECTOR</td>\n",
              "    </tr>\n",
              "    <tr>\n",
              "      <th>3</th>\n",
              "      <td>ts21715</td>\n",
              "      <td>Thomas &amp; Friends</td>\n",
              "      <td>SHOW</td>\n",
              "      <td>1984</td>\n",
              "      <td>TV-Y</td>\n",
              "      <td>10</td>\n",
              "      <td>['family', 'comedy', 'music', 'action', 'anima...</td>\n",
              "      <td>['GB']</td>\n",
              "      <td>24.0</td>\n",
              "      <td>6.5</td>\n",
              "      <td>4948.0</td>\n",
              "      <td>49.384</td>\n",
              "      <td>6.600000</td>\n",
              "      <td>1381431</td>\n",
              "      <td>Rachael Louise Miller</td>\n",
              "      <td>ACTOR</td>\n",
              "    </tr>\n",
              "    <tr>\n",
              "      <th>4</th>\n",
              "      <td>ts63001</td>\n",
              "      <td>High Risk</td>\n",
              "      <td>SHOW</td>\n",
              "      <td>1988</td>\n",
              "      <td>TV-PG</td>\n",
              "      <td>50</td>\n",
              "      <td>['comedy']</td>\n",
              "      <td>['US']</td>\n",
              "      <td>1.0</td>\n",
              "      <td>3.8</td>\n",
              "      <td>6.0</td>\n",
              "      <td>0.600</td>\n",
              "      <td>6.818039</td>\n",
              "      <td>115048</td>\n",
              "      <td>Wayne Rogers</td>\n",
              "      <td>ACTOR</td>\n",
              "    </tr>\n",
              "  </tbody>\n",
              "</table>\n",
              "</div>"
            ],
            "text/plain": [
              "         id                          title   type  release_year  \\\n",
              "0  tm259855  We Are All for the Fatherland  MOVIE          1979   \n",
              "1  tm259684                       Whispers  MOVIE          1980   \n",
              "2  tm403346          Chadi Jawani Budhe Nu  MOVIE          1976   \n",
              "3   ts21715               Thomas & Friends   SHOW          1984   \n",
              "4   ts63001                      High Risk   SHOW          1988   \n",
              "\n",
              "  age_certification  runtime  \\\n",
              "0                 G       74   \n",
              "1                 G       93   \n",
              "2                 G      135   \n",
              "3              TV-Y       10   \n",
              "4             TV-PG       50   \n",
              "\n",
              "                                              genres production_countries  \\\n",
              "0                                  ['documentation']   ['FR', 'LB', 'CA']   \n",
              "1                                  ['documentation']   ['FR', 'LB', 'CA']   \n",
              "2                                        ['romance']               ['IN']   \n",
              "3  ['family', 'comedy', 'music', 'action', 'anima...               ['GB']   \n",
              "4                                         ['comedy']               ['US']   \n",
              "\n",
              "   seasons  imdb_score  imdb_votes  tmdb_popularity  tmdb_score  person_id  \\\n",
              "0      1.0         6.2        43.0            0.600    5.300000     479396   \n",
              "1      1.0         7.8        75.0            1.400    5.000000     479396   \n",
              "2      1.0         4.6        14.0            1.240    6.000000     522301   \n",
              "3     24.0         6.5      4948.0           49.384    6.600000    1381431   \n",
              "4      1.0         3.8         6.0            0.600    6.818039     115048   \n",
              "\n",
              "                    name      role  \n",
              "0         Maroun Bagdadi  DIRECTOR  \n",
              "1         Maroun Bagdadi  DIRECTOR  \n",
              "2              A. Salaam  DIRECTOR  \n",
              "3  Rachael Louise Miller     ACTOR  \n",
              "4           Wayne Rogers     ACTOR  "
            ]
          },
          "execution_count": 34,
          "metadata": {},
          "output_type": "execute_result"
        }
      ],
      "source": [
        "# netflix head\n",
        "print(netflix.shape)\n",
        "netflix.head()"
      ]
    },
    {
      "cell_type": "code",
      "execution_count": null,
      "metadata": {
        "id": "5xiLAI1NhCFZ",
        "outputId": "40de0623-f5e7-43fd-94d7-e75be2a65821"
      },
      "outputs": [
        {
          "data": {
            "application/javascript": [
              "window.require && require([\"base/js/namespace\"],function(Jupyter){Jupyter.notebook.save_checkpoint()})"
            ],
            "text/plain": [
              "<IPython.core.display.Javascript object>"
            ]
          },
          "metadata": {},
          "output_type": "display_data"
        },
        {
          "name": "stdout",
          "output_type": "stream",
          "text": [
            "[jovian] Updating notebook \"poojadas2014-pd/netflix-movies-and-tv-shows\" on https://jovian.ai\u001b[0m\n",
            "[jovian] Committed successfully! https://jovian.ai/poojadas2014-pd/netflix-movies-and-tv-shows\u001b[0m\n"
          ]
        },
        {
          "data": {
            "text/plain": [
              "'https://jovian.ai/poojadas2014-pd/netflix-movies-and-tv-shows'"
            ]
          },
          "execution_count": 35,
          "metadata": {},
          "output_type": "execute_result"
        }
      ],
      "source": [
        "jovian.commit()"
      ]
    },
    {
      "cell_type": "markdown",
      "metadata": {
        "id": "VOri1uyehCFa"
      },
      "source": [
        "## Exploratory Analysis and Visualization\n",
        "\n",
        "**First we will begin analysis on the entire Netflix dataset consisting of both movies and shows. Revisiting the data, let us see how it looked like again.** \n"
      ]
    },
    {
      "cell_type": "markdown",
      "metadata": {
        "id": "gGo9USI6hCFa"
      },
      "source": [
        "> Instructions (delete this cell)\n",
        "> \n",
        "> - Compute the mean, sum, range and other interesting statistics for numeric columns\n",
        "> - Explore distributions of numeric columns using histograms etc.\n",
        "> - Explore relationship between columns using scatter plots, bar charts etc.\n",
        "> - Make a note of interesting insights from the exploratory analysis"
      ]
    },
    {
      "cell_type": "markdown",
      "metadata": {
        "id": "y--KY-zwhCFa"
      },
      "source": [
        "Let's begin by importing`matplotlib.pyplot` and `seaborn`."
      ]
    },
    {
      "cell_type": "code",
      "execution_count": null,
      "metadata": {
        "id": "VVWn5RPThCFb"
      },
      "outputs": [],
      "source": [
        "sns.set_style('darkgrid')\n",
        "matplotlib.rcParams['font.size'] = 14\n",
        "matplotlib.rcParams['figure.figsize'] = (9, 5)\n",
        "matplotlib.rcParams['figure.facecolor'] = '#00000000'"
      ]
    },
    {
      "cell_type": "markdown",
      "metadata": {
        "id": "xH4X6uqghCFb"
      },
      "source": [
        "**TODO** - Explore one or more columns by plotting a graph below, and add some explanation about it"
      ]
    },
    {
      "cell_type": "code",
      "execution_count": null,
      "metadata": {
        "id": "L0ki35DihCFb",
        "outputId": "ade642c2-7d09-4853-b629-9310c9b4179d"
      },
      "outputs": [
        {
          "data": {
            "text/html": [
              "        <script type=\"text/javascript\">\n",
              "        window.PlotlyConfig = {MathJaxConfig: 'local'};\n",
              "        if (window.MathJax && window.MathJax.Hub && window.MathJax.Hub.Config) {window.MathJax.Hub.Config({SVG: {font: \"STIX-Web\"}});}\n",
              "        if (typeof require !== 'undefined') {\n",
              "        require.undef(\"plotly\");\n",
              "        requirejs.config({\n",
              "            paths: {\n",
              "                'plotly': ['https://cdn.plot.ly/plotly-2.12.1.min']\n",
              "            }\n",
              "        });\n",
              "        require(['plotly'], function(Plotly) {\n",
              "            window._Plotly = Plotly;\n",
              "        });\n",
              "        }\n",
              "        </script>\n",
              "        "
            ]
          },
          "metadata": {},
          "output_type": "display_data"
        },
        {
          "data": {
            "text/html": [
              "        <script type=\"text/javascript\">\n",
              "        window.PlotlyConfig = {MathJaxConfig: 'local'};\n",
              "        if (window.MathJax && window.MathJax.Hub && window.MathJax.Hub.Config) {window.MathJax.Hub.Config({SVG: {font: \"STIX-Web\"}});}\n",
              "        if (typeof require !== 'undefined') {\n",
              "        require.undef(\"plotly\");\n",
              "        requirejs.config({\n",
              "            paths: {\n",
              "                'plotly': ['https://cdn.plot.ly/plotly-2.12.1.min']\n",
              "            }\n",
              "        });\n",
              "        require(['plotly'], function(Plotly) {\n",
              "            window._Plotly = Plotly;\n",
              "        });\n",
              "        }\n",
              "        </script>\n",
              "        "
            ]
          },
          "metadata": {},
          "output_type": "display_data"
        }
      ],
      "source": [
        "py.offline.init_notebook_mode(connected=True)\n",
        "cf.go_offline()\n",
        "cf.set_config_file(theme='solar')"
      ]
    },
    {
      "cell_type": "code",
      "execution_count": null,
      "metadata": {
        "id": "_TbgNTo3hCFb",
        "outputId": "44ecdd70-84a4-433d-8ffa-0f2bf74c71cf"
      },
      "outputs": [
        {
          "data": {
            "text/plain": [
              "Index(['id', 'title', 'type', 'release_year', 'age_certification', 'runtime',\n",
              "       'genres', 'production_countries', 'seasons', 'imdb_score', 'imdb_votes',\n",
              "       'tmdb_popularity', 'tmdb_score', 'person_id', 'name', 'role'],\n",
              "      dtype='object')"
            ]
          },
          "execution_count": 49,
          "metadata": {},
          "output_type": "execute_result"
        }
      ],
      "source": [
        "netflix.columns"
      ]
    },
    {
      "cell_type": "code",
      "execution_count": null,
      "metadata": {
        "id": "miLR15jshCFc",
        "outputId": "8884e1d6-ce09-4ca6-d758-157a253a8e57"
      },
      "outputs": [
        {
          "data": {
            "image/png": "[encoded data removed]",
            "text/plain": [
              "<Figure size 720x360 with 1 Axes>"
            ]
          },
          "metadata": {
            "needs_background": "light"
          },
          "output_type": "display_data"
        }
      ],
      "source": [
        "plt.figure(figsize=(10,5))\n",
        "plt.title('Type of shows on Netflix')\n",
        "sns.barplot(x=netflix['type'], y=netflix.tmdb_score,hue=netflix['role']);\n"
      ]
    },
    {
      "cell_type": "code",
      "execution_count": null,
      "metadata": {
        "id": "0awiTb1chCFc",
        "outputId": "e9af8c94-2dc9-4e10-e8d4-139a452ecf58"
      },
      "outputs": [
        {
          "data": {
            "application/vnd.plotly.v1+json": {
              "config": {
                "linkText": "Export to plot.ly",
                "plotlyServerURL": "https://plot.ly",
                "showLink": true
              },
              "data": [
                {
                  "line": {
                    "color": "rgba(255, 153, 51, 1.0)",
                    "dash": "solid",
                    "shape": "linear",
                    "width": 1.3
                  },
                  "mode": "lines",
                  "name": "type",
                  "text": "",
                  "type": "scatter",
                  "x": [
                    1979,
                    1980,
                    1976,
                    1984,
                    1988,
                    1983,
                    2000,
                    1998,
                    1995,
                    1993,
                    1999,
                    1991,
                    1999,
                    2003,
                    2001,
                    2003,
                    2007,
                    2009,
                    2002,
                    2007,
                    2010,
                    2012,
                    2012,
                    2012,
                    2011,
                    2011,
                    2011,
                    2012,
                    2012,
                    2013,
                    2013,
                    2014,
                    2013,
                    2013,
                    2014,
                    2014,
                    2013,
                    2013,
                    2014,
                    2013,
                    2014,
                    2013,
                    2015,
                    2016,
                    2015,
                    2016,
                    2016,
                    2016,
                    2016,
                    2015,
                    2015,
                    2016,
                    2015,
                    2016,
                    2016,
                    2016,
                    2016,
                    2016,
                    2015,
                    2016,
                    2016,
                    2015,
                    2016,
                    2016,
                    2016,
                    2015,
                    2016,
                    2018,
                    2018,
                    2018,
                    2017,
                    2017,
                    2018,
                    2017,
                    2018,
                    2018,
                    2018,
                    2018,
                    2018,
                    2017,
                    2018,
                    2018,
                    2018,
                    2017,
                    2018,
                    2018,
                    2017,
                    2018,
                    2018,
                    2017,
                    2018,
                    2017,
                    2017,
                    2018,
                    2018,
                    2018,
                    2018,
                    2018,
                    2017,
                    2017,
                    2017,
                    2018,
                    2017,
                    2018,
                    2017,
                    2017,
                    2018,
                    2017,
                    2018,
                    2018,
                    2018,
                    2017,
                    2017,
                    2017,
                    2017,
                    2018,
                    2018,
                    2018,
                    2017,
                    2018,
                    2017,
                    2017,
                    2018,
                    2017,
                    2018,
                    2018,
                    2018,
                    2017,
                    2017,
                    2017,
                    2017,
                    2018,
                    2018,
                    2018,
                    2018,
                    2017,
                    2017,
                    2018,
                    2017,
                    2018,
                    2018,
                    2018,
                    2018,
                    2018,
                    2017,
                    2017,
                    2018,
                    2018,
                    2018,
                    2018,
                    2018,
                    2017,
                    2018,
                    2017,
                    2017,
                    2019,
                    2020,
                    2020,
                    2019,
                    2019,
                    2019,
                    2019,
                    2020,
                    2019,
                    2019,
                    2019,
                    2019,
                    2020,
                    2019,
                    2020,
                    2019,
                    2020,
                    2020,
                    2020,
                    2019,
                    2019,
                    2020,
                    2019,
                    2020,
                    2019,
                    2020,
                    2019,
                    2019,
                    2020,
                    2020,
                    2020,
                    2019,
                    2020,
                    2019,
                    2020,
                    2019,
                    2019,
                    2019,
                    2020,
                    2019,
                    2020,
                    2020,
                    2020,
                    2019,
                    2019,
                    2020,
                    2020,
                    2020,
                    2019,
                    2020,
                    2019,
                    2019,
                    2019,
                    2019,
                    2020,
                    2020,
                    2019,
                    2019,
                    2020,
                    2020,
                    2019,
                    2020,
                    2020,
                    2020,
                    2020,
                    2019,
                    2019,
                    2019,
                    2019,
                    2020,
                    2019,
                    2019,
                    2020,
                    2019,
                    2019,
                    2019,
                    2019,
                    2019,
                    2020,
                    2020,
                    2019,
                    2020,
                    2020,
                    2019,
                    2020,
                    2020,
                    2019,
                    2019,
                    2019,
                    2020,
                    2019,
                    2019,
                    2020,
                    2019,
                    2019,
                    2020,
                    2022,
                    2022,
                    2022,
                    2021,
                    2022,
                    2022,
                    2022,
                    2021,
                    2022,
                    2022,
                    2021,
                    2021,
                    2021,
                    2021,
                    2021,
                    2021,
                    2021,
                    2021,
                    2021,
                    2021,
                    2021,
                    2021,
                    2021,
                    2021,
                    2022,
                    2021,
                    2022,
                    2021,
                    2021,
                    2022,
                    2021,
                    2022,
                    2021,
                    2022,
                    2021,
                    2021,
                    2021,
                    2021,
                    2022,
                    2021,
                    2021,
                    2021,
                    2021,
                    2021,
                    2021,
                    2021,
                    2021,
                    2021,
                    2021,
                    2021,
                    2021,
                    2021,
                    2021,
                    2022,
                    2021,
                    2021,
                    2022,
                    2021,
                    2021,
                    2021,
                    2021,
                    2021,
                    2021,
                    2021,
                    2021,
                    2021,
                    2021,
                    2021,
                    2021,
                    2021
                  ],
                  "y": [
                    "MOVIE",
                    "MOVIE",
                    "MOVIE",
                    "SHOW",
                    "SHOW",
                    "MOVIE",
                    "SHOW",
                    "SHOW",
                    "SHOW",
                    "SHOW",
                    "SHOW",
                    "MOVIE",
                    "MOVIE",
                    "SHOW",
                    "SHOW",
                    "SHOW",
                    "SHOW",
                    "SHOW",
                    "SHOW",
                    "MOVIE",
                    "MOVIE",
                    "SHOW",
                    "SHOW",
                    "SHOW",
                    "MOVIE",
                    "SHOW",
                    "MOVIE",
                    "SHOW",
                    "MOVIE",
                    "SHOW",
                    "SHOW",
                    "MOVIE",
                    "MOVIE",
                    "MOVIE",
                    "MOVIE",
                    "MOVIE",
                    "MOVIE",
                    "MOVIE",
                    "MOVIE",
                    "MOVIE",
                    "MOVIE",
                    "MOVIE",
                    "SHOW",
                    "SHOW",
                    "SHOW",
                    "SHOW",
                    "SHOW",
                    "MOVIE",
                    "SHOW",
                    "SHOW",
                    "SHOW",
                    "SHOW",
                    "MOVIE",
                    "SHOW",
                    "SHOW",
                    "MOVIE",
                    "SHOW",
                    "SHOW",
                    "MOVIE",
                    "MOVIE",
                    "MOVIE",
                    "MOVIE",
                    "MOVIE",
                    "MOVIE",
                    "MOVIE",
                    "MOVIE",
                    "MOVIE",
                    "SHOW",
                    "SHOW",
                    "SHOW",
                    "SHOW",
                    "MOVIE",
                    "SHOW",
                    "SHOW",
                    "SHOW",
                    "SHOW",
                    "SHOW",
                    "SHOW",
                    "SHOW",
                    "SHOW",
                    "MOVIE",
                    "SHOW",
                    "SHOW",
                    "SHOW",
                    "SHOW",
                    "SHOW",
                    "SHOW",
                    "SHOW",
                    "SHOW",
                    "SHOW",
                    "SHOW",
                    "SHOW",
                    "SHOW",
                    "SHOW",
                    "SHOW",
                    "SHOW",
                    "SHOW",
                    "MOVIE",
                    "MOVIE",
                    "SHOW",
                    "MOVIE",
                    "SHOW",
                    "SHOW",
                    "MOVIE",
                    "MOVIE",
                    "SHOW",
                    "MOVIE",
                    "SHOW",
                    "MOVIE",
                    "SHOW",
                    "MOVIE",
                    "SHOW",
                    "MOVIE",
                    "MOVIE",
                    "MOVIE",
                    "SHOW",
                    "SHOW",
                    "SHOW",
                    "MOVIE",
                    "MOVIE",
                    "MOVIE",
                    "MOVIE",
                    "MOVIE",
                    "SHOW",
                    "MOVIE",
                    "MOVIE",
                    "SHOW",
                    "MOVIE",
                    "MOVIE",
                    "MOVIE",
                    "MOVIE",
                    "MOVIE",
                    "MOVIE",
                    "MOVIE",
                    "MOVIE",
                    "MOVIE",
                    "MOVIE",
                    "SHOW",
                    "SHOW",
                    "MOVIE",
                    "MOVIE",
                    "MOVIE",
                    "MOVIE",
                    "MOVIE",
                    "MOVIE",
                    "MOVIE",
                    "SHOW",
                    "MOVIE",
                    "SHOW",
                    "SHOW",
                    "SHOW",
                    "MOVIE",
                    "MOVIE",
                    "SHOW",
                    "MOVIE",
                    "SHOW",
                    "SHOW",
                    "SHOW",
                    "SHOW",
                    "SHOW",
                    "SHOW",
                    "SHOW",
                    "SHOW",
                    "SHOW",
                    "SHOW",
                    "SHOW",
                    "SHOW",
                    "SHOW",
                    "SHOW",
                    "SHOW",
                    "SHOW",
                    "SHOW",
                    "SHOW",
                    "SHOW",
                    "SHOW",
                    "SHOW",
                    "MOVIE",
                    "SHOW",
                    "SHOW",
                    "SHOW",
                    "MOVIE",
                    "SHOW",
                    "SHOW",
                    "SHOW",
                    "SHOW",
                    "SHOW",
                    "SHOW",
                    "SHOW",
                    "SHOW",
                    "SHOW",
                    "SHOW",
                    "SHOW",
                    "SHOW",
                    "SHOW",
                    "SHOW",
                    "SHOW",
                    "SHOW",
                    "MOVIE",
                    "SHOW",
                    "SHOW",
                    "SHOW",
                    "SHOW",
                    "SHOW",
                    "SHOW",
                    "SHOW",
                    "MOVIE",
                    "MOVIE",
                    "SHOW",
                    "SHOW",
                    "MOVIE",
                    "MOVIE",
                    "SHOW",
                    "SHOW",
                    "SHOW",
                    "MOVIE",
                    "SHOW",
                    "SHOW",
                    "SHOW",
                    "MOVIE",
                    "SHOW",
                    "MOVIE",
                    "MOVIE",
                    "MOVIE",
                    "SHOW",
                    "MOVIE",
                    "SHOW",
                    "MOVIE",
                    "SHOW",
                    "MOVIE",
                    "MOVIE",
                    "SHOW",
                    "MOVIE",
                    "MOVIE",
                    "MOVIE",
                    "MOVIE",
                    "MOVIE",
                    "MOVIE",
                    "MOVIE",
                    "MOVIE",
                    "MOVIE",
                    "SHOW",
                    "MOVIE",
                    "MOVIE",
                    "MOVIE",
                    "MOVIE",
                    "MOVIE",
                    "SHOW",
                    "SHOW",
                    "MOVIE",
                    "MOVIE",
                    "SHOW",
                    "SHOW",
                    "SHOW",
                    "SHOW",
                    "SHOW",
                    "SHOW",
                    "SHOW",
                    "SHOW",
                    "MOVIE",
                    "MOVIE",
                    "SHOW",
                    "SHOW",
                    "SHOW",
                    "MOVIE",
                    "SHOW",
                    "SHOW",
                    "SHOW",
                    "SHOW",
                    "SHOW",
                    "SHOW",
                    "SHOW",
                    "SHOW",
                    "SHOW",
                    "SHOW",
                    "SHOW",
                    "SHOW",
                    "SHOW",
                    "SHOW",
                    "SHOW",
                    "SHOW",
                    "SHOW",
                    "SHOW",
                    "MOVIE",
                    "SHOW",
                    "SHOW",
                    "SHOW",
                    "SHOW",
                    "SHOW",
                    "MOVIE",
                    "SHOW",
                    "SHOW",
                    "SHOW",
                    "SHOW",
                    "SHOW",
                    "SHOW",
                    "SHOW",
                    "MOVIE",
                    "MOVIE",
                    "SHOW",
                    "SHOW",
                    "SHOW",
                    "MOVIE",
                    "MOVIE",
                    "SHOW",
                    "MOVIE",
                    "SHOW",
                    "SHOW",
                    "SHOW",
                    "MOVIE",
                    "SHOW",
                    "SHOW",
                    "SHOW",
                    "SHOW",
                    "SHOW",
                    "SHOW",
                    "SHOW",
                    "MOVIE",
                    "SHOW",
                    "SHOW",
                    "MOVIE",
                    "SHOW"
                  ]
                }
              ],
              "layout": {
                "legend": {
                  "bgcolor": "#151516",
                  "font": {
                    "color": "#D9D9D9"
                  }
                },
                "paper_bgcolor": "#151516",
                "plot_bgcolor": "#151516",
                "template": {
                  "data": {
                    "bar": [
                      {
                        "error_x": {
                          "color": "#2a3f5f"
                        },
                        "error_y": {
                          "color": "#2a3f5f"
                        },
                        "marker": {
                          "line": {
                            "color": "#E5ECF6",
                            "width": 0.5
                          },
                          "pattern": {
                            "fillmode": "overlay",
                            "size": 10,
                            "solidity": 0.2
                          }
                        },
                        "type": "bar"
                      }
                    ],
                    "barpolar": [
                      {
                        "marker": {
                          "line": {
                            "color": "#E5ECF6",
                            "width": 0.5
                          },
                          "pattern": {
                            "fillmode": "overlay",
                            "size": 10,
                            "solidity": 0.2
                          }
                        },
                        "type": "barpolar"
                      }
                    ],
                    "carpet": [
                      {
                        "aaxis": {
                          "endlinecolor": "#2a3f5f",
                          "gridcolor": "white",
                          "linecolor": "white",
                          "minorgridcolor": "white",
                          "startlinecolor": "#2a3f5f"
                        },
                        "baxis": {
                          "endlinecolor": "#2a3f5f",
                          "gridcolor": "white",
                          "linecolor": "white",
                          "minorgridcolor": "white",
                          "startlinecolor": "#2a3f5f"
                        },
                        "type": "carpet"
                      }
                    ],
                    "choropleth": [
                      {
                        "colorbar": {
                          "outlinewidth": 0,
                          "ticks": ""
                        },
                        "type": "choropleth"
                      }
                    ],
                    "contour": [
                      {
                        "colorbar": {
                          "outlinewidth": 0,
                          "ticks": ""
                        },
                        "colorscale": [
                          [
                            0,
                            "#0d0887"
                          ],
                          [
                            0.1111111111111111,
                            "#46039f"
                          ],
                          [
                            0.2222222222222222,
                            "#7201a8"
                          ],
                          [
                            0.3333333333333333,
                            "#9c179e"
                          ],
                          [
                            0.4444444444444444,
                            "#bd3786"
                          ],
                          [
                            0.5555555555555556,
                            "#d8576b"
                          ],
                          [
                            0.6666666666666666,
                            "#ed7953"
                          ],
                          [
                            0.7777777777777778,
                            "#fb9f3a"
                          ],
                          [
                            0.8888888888888888,
                            "#fdca26"
                          ],
                          [
                            1,
                            "#f0f921"
                          ]
                        ],
                        "type": "contour"
                      }
                    ],
                    "contourcarpet": [
                      {
                        "colorbar": {
                          "outlinewidth": 0,
                          "ticks": ""
                        },
                        "type": "contourcarpet"
                      }
                    ],
                    "heatmap": [
                      {
                        "colorbar": {
                          "outlinewidth": 0,
                          "ticks": ""
                        },
                        "colorscale": [
                          [
                            0,
                            "#0d0887"
                          ],
                          [
                            0.1111111111111111,
                            "#46039f"
                          ],
                          [
                            0.2222222222222222,
                            "#7201a8"
                          ],
                          [
                            0.3333333333333333,
                            "#9c179e"
                          ],
                          [
                            0.4444444444444444,
                            "#bd3786"
                          ],
                          [
                            0.5555555555555556,
                            "#d8576b"
                          ],
                          [
                            0.6666666666666666,
                            "#ed7953"
                          ],
                          [
                            0.7777777777777778,
                            "#fb9f3a"
                          ],
                          [
                            0.8888888888888888,
                            "#fdca26"
                          ],
                          [
                            1,
                            "#f0f921"
                          ]
                        ],
                        "type": "heatmap"
                      }
                    ],
                    "heatmapgl": [
                      {
                        "colorbar": {
                          "outlinewidth": 0,
                          "ticks": ""
                        },
                        "colorscale": [
                          [
                            0,
                            "#0d0887"
                          ],
                          [
                            0.1111111111111111,
                            "#46039f"
                          ],
                          [
                            0.2222222222222222,
                            "#7201a8"
                          ],
                          [
                            0.3333333333333333,
                            "#9c179e"
                          ],
                          [
                            0.4444444444444444,
                            "#bd3786"
                          ],
                          [
                            0.5555555555555556,
                            "#d8576b"
                          ],
                          [
                            0.6666666666666666,
                            "#ed7953"
                          ],
                          [
                            0.7777777777777778,
                            "#fb9f3a"
                          ],
                          [
                            0.8888888888888888,
                            "#fdca26"
                          ],
                          [
                            1,
                            "#f0f921"
                          ]
                        ],
                        "type": "heatmapgl"
                      }
                    ],
                    "histogram": [
                      {
                        "marker": {
                          "pattern": {
                            "fillmode": "overlay",
                            "size": 10,
                            "solidity": 0.2
                          }
                        },
                        "type": "histogram"
                      }
                    ],
                    "histogram2d": [
                      {
                        "colorbar": {
                          "outlinewidth": 0,
                          "ticks": ""
                        },
                        "colorscale": [
                          [
                            0,
                            "#0d0887"
                          ],
                          [
                            0.1111111111111111,
                            "#46039f"
                          ],
                          [
                            0.2222222222222222,
                            "#7201a8"
                          ],
                          [
                            0.3333333333333333,
                            "#9c179e"
                          ],
                          [
                            0.4444444444444444,
                            "#bd3786"
                          ],
                          [
                            0.5555555555555556,
                            "#d8576b"
                          ],
                          [
                            0.6666666666666666,
                            "#ed7953"
                          ],
                          [
                            0.7777777777777778,
                            "#fb9f3a"
                          ],
                          [
                            0.8888888888888888,
                            "#fdca26"
                          ],
                          [
                            1,
                            "#f0f921"
                          ]
                        ],
                        "type": "histogram2d"
                      }
                    ],
                    "histogram2dcontour": [
                      {
                        "colorbar": {
                          "outlinewidth": 0,
                          "ticks": ""
                        },
                        "colorscale": [
                          [
                            0,
                            "#0d0887"
                          ],
                          [
                            0.1111111111111111,
                            "#46039f"
                          ],
                          [
                            0.2222222222222222,
                            "#7201a8"
                          ],
                          [
                            0.3333333333333333,
                            "#9c179e"
                          ],
                          [
                            0.4444444444444444,
                            "#bd3786"
                          ],
                          [
                            0.5555555555555556,
                            "#d8576b"
                          ],
                          [
                            0.6666666666666666,
                            "#ed7953"
                          ],
                          [
                            0.7777777777777778,
                            "#fb9f3a"
                          ],
                          [
                            0.8888888888888888,
                            "#fdca26"
                          ],
                          [
                            1,
                            "#f0f921"
                          ]
                        ],
                        "type": "histogram2dcontour"
                      }
                    ],
                    "mesh3d": [
                      {
                        "colorbar": {
                          "outlinewidth": 0,
                          "ticks": ""
                        },
                        "type": "mesh3d"
                      }
                    ],
                    "parcoords": [
                      {
                        "line": {
                          "colorbar": {
                            "outlinewidth": 0,
                            "ticks": ""
                          }
                        },
                        "type": "parcoords"
                      }
                    ],
                    "pie": [
                      {
                        "automargin": true,
                        "type": "pie"
                      }
                    ],
                    "scatter": [
                      {
                        "fillpattern": {
                          "fillmode": "overlay",
                          "size": 10,
                          "solidity": 0.2
                        },
                        "type": "scatter"
                      }
                    ],
                    "scatter3d": [
                      {
                        "line": {
                          "colorbar": {
                            "outlinewidth": 0,
                            "ticks": ""
                          }
                        },
                        "marker": {
                          "colorbar": {
                            "outlinewidth": 0,
                            "ticks": ""
                          }
                        },
                        "type": "scatter3d"
                      }
                    ],
                    "scattercarpet": [
                      {
                        "marker": {
                          "colorbar": {
                            "outlinewidth": 0,
                            "ticks": ""
                          }
                        },
                        "type": "scattercarpet"
                      }
                    ],
                    "scattergeo": [
                      {
                        "marker": {
                          "colorbar": {
                            "outlinewidth": 0,
                            "ticks": ""
                          }
                        },
                        "type": "scattergeo"
                      }
                    ],
                    "scattergl": [
                      {
                        "marker": {
                          "colorbar": {
                            "outlinewidth": 0,
                            "ticks": ""
                          }
                        },
                        "type": "scattergl"
                      }
                    ],
                    "scattermapbox": [
                      {
                        "marker": {
                          "colorbar": {
                            "outlinewidth": 0,
                            "ticks": ""
                          }
                        },
                        "type": "scattermapbox"
                      }
                    ],
                    "scatterpolar": [
                      {
                        "marker": {
                          "colorbar": {
                            "outlinewidth": 0,
                            "ticks": ""
                          }
                        },
                        "type": "scatterpolar"
                      }
                    ],
                    "scatterpolargl": [
                      {
                        "marker": {
                          "colorbar": {
                            "outlinewidth": 0,
                            "ticks": ""
                          }
                        },
                        "type": "scatterpolargl"
                      }
                    ],
                    "scatterternary": [
                      {
                        "marker": {
                          "colorbar": {
                            "outlinewidth": 0,
                            "ticks": ""
                          }
                        },
                        "type": "scatterternary"
                      }
                    ],
                    "surface": [
                      {
                        "colorbar": {
                          "outlinewidth": 0,
                          "ticks": ""
                        },
                        "colorscale": [
                          [
                            0,
                            "#0d0887"
                          ],
                          [
                            0.1111111111111111,
                            "#46039f"
                          ],
                          [
                            0.2222222222222222,
                            "#7201a8"
                          ],
                          [
                            0.3333333333333333,
                            "#9c179e"
                          ],
                          [
                            0.4444444444444444,
                            "#bd3786"
                          ],
                          [
                            0.5555555555555556,
                            "#d8576b"
                          ],
                          [
                            0.6666666666666666,
                            "#ed7953"
                          ],
                          [
                            0.7777777777777778,
                            "#fb9f3a"
                          ],
                          [
                            0.8888888888888888,
                            "#fdca26"
                          ],
                          [
                            1,
                            "#f0f921"
                          ]
                        ],
                        "type": "surface"
                      }
                    ],
                    "table": [
                      {
                        "cells": {
                          "fill": {
                            "color": "#EBF0F8"
                          },
                          "line": {
                            "color": "white"
                          }
                        },
                        "header": {
                          "fill": {
                            "color": "#C8D4E3"
                          },
                          "line": {
                            "color": "white"
                          }
                        },
                        "type": "table"
                      }
                    ]
                  },
                  "layout": {
                    "annotationdefaults": {
                      "arrowcolor": "#2a3f5f",
                      "arrowhead": 0,
                      "arrowwidth": 1
                    },
                    "autotypenumbers": "strict",
                    "coloraxis": {
                      "colorbar": {
                        "outlinewidth": 0,
                        "ticks": ""
                      }
                    },
                    "colorscale": {
                      "diverging": [
                        [
                          0,
                          "#8e0152"
                        ],
                        [
                          0.1,
                          "#c51b7d"
                        ],
                        [
                          0.2,
                          "#de77ae"
                        ],
                        [
                          0.3,
                          "#f1b6da"
                        ],
                        [
                          0.4,
                          "#fde0ef"
                        ],
                        [
                          0.5,
                          "#f7f7f7"
                        ],
                        [
                          0.6,
                          "#e6f5d0"
                        ],
                        [
                          0.7,
                          "#b8e186"
                        ],
                        [
                          0.8,
                          "#7fbc41"
                        ],
                        [
                          0.9,
                          "#4d9221"
                        ],
                        [
                          1,
                          "#276419"
                        ]
                      ],
                      "sequential": [
                        [
                          0,
                          "#0d0887"
                        ],
                        [
                          0.1111111111111111,
                          "#46039f"
                        ],
                        [
                          0.2222222222222222,
                          "#7201a8"
                        ],
                        [
                          0.3333333333333333,
                          "#9c179e"
                        ],
                        [
                          0.4444444444444444,
                          "#bd3786"
                        ],
                        [
                          0.5555555555555556,
                          "#d8576b"
                        ],
                        [
                          0.6666666666666666,
                          "#ed7953"
                        ],
                        [
                          0.7777777777777778,
                          "#fb9f3a"
                        ],
                        [
                          0.8888888888888888,
                          "#fdca26"
                        ],
                        [
                          1,
                          "#f0f921"
                        ]
                      ],
                      "sequentialminus": [
                        [
                          0,
                          "#0d0887"
                        ],
                        [
                          0.1111111111111111,
                          "#46039f"
                        ],
                        [
                          0.2222222222222222,
                          "#7201a8"
                        ],
                        [
                          0.3333333333333333,
                          "#9c179e"
                        ],
                        [
                          0.4444444444444444,
                          "#bd3786"
                        ],
                        [
                          0.5555555555555556,
                          "#d8576b"
                        ],
                        [
                          0.6666666666666666,
                          "#ed7953"
                        ],
                        [
                          0.7777777777777778,
                          "#fb9f3a"
                        ],
                        [
                          0.8888888888888888,
                          "#fdca26"
                        ],
                        [
                          1,
                          "#f0f921"
                        ]
                      ]
                    },
                    "colorway": [
                      "#636efa",
                      "#EF553B",
                      "#00cc96",
                      "#ab63fa",
                      "#FFA15A",
                      "#19d3f3",
                      "#FF6692",
                      "#B6E880",
                      "#FF97FF",
                      "#FECB52"
                    ],
                    "font": {
                      "color": "#2a3f5f"
                    },
                    "geo": {
                      "bgcolor": "white",
                      "lakecolor": "white",
                      "landcolor": "#E5ECF6",
                      "showlakes": true,
                      "showland": true,
                      "subunitcolor": "white"
                    },
                    "hoverlabel": {
                      "align": "left"
                    },
                    "hovermode": "closest",
                    "mapbox": {
                      "style": "light"
                    },
                    "paper_bgcolor": "white",
                    "plot_bgcolor": "#E5ECF6",
                    "polar": {
                      "angularaxis": {
                        "gridcolor": "white",
                        "linecolor": "white",
                        "ticks": ""
                      },
                      "bgcolor": "#E5ECF6",
                      "radialaxis": {
                        "gridcolor": "white",
                        "linecolor": "white",
                        "ticks": ""
                      }
                    },
                    "scene": {
                      "xaxis": {
                        "backgroundcolor": "#E5ECF6",
                        "gridcolor": "white",
                        "gridwidth": 2,
                        "linecolor": "white",
                        "showbackground": true,
                        "ticks": "",
                        "zerolinecolor": "white"
                      },
                      "yaxis": {
                        "backgroundcolor": "#E5ECF6",
                        "gridcolor": "white",
                        "gridwidth": 2,
                        "linecolor": "white",
                        "showbackground": true,
                        "ticks": "",
                        "zerolinecolor": "white"
                      },
                      "zaxis": {
                        "backgroundcolor": "#E5ECF6",
                        "gridcolor": "white",
                        "gridwidth": 2,
                        "linecolor": "white",
                        "showbackground": true,
                        "ticks": "",
                        "zerolinecolor": "white"
                      }
                    },
                    "shapedefaults": {
                      "line": {
                        "color": "#2a3f5f"
                      }
                    },
                    "ternary": {
                      "aaxis": {
                        "gridcolor": "white",
                        "linecolor": "white",
                        "ticks": ""
                      },
                      "baxis": {
                        "gridcolor": "white",
                        "linecolor": "white",
                        "ticks": ""
                      },
                      "bgcolor": "#E5ECF6",
                      "caxis": {
                        "gridcolor": "white",
                        "linecolor": "white",
                        "ticks": ""
                      }
                    },
                    "title": {
                      "x": 0.05
                    },
                    "xaxis": {
                      "automargin": true,
                      "gridcolor": "white",
                      "linecolor": "white",
                      "ticks": "",
                      "title": {
                        "standoff": 15
                      },
                      "zerolinecolor": "white",
                      "zerolinewidth": 2
                    },
                    "yaxis": {
                      "automargin": true,
                      "gridcolor": "white",
                      "linecolor": "white",
                      "ticks": "",
                      "title": {
                        "standoff": 15
                      },
                      "zerolinecolor": "white",
                      "zerolinewidth": 2
                    }
                  }
                },
                "title": {
                  "font": {
                    "color": "#D9D9D9"
                  }
                },
                "xaxis": {
                  "gridcolor": "#434343",
                  "showgrid": true,
                  "tickfont": {
                    "color": "#C2C2C2"
                  },
                  "title": {
                    "font": {
                      "color": "#D9D9D9"
                    },
                    "text": ""
                  },
                  "zerolinecolor": "#666570"
                },
                "yaxis": {
                  "gridcolor": "#434343",
                  "showgrid": true,
                  "tickfont": {
                    "color": "#C2C2C2"
                  },
                  "title": {
                    "font": {
                      "color": "#D9D9D9"
                    },
                    "text": ""
                  },
                  "zerolinecolor": "#666570"
                }
              }
            },
            "text/html": [
              "<div>                            <div id=\"d1d1949c-be00-44d4-8210-5280c372fdbf\" class=\"plotly-graph-div\" style=\"height:525px; width:100%;\"></div>            <script type=\"text/javascript\">                require([\"plotly\"], function(Plotly) {                    window.PLOTLYENV=window.PLOTLYENV || {};\n",
              "                    window.PLOTLYENV.BASE_URL='https://plot.ly';                                    if (document.getElementById(\"d1d1949c-be00-44d4-8210-5280c372fdbf\")) {                    Plotly.newPlot(                        \"d1d1949c-be00-44d4-8210-5280c372fdbf\",                        [{\"line\":{\"color\":\"rgba(255, 153, 51, 1.0)\",\"dash\":\"solid\",\"shape\":\"linear\",\"width\":1.3},\"mode\":\"lines\",\"name\":\"type\",\"text\":\"\",\"x\":[1979,1980,1976,1984,1988,1983,2000,1998,1995,1993,1999,1991,1999,2003,2001,2003,2007,2009,2002,2007,2010,2012,2012,2012,2011,2011,2011,2012,2012,2013,2013,2014,2013,2013,2014,2014,2013,2013,2014,2013,2014,2013,2015,2016,2015,2016,2016,2016,2016,2015,2015,2016,2015,2016,2016,2016,2016,2016,2015,2016,2016,2015,2016,2016,2016,2015,2016,2018,2018,2018,2017,2017,2018,2017,2018,2018,2018,2018,2018,2017,2018,2018,2018,2017,2018,2018,2017,2018,2018,2017,2018,2017,2017,2018,2018,2018,2018,2018,2017,2017,2017,2018,2017,2018,2017,2017,2018,2017,2018,2018,2018,2017,2017,2017,2017,2018,2018,2018,2017,2018,2017,2017,2018,2017,2018,2018,2018,2017,2017,2017,2017,2018,2018,2018,2018,2017,2017,2018,2017,2018,2018,2018,2018,2018,2017,2017,2018,2018,2018,2018,2018,2017,2018,2017,2017,2019,2020,2020,2019,2019,2019,2019,2020,2019,2019,2019,2019,2020,2019,2020,2019,2020,2020,2020,2019,2019,2020,2019,2020,2019,2020,2019,2019,2020,2020,2020,2019,2020,2019,2020,2019,2019,2019,2020,2019,2020,2020,2020,2019,2019,2020,2020,2020,2019,2020,2019,2019,2019,2019,2020,2020,2019,2019,2020,2020,2019,2020,2020,2020,2020,2019,2019,2019,2019,2020,2019,2019,2020,2019,2019,2019,2019,2019,2020,2020,2019,2020,2020,2019,2020,2020,2019,2019,2019,2020,2019,2019,2020,2019,2019,2020,2022,2022,2022,2021,2022,2022,2022,2021,2022,2022,2021,2021,2021,2021,2021,2021,2021,2021,2021,2021,2021,2021,2021,2021,2022,2021,2022,2021,2021,2022,2021,2022,2021,2022,2021,2021,2021,2021,2022,2021,2021,2021,2021,2021,2021,2021,2021,2021,2021,2021,2021,2021,2021,2022,2021,2021,2022,2021,2021,2021,2021,2021,2021,2021,2021,2021,2021,2021,2021,2021],\"y\":[\"MOVIE\",\"MOVIE\",\"MOVIE\",\"SHOW\",\"SHOW\",\"MOVIE\",\"SHOW\",\"SHOW\",\"SHOW\",\"SHOW\",\"SHOW\",\"MOVIE\",\"MOVIE\",\"SHOW\",\"SHOW\",\"SHOW\",\"SHOW\",\"SHOW\",\"SHOW\",\"MOVIE\",\"MOVIE\",\"SHOW\",\"SHOW\",\"SHOW\",\"MOVIE\",\"SHOW\",\"MOVIE\",\"SHOW\",\"MOVIE\",\"SHOW\",\"SHOW\",\"MOVIE\",\"MOVIE\",\"MOVIE\",\"MOVIE\",\"MOVIE\",\"MOVIE\",\"MOVIE\",\"MOVIE\",\"MOVIE\",\"MOVIE\",\"MOVIE\",\"SHOW\",\"SHOW\",\"SHOW\",\"SHOW\",\"SHOW\",\"MOVIE\",\"SHOW\",\"SHOW\",\"SHOW\",\"SHOW\",\"MOVIE\",\"SHOW\",\"SHOW\",\"MOVIE\",\"SHOW\",\"SHOW\",\"MOVIE\",\"MOVIE\",\"MOVIE\",\"MOVIE\",\"MOVIE\",\"MOVIE\",\"MOVIE\",\"MOVIE\",\"MOVIE\",\"SHOW\",\"SHOW\",\"SHOW\",\"SHOW\",\"MOVIE\",\"SHOW\",\"SHOW\",\"SHOW\",\"SHOW\",\"SHOW\",\"SHOW\",\"SHOW\",\"SHOW\",\"MOVIE\",\"SHOW\",\"SHOW\",\"SHOW\",\"SHOW\",\"SHOW\",\"SHOW\",\"SHOW\",\"SHOW\",\"SHOW\",\"SHOW\",\"SHOW\",\"SHOW\",\"SHOW\",\"SHOW\",\"SHOW\",\"SHOW\",\"MOVIE\",\"MOVIE\",\"SHOW\",\"MOVIE\",\"SHOW\",\"SHOW\",\"MOVIE\",\"MOVIE\",\"SHOW\",\"MOVIE\",\"SHOW\",\"MOVIE\",\"SHOW\",\"MOVIE\",\"SHOW\",\"MOVIE\",\"MOVIE\",\"MOVIE\",\"SHOW\",\"SHOW\",\"SHOW\",\"MOVIE\",\"MOVIE\",\"MOVIE\",\"MOVIE\",\"MOVIE\",\"SHOW\",\"MOVIE\",\"MOVIE\",\"SHOW\",\"MOVIE\",\"MOVIE\",\"MOVIE\",\"MOVIE\",\"MOVIE\",\"MOVIE\",\"MOVIE\",\"MOVIE\",\"MOVIE\",\"MOVIE\",\"SHOW\",\"SHOW\",\"MOVIE\",\"MOVIE\",\"MOVIE\",\"MOVIE\",\"MOVIE\",\"MOVIE\",\"MOVIE\",\"SHOW\",\"MOVIE\",\"SHOW\",\"SHOW\",\"SHOW\",\"MOVIE\",\"MOVIE\",\"SHOW\",\"MOVIE\",\"SHOW\",\"SHOW\",\"SHOW\",\"SHOW\",\"SHOW\",\"SHOW\",\"SHOW\",\"SHOW\",\"SHOW\",\"SHOW\",\"SHOW\",\"SHOW\",\"SHOW\",\"SHOW\",\"SHOW\",\"SHOW\",\"SHOW\",\"SHOW\",\"SHOW\",\"SHOW\",\"SHOW\",\"MOVIE\",\"SHOW\",\"SHOW\",\"SHOW\",\"MOVIE\",\"SHOW\",\"SHOW\",\"SHOW\",\"SHOW\",\"SHOW\",\"SHOW\",\"SHOW\",\"SHOW\",\"SHOW\",\"SHOW\",\"SHOW\",\"SHOW\",\"SHOW\",\"SHOW\",\"SHOW\",\"SHOW\",\"MOVIE\",\"SHOW\",\"SHOW\",\"SHOW\",\"SHOW\",\"SHOW\",\"SHOW\",\"SHOW\",\"MOVIE\",\"MOVIE\",\"SHOW\",\"SHOW\",\"MOVIE\",\"MOVIE\",\"SHOW\",\"SHOW\",\"SHOW\",\"MOVIE\",\"SHOW\",\"SHOW\",\"SHOW\",\"MOVIE\",\"SHOW\",\"MOVIE\",\"MOVIE\",\"MOVIE\",\"SHOW\",\"MOVIE\",\"SHOW\",\"MOVIE\",\"SHOW\",\"MOVIE\",\"MOVIE\",\"SHOW\",\"MOVIE\",\"MOVIE\",\"MOVIE\",\"MOVIE\",\"MOVIE\",\"MOVIE\",\"MOVIE\",\"MOVIE\",\"MOVIE\",\"SHOW\",\"MOVIE\",\"MOVIE\",\"MOVIE\",\"MOVIE\",\"MOVIE\",\"SHOW\",\"SHOW\",\"MOVIE\",\"MOVIE\",\"SHOW\",\"SHOW\",\"SHOW\",\"SHOW\",\"SHOW\",\"SHOW\",\"SHOW\",\"SHOW\",\"MOVIE\",\"MOVIE\",\"SHOW\",\"SHOW\",\"SHOW\",\"MOVIE\",\"SHOW\",\"SHOW\",\"SHOW\",\"SHOW\",\"SHOW\",\"SHOW\",\"SHOW\",\"SHOW\",\"SHOW\",\"SHOW\",\"SHOW\",\"SHOW\",\"SHOW\",\"SHOW\",\"SHOW\",\"SHOW\",\"SHOW\",\"SHOW\",\"MOVIE\",\"SHOW\",\"SHOW\",\"SHOW\",\"SHOW\",\"SHOW\",\"MOVIE\",\"SHOW\",\"SHOW\",\"SHOW\",\"SHOW\",\"SHOW\",\"SHOW\",\"SHOW\",\"MOVIE\",\"MOVIE\",\"SHOW\",\"SHOW\",\"SHOW\",\"MOVIE\",\"MOVIE\",\"SHOW\",\"MOVIE\",\"SHOW\",\"SHOW\",\"SHOW\",\"MOVIE\",\"SHOW\",\"SHOW\",\"SHOW\",\"SHOW\",\"SHOW\",\"SHOW\",\"SHOW\",\"MOVIE\",\"SHOW\",\"SHOW\",\"MOVIE\",\"SHOW\"],\"type\":\"scatter\"}],                        {\"legend\":{\"bgcolor\":\"#151516\",\"font\":{\"color\":\"#D9D9D9\"}},\"paper_bgcolor\":\"#151516\",\"plot_bgcolor\":\"#151516\",\"template\":{\"data\":{\"barpolar\":[{\"marker\":{\"line\":{\"color\":\"#E5ECF6\",\"width\":0.5},\"pattern\":{\"fillmode\":\"overlay\",\"size\":10,\"solidity\":0.2}},\"type\":\"barpolar\"}],\"bar\":[{\"error_x\":{\"color\":\"#2a3f5f\"},\"error_y\":{\"color\":\"#2a3f5f\"},\"marker\":{\"line\":{\"color\":\"#E5ECF6\",\"width\":0.5},\"pattern\":{\"fillmode\":\"overlay\",\"size\":10,\"solidity\":0.2}},\"type\":\"bar\"}],\"carpet\":[{\"aaxis\":{\"endlinecolor\":\"#2a3f5f\",\"gridcolor\":\"white\",\"linecolor\":\"white\",\"minorgridcolor\":\"white\",\"startlinecolor\":\"#2a3f5f\"},\"baxis\":{\"endlinecolor\":\"#2a3f5f\",\"gridcolor\":\"white\",\"linecolor\":\"white\",\"minorgridcolor\":\"white\",\"startlinecolor\":\"#2a3f5f\"},\"type\":\"carpet\"}],\"choropleth\":[{\"colorbar\":{\"outlinewidth\":0,\"ticks\":\"\"},\"type\":\"choropleth\"}],\"contourcarpet\":[{\"colorbar\":{\"outlinewidth\":0,\"ticks\":\"\"},\"type\":\"contourcarpet\"}],\"contour\":[{\"colorbar\":{\"outlinewidth\":0,\"ticks\":\"\"},\"colorscale\":[[0.0,\"#0d0887\"],[0.1111111111111111,\"#46039f\"],[0.2222222222222222,\"#7201a8\"],[0.3333333333333333,\"#9c179e\"],[0.4444444444444444,\"#bd3786\"],[0.5555555555555556,\"#d8576b\"],[0.6666666666666666,\"#ed7953\"],[0.7777777777777778,\"#fb9f3a\"],[0.8888888888888888,\"#fdca26\"],[1.0,\"#f0f921\"]],\"type\":\"contour\"}],\"heatmapgl\":[{\"colorbar\":{\"outlinewidth\":0,\"ticks\":\"\"},\"colorscale\":[[0.0,\"#0d0887\"],[0.1111111111111111,\"#46039f\"],[0.2222222222222222,\"#7201a8\"],[0.3333333333333333,\"#9c179e\"],[0.4444444444444444,\"#bd3786\"],[0.5555555555555556,\"#d8576b\"],[0.6666666666666666,\"#ed7953\"],[0.7777777777777778,\"#fb9f3a\"],[0.8888888888888888,\"#fdca26\"],[1.0,\"#f0f921\"]],\"type\":\"heatmapgl\"}],\"heatmap\":[{\"colorbar\":{\"outlinewidth\":0,\"ticks\":\"\"},\"colorscale\":[[0.0,\"#0d0887\"],[0.1111111111111111,\"#46039f\"],[0.2222222222222222,\"#7201a8\"],[0.3333333333333333,\"#9c179e\"],[0.4444444444444444,\"#bd3786\"],[0.5555555555555556,\"#d8576b\"],[0.6666666666666666,\"#ed7953\"],[0.7777777777777778,\"#fb9f3a\"],[0.8888888888888888,\"#fdca26\"],[1.0,\"#f0f921\"]],\"type\":\"heatmap\"}],\"histogram2dcontour\":[{\"colorbar\":{\"outlinewidth\":0,\"ticks\":\"\"},\"colorscale\":[[0.0,\"#0d0887\"],[0.1111111111111111,\"#46039f\"],[0.2222222222222222,\"#7201a8\"],[0.3333333333333333,\"#9c179e\"],[0.4444444444444444,\"#bd3786\"],[0.5555555555555556,\"#d8576b\"],[0.6666666666666666,\"#ed7953\"],[0.7777777777777778,\"#fb9f3a\"],[0.8888888888888888,\"#fdca26\"],[1.0,\"#f0f921\"]],\"type\":\"histogram2dcontour\"}],\"histogram2d\":[{\"colorbar\":{\"outlinewidth\":0,\"ticks\":\"\"},\"colorscale\":[[0.0,\"#0d0887\"],[0.1111111111111111,\"#46039f\"],[0.2222222222222222,\"#7201a8\"],[0.3333333333333333,\"#9c179e\"],[0.4444444444444444,\"#bd3786\"],[0.5555555555555556,\"#d8576b\"],[0.6666666666666666,\"#ed7953\"],[0.7777777777777778,\"#fb9f3a\"],[0.8888888888888888,\"#fdca26\"],[1.0,\"#f0f921\"]],\"type\":\"histogram2d\"}],\"histogram\":[{\"marker\":{\"pattern\":{\"fillmode\":\"overlay\",\"size\":10,\"solidity\":0.2}},\"type\":\"histogram\"}],\"mesh3d\":[{\"colorbar\":{\"outlinewidth\":0,\"ticks\":\"\"},\"type\":\"mesh3d\"}],\"parcoords\":[{\"line\":{\"colorbar\":{\"outlinewidth\":0,\"ticks\":\"\"}},\"type\":\"parcoords\"}],\"pie\":[{\"automargin\":true,\"type\":\"pie\"}],\"scatter3d\":[{\"line\":{\"colorbar\":{\"outlinewidth\":0,\"ticks\":\"\"}},\"marker\":{\"colorbar\":{\"outlinewidth\":0,\"ticks\":\"\"}},\"type\":\"scatter3d\"}],\"scattercarpet\":[{\"marker\":{\"colorbar\":{\"outlinewidth\":0,\"ticks\":\"\"}},\"type\":\"scattercarpet\"}],\"scattergeo\":[{\"marker\":{\"colorbar\":{\"outlinewidth\":0,\"ticks\":\"\"}},\"type\":\"scattergeo\"}],\"scattergl\":[{\"marker\":{\"colorbar\":{\"outlinewidth\":0,\"ticks\":\"\"}},\"type\":\"scattergl\"}],\"scattermapbox\":[{\"marker\":{\"colorbar\":{\"outlinewidth\":0,\"ticks\":\"\"}},\"type\":\"scattermapbox\"}],\"scatterpolargl\":[{\"marker\":{\"colorbar\":{\"outlinewidth\":0,\"ticks\":\"\"}},\"type\":\"scatterpolargl\"}],\"scatterpolar\":[{\"marker\":{\"colorbar\":{\"outlinewidth\":0,\"ticks\":\"\"}},\"type\":\"scatterpolar\"}],\"scatter\":[{\"fillpattern\":{\"fillmode\":\"overlay\",\"size\":10,\"solidity\":0.2},\"type\":\"scatter\"}],\"scatterternary\":[{\"marker\":{\"colorbar\":{\"outlinewidth\":0,\"ticks\":\"\"}},\"type\":\"scatterternary\"}],\"surface\":[{\"colorbar\":{\"outlinewidth\":0,\"ticks\":\"\"},\"colorscale\":[[0.0,\"#0d0887\"],[0.1111111111111111,\"#46039f\"],[0.2222222222222222,\"#7201a8\"],[0.3333333333333333,\"#9c179e\"],[0.4444444444444444,\"#bd3786\"],[0.5555555555555556,\"#d8576b\"],[0.6666666666666666,\"#ed7953\"],[0.7777777777777778,\"#fb9f3a\"],[0.8888888888888888,\"#fdca26\"],[1.0,\"#f0f921\"]],\"type\":\"surface\"}],\"table\":[{\"cells\":{\"fill\":{\"color\":\"#EBF0F8\"},\"line\":{\"color\":\"white\"}},\"header\":{\"fill\":{\"color\":\"#C8D4E3\"},\"line\":{\"color\":\"white\"}},\"type\":\"table\"}]},\"layout\":{\"annotationdefaults\":{\"arrowcolor\":\"#2a3f5f\",\"arrowhead\":0,\"arrowwidth\":1},\"autotypenumbers\":\"strict\",\"coloraxis\":{\"colorbar\":{\"outlinewidth\":0,\"ticks\":\"\"}},\"colorscale\":{\"diverging\":[[0,\"#8e0152\"],[0.1,\"#c51b7d\"],[0.2,\"#de77ae\"],[0.3,\"#f1b6da\"],[0.4,\"#fde0ef\"],[0.5,\"#f7f7f7\"],[0.6,\"#e6f5d0\"],[0.7,\"#b8e186\"],[0.8,\"#7fbc41\"],[0.9,\"#4d9221\"],[1,\"#276419\"]],\"sequential\":[[0.0,\"#0d0887\"],[0.1111111111111111,\"#46039f\"],[0.2222222222222222,\"#7201a8\"],[0.3333333333333333,\"#9c179e\"],[0.4444444444444444,\"#bd3786\"],[0.5555555555555556,\"#d8576b\"],[0.6666666666666666,\"#ed7953\"],[0.7777777777777778,\"#fb9f3a\"],[0.8888888888888888,\"#fdca26\"],[1.0,\"#f0f921\"]],\"sequentialminus\":[[0.0,\"#0d0887\"],[0.1111111111111111,\"#46039f\"],[0.2222222222222222,\"#7201a8\"],[0.3333333333333333,\"#9c179e\"],[0.4444444444444444,\"#bd3786\"],[0.5555555555555556,\"#d8576b\"],[0.6666666666666666,\"#ed7953\"],[0.7777777777777778,\"#fb9f3a\"],[0.8888888888888888,\"#fdca26\"],[1.0,\"#f0f921\"]]},\"colorway\":[\"#636efa\",\"#EF553B\",\"#00cc96\",\"#ab63fa\",\"#FFA15A\",\"#19d3f3\",\"#FF6692\",\"#B6E880\",\"#FF97FF\",\"#FECB52\"],\"font\":{\"color\":\"#2a3f5f\"},\"geo\":{\"bgcolor\":\"white\",\"lakecolor\":\"white\",\"landcolor\":\"#E5ECF6\",\"showlakes\":true,\"showland\":true,\"subunitcolor\":\"white\"},\"hoverlabel\":{\"align\":\"left\"},\"hovermode\":\"closest\",\"mapbox\":{\"style\":\"light\"},\"paper_bgcolor\":\"white\",\"plot_bgcolor\":\"#E5ECF6\",\"polar\":{\"angularaxis\":{\"gridcolor\":\"white\",\"linecolor\":\"white\",\"ticks\":\"\"},\"bgcolor\":\"#E5ECF6\",\"radialaxis\":{\"gridcolor\":\"white\",\"linecolor\":\"white\",\"ticks\":\"\"}},\"scene\":{\"xaxis\":{\"backgroundcolor\":\"#E5ECF6\",\"gridcolor\":\"white\",\"gridwidth\":2,\"linecolor\":\"white\",\"showbackground\":true,\"ticks\":\"\",\"zerolinecolor\":\"white\"},\"yaxis\":{\"backgroundcolor\":\"#E5ECF6\",\"gridcolor\":\"white\",\"gridwidth\":2,\"linecolor\":\"white\",\"showbackground\":true,\"ticks\":\"\",\"zerolinecolor\":\"white\"},\"zaxis\":{\"backgroundcolor\":\"#E5ECF6\",\"gridcolor\":\"white\",\"gridwidth\":2,\"linecolor\":\"white\",\"showbackground\":true,\"ticks\":\"\",\"zerolinecolor\":\"white\"}},\"shapedefaults\":{\"line\":{\"color\":\"#2a3f5f\"}},\"ternary\":{\"aaxis\":{\"gridcolor\":\"white\",\"linecolor\":\"white\",\"ticks\":\"\"},\"baxis\":{\"gridcolor\":\"white\",\"linecolor\":\"white\",\"ticks\":\"\"},\"bgcolor\":\"#E5ECF6\",\"caxis\":{\"gridcolor\":\"white\",\"linecolor\":\"white\",\"ticks\":\"\"}},\"title\":{\"x\":0.05},\"xaxis\":{\"automargin\":true,\"gridcolor\":\"white\",\"linecolor\":\"white\",\"ticks\":\"\",\"title\":{\"standoff\":15},\"zerolinecolor\":\"white\",\"zerolinewidth\":2},\"yaxis\":{\"automargin\":true,\"gridcolor\":\"white\",\"linecolor\":\"white\",\"ticks\":\"\",\"title\":{\"standoff\":15},\"zerolinecolor\":\"white\",\"zerolinewidth\":2}}},\"title\":{\"font\":{\"color\":\"#D9D9D9\"}},\"xaxis\":{\"gridcolor\":\"#434343\",\"showgrid\":true,\"tickfont\":{\"color\":\"#C2C2C2\"},\"title\":{\"font\":{\"color\":\"#D9D9D9\"},\"text\":\"\"},\"zerolinecolor\":\"#666570\"},\"yaxis\":{\"gridcolor\":\"#434343\",\"showgrid\":true,\"tickfont\":{\"color\":\"#C2C2C2\"},\"title\":{\"font\":{\"color\":\"#D9D9D9\"},\"text\":\"\"},\"zerolinecolor\":\"#666570\"}},                        {\"showLink\": true, \"linkText\": \"Export to plot.ly\", \"plotlyServerURL\": \"https://plot.ly\", \"responsive\": true}                    ).then(function(){\n",
              "                            \n",
              "var gd = document.getElementById('d1d1949c-be00-44d4-8210-5280c372fdbf');\n",
              "var x = new MutationObserver(function (mutations, observer) {{\n",
              "        var display = window.getComputedStyle(gd).display;\n",
              "        if (!display || display === 'none') {{\n",
              "            console.log([gd, 'removed!']);\n",
              "            Plotly.purge(gd);\n",
              "            observer.disconnect();\n",
              "        }}\n",
              "}});\n",
              "\n",
              "// Listen for the removal of the full notebook cells\n",
              "var notebookContainer = gd.closest('#notebook-container');\n",
              "if (notebookContainer) {{\n",
              "    x.observe(notebookContainer, {childList: true});\n",
              "}}\n",
              "\n",
              "// Listen for the clearing of the current output cell\n",
              "var outputEl = gd.closest('.output');\n",
              "if (outputEl) {{\n",
              "    x.observe(outputEl, {childList: true});\n",
              "}}\n",
              "\n",
              "                        })                };                });            </script>        </div>"
            ]
          },
          "metadata": {},
          "output_type": "display_data"
        }
      ],
      "source": [
        "netflix.iplot(x='release_year',y='type');"
      ]
    },
    {
      "cell_type": "code",
      "execution_count": null,
      "metadata": {
        "id": "tL8nOIqUhCFc",
        "outputId": "76a221a6-9fda-400b-946b-8b8c67e648fc"
      },
      "outputs": [
        {
          "ename": "ValueError",
          "evalue": "The truth value of a Series is ambiguous. Use a.empty, a.bool(), a.item(), a.any() or a.all().",
          "output_type": "error",
          "traceback": [
            "\u001b[0;31m---------------------------------------------------------------------------\u001b[0m",
            "\u001b[0;31mValueError\u001b[0m                                Traceback (most recent call last)",
            "\u001b[0;32m/tmp/ipykernel_147/3794815957.py\u001b[0m in \u001b[0;36m<module>\u001b[0;34m\u001b[0m\n\u001b[1;32m      1\u001b[0m \u001b[0;31m# plt.figure(figsize=(10,5))\u001b[0m\u001b[0;34m\u001b[0m\u001b[0;34m\u001b[0m\u001b[0;34m\u001b[0m\u001b[0m\n\u001b[1;32m      2\u001b[0m \u001b[0;31m# plt.title('Type of shows on Netflix')\u001b[0m\u001b[0;34m\u001b[0m\u001b[0;34m\u001b[0m\u001b[0;34m\u001b[0m\u001b[0m\n\u001b[0;32m----> 3\u001b[0;31m \u001b[0mtitles\u001b[0m\u001b[0;34m.\u001b[0m\u001b[0miplot\u001b[0m\u001b[0;34m(\u001b[0m\u001b[0mx\u001b[0m\u001b[0;34m=\u001b[0m\u001b[0mtitles\u001b[0m\u001b[0;34m[\u001b[0m\u001b[0;34m'type'\u001b[0m\u001b[0;34m]\u001b[0m\u001b[0;34m,\u001b[0m \u001b[0my\u001b[0m\u001b[0;34m=\u001b[0m\u001b[0mtitles\u001b[0m\u001b[0;34m[\u001b[0m\u001b[0;34m'seasons'\u001b[0m\u001b[0;34m]\u001b[0m\u001b[0;34m,\u001b[0m\u001b[0mkind\u001b[0m\u001b[0;34m=\u001b[0m\u001b[0;34m'bar'\u001b[0m\u001b[0;34m)\u001b[0m\u001b[0;34m\u001b[0m\u001b[0;34m\u001b[0m\u001b[0m\n\u001b[0m\u001b[1;32m      4\u001b[0m \u001b[0;31m# plt.show()\u001b[0m\u001b[0;34m\u001b[0m\u001b[0;34m\u001b[0m\u001b[0;34m\u001b[0m\u001b[0m\n",
            "\u001b[0;32m/opt/conda/lib/python3.9/site-packages/cufflinks/plotlytools.py\u001b[0m in \u001b[0;36m_iplot\u001b[0;34m(self, kind, data, layout, filename, sharing, title, xTitle, yTitle, zTitle, theme, colors, colorscale, fill, width, dash, mode, interpolation, symbol, size, barmode, sortbars, bargap, bargroupgap, bins, histnorm, histfunc, orientation, boxpoints, annotations, keys, bestfit, bestfit_colors, mean, mean_colors, categories, x, y, z, text, gridcolor, zerolinecolor, margin, labels, values, secondary_y, secondary_y_title, subplots, shape, error_x, error_y, error_type, locations, lon, lat, asFrame, asDates, asFigure, asImage, dimensions, asPlot, asUrl, online, **kwargs)\u001b[0m\n\u001b[1;32m    823\u001b[0m                                 \u001b[0;32mif\u001b[0m \u001b[0mtype\u001b[0m\u001b[0;34m(\u001b[0m\u001b[0mdf\u001b[0m\u001b[0;34m)\u001b[0m\u001b[0;34m==\u001b[0m\u001b[0mpd\u001b[0m\u001b[0;34m.\u001b[0m\u001b[0mcore\u001b[0m\u001b[0;34m.\u001b[0m\u001b[0mseries\u001b[0m\u001b[0;34m.\u001b[0m\u001b[0mSeries\u001b[0m\u001b[0;34m:\u001b[0m\u001b[0;34m\u001b[0m\u001b[0;34m\u001b[0m\u001b[0m\n\u001b[1;32m    824\u001b[0m                                         \u001b[0mdf\u001b[0m\u001b[0;34m=\u001b[0m\u001b[0mpd\u001b[0m\u001b[0;34m.\u001b[0m\u001b[0mDataFrame\u001b[0m\u001b[0;34m(\u001b[0m\u001b[0;34m{\u001b[0m\u001b[0mdf\u001b[0m\u001b[0;34m.\u001b[0m\u001b[0mname\u001b[0m\u001b[0;34m:\u001b[0m\u001b[0mdf\u001b[0m\u001b[0;34m}\u001b[0m\u001b[0;34m)\u001b[0m\u001b[0;34m\u001b[0m\u001b[0;34m\u001b[0m\u001b[0m\n\u001b[0;32m--> 825\u001b[0;31m                                 \u001b[0;32mif\u001b[0m \u001b[0mx\u001b[0m\u001b[0;34m:\u001b[0m\u001b[0;34m\u001b[0m\u001b[0;34m\u001b[0m\u001b[0m\n\u001b[0m\u001b[1;32m    826\u001b[0m                                         \u001b[0mdf\u001b[0m\u001b[0;34m=\u001b[0m\u001b[0mdf\u001b[0m\u001b[0;34m.\u001b[0m\u001b[0mset_index\u001b[0m\u001b[0;34m(\u001b[0m\u001b[0mx\u001b[0m\u001b[0;34m)\u001b[0m\u001b[0;34m\u001b[0m\u001b[0;34m\u001b[0m\u001b[0m\n\u001b[1;32m    827\u001b[0m                                 \u001b[0;32mif\u001b[0m \u001b[0my\u001b[0m \u001b[0;32mand\u001b[0m \u001b[0msecondary_y\u001b[0m\u001b[0;34m:\u001b[0m\u001b[0;34m\u001b[0m\u001b[0;34m\u001b[0m\u001b[0m\n",
            "\u001b[0;32m/opt/conda/lib/python3.9/site-packages/pandas/core/generic.py\u001b[0m in \u001b[0;36m__nonzero__\u001b[0;34m(self)\u001b[0m\n\u001b[1;32m   1535\u001b[0m     \u001b[0;34m@\u001b[0m\u001b[0mfinal\u001b[0m\u001b[0;34m\u001b[0m\u001b[0;34m\u001b[0m\u001b[0m\n\u001b[1;32m   1536\u001b[0m     \u001b[0;32mdef\u001b[0m \u001b[0m__nonzero__\u001b[0m\u001b[0;34m(\u001b[0m\u001b[0mself\u001b[0m\u001b[0;34m)\u001b[0m\u001b[0;34m:\u001b[0m\u001b[0;34m\u001b[0m\u001b[0;34m\u001b[0m\u001b[0m\n\u001b[0;32m-> 1537\u001b[0;31m         raise ValueError(\n\u001b[0m\u001b[1;32m   1538\u001b[0m             \u001b[0;34mf\"The truth value of a {type(self).__name__} is ambiguous. \"\u001b[0m\u001b[0;34m\u001b[0m\u001b[0;34m\u001b[0m\u001b[0m\n\u001b[1;32m   1539\u001b[0m             \u001b[0;34m\"Use a.empty, a.bool(), a.item(), a.any() or a.all().\"\u001b[0m\u001b[0;34m\u001b[0m\u001b[0;34m\u001b[0m\u001b[0m\n",
            "\u001b[0;31mValueError\u001b[0m: The truth value of a Series is ambiguous. Use a.empty, a.bool(), a.item(), a.any() or a.all()."
          ]
        }
      ],
      "source": [
        "# plt.figure(figsize=(10,5))\n",
        "# plt.title('Type of shows on Netflix')\n",
        "titles.iplot(x=titles['type'], y=titles['seasons'],kind='bar')\n",
        "# plt.show()"
      ]
    },
    {
      "cell_type": "code",
      "execution_count": null,
      "metadata": {
        "scrolled": true,
        "id": "KcN1nzbKhCFd",
        "outputId": "ba9486a3-a57d-444b-8890-323cdfc27a7e"
      },
      "outputs": [
        {
          "data": {
            "image/png": "[encoded data removed]",
            "text/plain": [
              "<Figure size 2160x1440 with 1 Axes>"
            ]
          },
          "metadata": {
            "needs_background": "light"
          },
          "output_type": "display_data"
        }
      ],
      "source": [
        "plt.title('Netflix Release Years')\n",
        "titles[\"release_year\"].value_counts().plot.bar(figsize=(30,20), color=\"#E50914\")\n",
        "plt.show();"
      ]
    },
    {
      "cell_type": "code",
      "execution_count": null,
      "metadata": {
        "id": "7tvgOTeVhCFd"
      },
      "outputs": [],
      "source": [
        ""
      ]
    },
    {
      "cell_type": "markdown",
      "metadata": {
        "id": "0LQ1Uai7hCFd"
      },
      "source": [
        "**TODO** - Explore one or more columns by plotting a graph below, and add some explanation about it"
      ]
    },
    {
      "cell_type": "code",
      "execution_count": null,
      "metadata": {
        "id": "PZiLy-wDhCFd"
      },
      "outputs": [],
      "source": [
        ""
      ]
    },
    {
      "cell_type": "code",
      "execution_count": null,
      "metadata": {
        "id": "r57QHe5NhCFe"
      },
      "outputs": [],
      "source": [
        ""
      ]
    },
    {
      "cell_type": "markdown",
      "metadata": {
        "id": "OJ9kxuBfhCFe"
      },
      "source": [
        "**TODO** - Explore one or more columns by plotting a graph below, and add some explanation about it"
      ]
    },
    {
      "cell_type": "code",
      "execution_count": null,
      "metadata": {
        "id": "2q4dEWwahCFe"
      },
      "outputs": [],
      "source": [
        ""
      ]
    },
    {
      "cell_type": "code",
      "execution_count": null,
      "metadata": {
        "id": "oa_neBTXhCFe"
      },
      "outputs": [],
      "source": [
        ""
      ]
    },
    {
      "cell_type": "markdown",
      "metadata": {
        "id": "WL1s4RXPhCFe"
      },
      "source": [
        "**TODO** - Explore one or more columns by plotting a graph below, and add some explanation about it"
      ]
    },
    {
      "cell_type": "code",
      "execution_count": null,
      "metadata": {
        "id": "M9lDb5SfhCFf"
      },
      "outputs": [],
      "source": [
        ""
      ]
    },
    {
      "cell_type": "code",
      "execution_count": null,
      "metadata": {
        "id": "nmtvyNghhCFf"
      },
      "outputs": [],
      "source": [
        ""
      ]
    },
    {
      "cell_type": "markdown",
      "metadata": {
        "id": "oWtOcI1JhCFf"
      },
      "source": [
        "**TODO** - Explore one or more columns by plotting a graph below, and add some explanation about it"
      ]
    },
    {
      "cell_type": "code",
      "execution_count": null,
      "metadata": {
        "id": "I8wKSKcXhCFf"
      },
      "outputs": [],
      "source": [
        ""
      ]
    },
    {
      "cell_type": "code",
      "execution_count": null,
      "metadata": {
        "id": "CXH2fX9EhCFg"
      },
      "outputs": [],
      "source": [
        ""
      ]
    },
    {
      "cell_type": "markdown",
      "metadata": {
        "id": "owJcRgimhCFg"
      },
      "source": [
        "Let us save and upload our work to Jovian before continuing"
      ]
    },
    {
      "cell_type": "code",
      "execution_count": null,
      "metadata": {
        "id": "2g4HW7IchCFg"
      },
      "outputs": [],
      "source": [
        "import jovian"
      ]
    },
    {
      "cell_type": "code",
      "execution_count": null,
      "metadata": {
        "id": "dycmwDY3hCFg",
        "outputId": "6f598663-445c-4f7a-861d-8f25a1e810ca"
      },
      "outputs": [
        {
          "data": {
            "application/javascript": [
              "window.require && require([\"base/js/namespace\"],function(Jupyter){Jupyter.notebook.save_checkpoint()})"
            ],
            "text/plain": [
              "<IPython.core.display.Javascript object>"
            ]
          },
          "metadata": {},
          "output_type": "display_data"
        },
        {
          "name": "stdout",
          "output_type": "stream",
          "text": [
            "[jovian] Updating notebook \"poojadas2014-pd/netflix-movies-and-tv-shows\" on https://jovian.ai\u001b[0m\n",
            "[jovian] Committed successfully! https://jovian.ai/poojadas2014-pd/netflix-movies-and-tv-shows\u001b[0m\n"
          ]
        },
        {
          "data": {
            "text/plain": [
              "'https://jovian.ai/poojadas2014-pd/netflix-movies-and-tv-shows'"
            ]
          },
          "execution_count": 39,
          "metadata": {},
          "output_type": "execute_result"
        }
      ],
      "source": [
        "jovian.commit()"
      ]
    },
    {
      "cell_type": "markdown",
      "metadata": {
        "id": "zuTlIJN3hCFh"
      },
      "source": [
        "## Asking and Answering Questions\n",
        "\n",
        "\n",
        "\n",
        "1. Top 10 Movies and Shows  ?\n",
        "2. Top 10 Shows ?\n",
        "3. Top 10 Movies ?\n",
        "4. Top 10 high Internet Movie Database(imdb) Score Shows? \n",
        "5. Top 10 high Internet Movie Database(imdb) Score Moies? \n",
        "6. Top 10 high Internet Movie Database(imdb) Voted Shows?\n",
        "7. Top 10 high Internet Movie Database(imdb) Voted Movies?\n",
        "8. Top 10 high The Movie Database(tmdb) Score Shows? \n",
        "9. Top 10 high The Movie Database(tmdb) Score Moies? \n",
        "10. Top 10 high The Movie Database(tmdb) Voted Shows?\n",
        "11. Top 10 high The Movie Database(tmdb) Voted Movies?\n",
        "12. Compare The Movie Database(tmdb) and Internet Movie Database(imdb)?\n",
        "13. Top 10 Shows  Age-Certification to see which Age Certification is Top 1 show have ?\n",
        "14. Top 10 Movies  Age-Certification to see which Age Certification is Top 1 show have ?\n",
        "15. Top 10 Name of  Actor or Director in Shows and Movies?\n",
        "16. Top 10 Role (Actor or Director)  in Shows and Movies?\n",
        "17. Top 10 Movie and Shows Belongs to which Production Country?\n",
        "18. Top 10 Movies and Shows relased Year ?\n",
        "19. Top 10 Shows relased Year  ?\n",
        "20. Top 10 Movies relased Year  ?\n",
        "21. Top 10  No. of Seasons  Shows ?\n",
        "23. Shows which Have high no. of Seasons and its Runtime?\n",
        "24. Top 10 Shows relased Year  ?\n",
        "25. Top 10 Movies relased Year  ?\n",
        "26. Oldest Shows relased Year  ?\n",
        "27. Oldest Movies relased Year  ?\n",
        "28. Newest Shows relased Year  ?\n",
        "29. Newest Movies relased Year  ?\n",
        "30. Highest Runtion Movies ?\n",
        "31. Highest Runtion Shows ?\n",
        "\n",
        "\n",
        "\n",
        "\n",
        "\n",
        "\n",
        "\n",
        " \n",
        " \n",
        "\n",
        "\n",
        "\n",
        "\n"
      ]
    },
    {
      "cell_type": "markdown",
      "metadata": {
        "id": "xGR4yw2yhCFh"
      },
      "source": [
        "> Instructions (delete this cell)\n",
        ">\n",
        "> - Ask at least 5 interesting questions about your dataset\n",
        "> - Answer the questions either by computing the results using Numpy/Pandas or by plotting graphs using Matplotlib/Seaborn\n",
        "> - Create new columns, merge multiple dataset and perform grouping/aggregation wherever necessary\n",
        "> - Wherever you're using a library function from Pandas/Numpy/Matplotlib etc. explain briefly what it does\n",
        "\n"
      ]
    },
    {
      "cell_type": "markdown",
      "metadata": {
        "id": "JlFumGbnhCFh"
      },
      "source": [
        "#### Q1: TODO - ask a question here and answer it below"
      ]
    },
    {
      "cell_type": "code",
      "execution_count": null,
      "metadata": {
        "id": "vvrHjbiHhCFh"
      },
      "outputs": [],
      "source": [
        ""
      ]
    },
    {
      "cell_type": "code",
      "execution_count": null,
      "metadata": {
        "id": "-DJhUiHEhCFi"
      },
      "outputs": [],
      "source": [
        ""
      ]
    },
    {
      "cell_type": "code",
      "execution_count": null,
      "metadata": {
        "id": "WQr4hthEhCFi"
      },
      "outputs": [],
      "source": [
        ""
      ]
    },
    {
      "cell_type": "markdown",
      "metadata": {
        "id": "7sNfBMgMhCFi"
      },
      "source": [
        "#### Q2: TODO - ask a question here and answer it below"
      ]
    },
    {
      "cell_type": "code",
      "execution_count": null,
      "metadata": {
        "id": "I1M00tgHhCFi"
      },
      "outputs": [],
      "source": [
        ""
      ]
    },
    {
      "cell_type": "code",
      "execution_count": null,
      "metadata": {
        "id": "jeTj9vWthCFi"
      },
      "outputs": [],
      "source": [
        ""
      ]
    },
    {
      "cell_type": "code",
      "execution_count": null,
      "metadata": {
        "id": "CMwUr2NVhCFj"
      },
      "outputs": [],
      "source": [
        ""
      ]
    },
    {
      "cell_type": "markdown",
      "metadata": {
        "id": "tdNveqfqhCFj"
      },
      "source": [
        "#### Q3: TODO - ask a question here and answer it below"
      ]
    },
    {
      "cell_type": "code",
      "execution_count": null,
      "metadata": {
        "id": "MfEYNLSnhCFj"
      },
      "outputs": [],
      "source": [
        ""
      ]
    },
    {
      "cell_type": "code",
      "execution_count": null,
      "metadata": {
        "id": "zjeuWUtThCFj"
      },
      "outputs": [],
      "source": [
        ""
      ]
    },
    {
      "cell_type": "code",
      "execution_count": null,
      "metadata": {
        "id": "nJQ-xaTohCFj"
      },
      "outputs": [],
      "source": [
        ""
      ]
    },
    {
      "cell_type": "markdown",
      "metadata": {
        "id": "u99giBMXhCFk"
      },
      "source": [
        "#### Q4: TODO - ask a question here and answer it below"
      ]
    },
    {
      "cell_type": "code",
      "execution_count": null,
      "metadata": {
        "id": "RnzGPnRehCFk"
      },
      "outputs": [],
      "source": [
        ""
      ]
    },
    {
      "cell_type": "code",
      "execution_count": null,
      "metadata": {
        "id": "FZ6FUCTehCFk"
      },
      "outputs": [],
      "source": [
        ""
      ]
    },
    {
      "cell_type": "code",
      "execution_count": null,
      "metadata": {
        "id": "mwD1J1MghCFk"
      },
      "outputs": [],
      "source": [
        ""
      ]
    },
    {
      "cell_type": "markdown",
      "metadata": {
        "id": "bfTdbthfhCFk"
      },
      "source": [
        "#### Q5: TODO - ask a question here and answer it below"
      ]
    },
    {
      "cell_type": "code",
      "execution_count": null,
      "metadata": {
        "id": "aEqLlJp7hCFl"
      },
      "outputs": [],
      "source": [
        ""
      ]
    },
    {
      "cell_type": "code",
      "execution_count": null,
      "metadata": {
        "id": "WvaYBpFNhCFl"
      },
      "outputs": [],
      "source": [
        ""
      ]
    },
    {
      "cell_type": "code",
      "execution_count": null,
      "metadata": {
        "id": "WA7r-_4qhCFl"
      },
      "outputs": [],
      "source": [
        ""
      ]
    },
    {
      "cell_type": "markdown",
      "metadata": {
        "id": "elQ9HAqahCFl"
      },
      "source": [
        "Let us save and upload our work to Jovian before continuing."
      ]
    },
    {
      "cell_type": "code",
      "execution_count": null,
      "metadata": {
        "id": "cFF_ViyJhCFl"
      },
      "outputs": [],
      "source": [
        "import jovian"
      ]
    },
    {
      "cell_type": "code",
      "execution_count": null,
      "metadata": {
        "id": "RfvFLxVuhCFm",
        "outputId": "5a99b7da-db7c-4617-cc35-98e6bd2b2d5d"
      },
      "outputs": [
        {
          "data": {
            "application/javascript": [
              "window.require && require([\"base/js/namespace\"],function(Jupyter){Jupyter.notebook.save_checkpoint()})"
            ],
            "text/plain": [
              "<IPython.core.display.Javascript object>"
            ]
          },
          "metadata": {},
          "output_type": "display_data"
        },
        {
          "name": "stdout",
          "output_type": "stream",
          "text": [
            "[jovian] Updating notebook \"poojadas2014-pd/netflix-movies-and-tv-shows\" on https://jovian.ai\u001b[0m\n",
            "[jovian] Committed successfully! https://jovian.ai/poojadas2014-pd/netflix-movies-and-tv-shows\u001b[0m\n"
          ]
        },
        {
          "data": {
            "text/plain": [
              "'https://jovian.ai/poojadas2014-pd/netflix-movies-and-tv-shows'"
            ]
          },
          "execution_count": 41,
          "metadata": {},
          "output_type": "execute_result"
        }
      ],
      "source": [
        "jovian.commit()"
      ]
    },
    {
      "cell_type": "markdown",
      "metadata": {
        "id": "_eMHaklehCFm"
      },
      "source": [
        "## Inferences and Conclusion\n",
        "\n",
        "**TODO** - Write some explanation here: a summary of all the inferences drawn from the analysis, and any conclusions you may have drawn by answering various questions."
      ]
    },
    {
      "cell_type": "code",
      "execution_count": 19,
      "metadata": {
        "id": "htZpybZbhCFm"
      },
      "outputs": [],
      "source": [
        "import jovian"
      ]
    },
    {
      "cell_type": "code",
      "execution_count": 20,
      "metadata": {
        "colab": {
          "base_uri": "https://localhost:8080/",
          "height": 88
        },
        "id": "woGNeEn2hCFn",
        "outputId": "c7a3947e-7ead-45aa-c50c-474a36957792"
      },
      "outputs": [
        {
          "output_type": "stream",
          "name": "stdout",
          "text": [
            "[jovian] Detected Colab notebook...\u001b[0m\n",
            "[jovian] Uploading colab notebook to Jovian...\u001b[0m\n",
            "Committed successfully! https://jovian.ai/poojadas2014-pd/netflix-movies-and-tv-shows\n"
          ]
        },
        {
          "output_type": "execute_result",
          "data": {
            "text/plain": [
              "'https://jovian.ai/poojadas2014-pd/netflix-movies-and-tv-shows'"
            ],
            "application/vnd.google.colaboratory.intrinsic+json": {
              "type": "string"
            }
          },
          "metadata": {},
          "execution_count": 20
        }
      ],
      "source": [
        "jovian.commit()"
      ]
    },
    {
      "cell_type": "markdown",
      "metadata": {
        "id": "HrgXB8hMhCFn"
      },
      "source": [
        "## References and Future Work\n",
        "\n",
        "**TODO** - Write some explanation here: ideas for future projects using this dataset, and links to resources you found useful."
      ]
    },
    {
      "cell_type": "markdown",
      "metadata": {
        "id": "z42JDjY2hCFn"
      },
      "source": [
        "> Submission Instructions (delete this cell)\n",
        "> \n",
        "> - Upload your notebook to your Jovian.ml profile using `jovian.commit`.\n",
        "> - **Make a submission here**: https://jovian.ml/learn/data-analysis-with-python-zero-to-pandas/assignment/course-project\n",
        "> - Share your work on the forum: https://jovian.ml/forum/t/course-project-on-exploratory-data-analysis-discuss-and-share-your-work/11684\n",
        "> - Share your work on social media (Twitter, LinkedIn, Telegram etc.) and tag [@JovianML](https://twitter.com/jovianml)\n",
        ">\n",
        "> (Optional) Write a blog post\n",
        "> \n",
        "> - A blog post is a great way to present and showcase your work.  \n",
        "> - Sign up on [Medium.com](https://medium.com) to write a blog post for your project.\n",
        "> - Copy over the explanations from your Jupyter notebook into your blog post, and [embed code cells & outputs](https://medium.com/jovianml/share-and-embed-jupyter-notebooks-online-with-jovian-ml-df709a03064e)\n",
        "> - Check out the Jovian.ml Medium publication for inspiration: https://medium.com/jovianml\n",
        "\n",
        "\n",
        " "
      ]
    },
    {
      "cell_type": "code",
      "execution_count": null,
      "metadata": {
        "id": "AewWMqRqhCFn"
      },
      "outputs": [],
      "source": [
        "import jovian"
      ]
    },
    {
      "cell_type": "code",
      "execution_count": null,
      "metadata": {
        "scrolled": true,
        "id": "weDN_4-8hCFo",
        "outputId": "18e607e6-2bde-4272-db75-5ddc7404c87c"
      },
      "outputs": [
        {
          "data": {
            "application/javascript": [
              "window.require && require([\"base/js/namespace\"],function(Jupyter){Jupyter.notebook.save_checkpoint()})"
            ],
            "text/plain": [
              "<IPython.core.display.Javascript object>"
            ]
          },
          "metadata": {},
          "output_type": "display_data"
        },
        {
          "name": "stdout",
          "output_type": "stream",
          "text": [
            "[jovian] Updating notebook \"poojadas2014-pd/netflix-movies-and-tv-shows\" on https://jovian.ai\u001b[0m\n",
            "[jovian] Committed successfully! https://jovian.ai/poojadas2014-pd/netflix-movies-and-tv-shows\u001b[0m\n"
          ]
        },
        {
          "data": {
            "text/plain": [
              "'https://jovian.ai/poojadas2014-pd/netflix-movies-and-tv-shows'"
            ]
          },
          "execution_count": 45,
          "metadata": {},
          "output_type": "execute_result"
        }
      ],
      "source": [
        "jovian.commit()"
      ]
    },
    {
      "cell_type": "code",
      "execution_count": null,
      "metadata": {
        "id": "LCxG6qb2hCFo"
      },
      "outputs": [],
      "source": [
        ""
      ]
    }
  ],
  "metadata": {
    "kernelspec": {
      "display_name": "Python 3 (ipykernel)",
      "language": "python",
      "name": "python3"
    },
    "language_info": {
      "codemirror_mode": {
        "name": "ipython",
        "version": 3
      },
      "file_extension": ".py",
      "mimetype": "text/x-python",
      "name": "python",
      "nbconvert_exporter": "python",
      "pygments_lexer": "ipython3",
      "version": "3.9.6"
    },
    "colab": {
      "name": "Netflix_Movies_and_TV_Shows.ipynb",
      "provenance": [],
      "collapsed_sections": [
        "zuTlIJN3hCFh",
        "JlFumGbnhCFh",
        "7sNfBMgMhCFi",
        "tdNveqfqhCFj",
        "u99giBMXhCFk",
        "bfTdbthfhCFk",
        "HrgXB8hMhCFn"
      ],
      "include_colab_link": true
    }
  },
  "nbformat": 4,
  "nbformat_minor": 0
}