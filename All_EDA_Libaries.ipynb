{
 "cells": [
  {
   "cell_type": "markdown",
   "id": "fed721b3-d4cd-444d-9650-9b776d92106f",
   "metadata": {},
   "source": [
    "### D Tale"
   ]
  },
  {
   "cell_type": "code",
   "execution_count": 8,
   "id": "a4229949-14b1-428e-9992-4d5acd245bb7",
   "metadata": {},
   "outputs": [],
   "source": [
    "import seaborn as sns"
   ]
  },
  {
   "cell_type": "code",
   "execution_count": 9,
   "id": "9dfcb92b-e5be-4069-888a-d402ba4bd108",
   "metadata": {},
   "outputs": [
    {
     "name": "stdout",
     "output_type": "stream",
     "text": [
      "['anagrams', 'anscombe', 'attention', 'brain_networks', 'car_crashes', 'diamonds', 'dots', 'exercise', 'flights', 'fmri', 'gammas', 'geyser', 'iris', 'mpg', 'penguins', 'planets', 'taxis', 'tips', 'titanic']\n"
     ]
    }
   ],
   "source": [
    "print(sns.get_dataset_names())"
   ]
  },
  {
   "cell_type": "code",
   "execution_count": 10,
   "id": "91efa7aa-0298-4506-adac-2697dae61e3f",
   "metadata": {},
   "outputs": [],
   "source": [
    "df=sns.load_dataset('planets')"
   ]
  },
  {
   "cell_type": "code",
   "execution_count": 11,
   "id": "1a3fda7f-85ec-4625-8fe2-27caff2cd6eb",
   "metadata": {},
   "outputs": [
    {
     "data": {
      "text/html": [
       "<div>\n",
       "<style scoped>\n",
       "    .dataframe tbody tr th:only-of-type {\n",
       "        vertical-align: middle;\n",
       "    }\n",
       "\n",
       "    .dataframe tbody tr th {\n",
       "        vertical-align: top;\n",
       "    }\n",
       "\n",
       "    .dataframe thead th {\n",
       "        text-align: right;\n",
       "    }\n",
       "</style>\n",
       "<table border=\"1\" class=\"dataframe\">\n",
       "  <thead>\n",
       "    <tr style=\"text-align: right;\">\n",
       "      <th></th>\n",
       "      <th>method</th>\n",
       "      <th>number</th>\n",
       "      <th>orbital_period</th>\n",
       "      <th>mass</th>\n",
       "      <th>distance</th>\n",
       "      <th>year</th>\n",
       "    </tr>\n",
       "  </thead>\n",
       "  <tbody>\n",
       "    <tr>\n",
       "      <th>0</th>\n",
       "      <td>Radial Velocity</td>\n",
       "      <td>1</td>\n",
       "      <td>269.300</td>\n",
       "      <td>7.10</td>\n",
       "      <td>77.40</td>\n",
       "      <td>2006</td>\n",
       "    </tr>\n",
       "    <tr>\n",
       "      <th>1</th>\n",
       "      <td>Radial Velocity</td>\n",
       "      <td>1</td>\n",
       "      <td>874.774</td>\n",
       "      <td>2.21</td>\n",
       "      <td>56.95</td>\n",
       "      <td>2008</td>\n",
       "    </tr>\n",
       "    <tr>\n",
       "      <th>2</th>\n",
       "      <td>Radial Velocity</td>\n",
       "      <td>1</td>\n",
       "      <td>763.000</td>\n",
       "      <td>2.60</td>\n",
       "      <td>19.84</td>\n",
       "      <td>2011</td>\n",
       "    </tr>\n",
       "    <tr>\n",
       "      <th>3</th>\n",
       "      <td>Radial Velocity</td>\n",
       "      <td>1</td>\n",
       "      <td>326.030</td>\n",
       "      <td>19.40</td>\n",
       "      <td>110.62</td>\n",
       "      <td>2007</td>\n",
       "    </tr>\n",
       "    <tr>\n",
       "      <th>4</th>\n",
       "      <td>Radial Velocity</td>\n",
       "      <td>1</td>\n",
       "      <td>516.220</td>\n",
       "      <td>10.50</td>\n",
       "      <td>119.47</td>\n",
       "      <td>2009</td>\n",
       "    </tr>\n",
       "  </tbody>\n",
       "</table>\n",
       "</div>"
      ],
      "text/plain": [
       "            method  number  orbital_period   mass  distance  year\n",
       "0  Radial Velocity       1         269.300   7.10     77.40  2006\n",
       "1  Radial Velocity       1         874.774   2.21     56.95  2008\n",
       "2  Radial Velocity       1         763.000   2.60     19.84  2011\n",
       "3  Radial Velocity       1         326.030  19.40    110.62  2007\n",
       "4  Radial Velocity       1         516.220  10.50    119.47  2009"
      ]
     },
     "execution_count": 11,
     "metadata": {},
     "output_type": "execute_result"
    }
   ],
   "source": [
    "df.head()"
   ]
  },
  {
   "cell_type": "markdown",
   "id": "cdc8090e-e871-4d20-9390-f36876ec5590",
   "metadata": {},
   "source": [
    "pip install dtale==2.6.0"
   ]
  },
  {
   "cell_type": "code",
   "execution_count": 12,
   "id": "de051bde-d9fd-434a-ba4e-0cac57c1ddcc",
   "metadata": {},
   "outputs": [
    {
     "data": {
      "text/html": [
       "\n",
       "        <iframe\n",
       "            width=\"100%\"\n",
       "            height=\"475\"\n",
       "            src=\"http://DODO-7:40000/dtale/iframe/1\"\n",
       "            frameborder=\"0\"\n",
       "            allowfullscreen\n",
       "            \n",
       "        ></iframe>\n",
       "        "
      ],
      "text/plain": [
       "<IPython.lib.display.IFrame at 0x2013b3d73a0>"
      ]
     },
     "metadata": {},
     "output_type": "display_data"
    },
    {
     "data": {
      "text/plain": []
     },
     "execution_count": 12,
     "metadata": {},
     "output_type": "execute_result"
    }
   ],
   "source": [
    "import dtale\n",
    "dtale.show(df)"
   ]
  },
  {
   "cell_type": "code",
   "execution_count": 13,
   "id": "a4eacd8d-796c-4948-866e-d4ec9abe2610",
   "metadata": {},
   "outputs": [
    {
     "name": "stdout",
     "output_type": "stream",
     "text": [
      "# packages in environment at C:\\Users\\HP\\anaconda3\\envs\\Python_Project:\n",
      "#\n",
      "# Name                    Version                   Build  Channel\n",
      "argon2-cffi               21.3.0             pyhd3eb1b0_0  \n",
      "argon2-cffi-bindings      21.2.0           py39h2bbff1b_0  \n",
      "asttokens                 2.0.5              pyhd3eb1b0_0  \n",
      "attrs                     21.4.0             pyhd3eb1b0_0  \n",
      "autoviz                   0.1.41                   pypi_0    pypi\n",
      "backcall                  0.2.0              pyhd3eb1b0_0  \n",
      "beautifulsoup4            4.11.1           py39haa95532_0  \n",
      "bleach                    4.1.0              pyhd3eb1b0_0  \n",
      "bokeh                     2.4.3                    pypi_0    pypi\n",
      "brotli                    1.0.9                    pypi_0    pypi\n",
      "ca-certificates           2022.4.26            haa95532_0  \n",
      "certifi                   2022.6.15        py39haa95532_0  \n",
      "cffi                      1.15.0           py39h2bbff1b_1  \n",
      "click                     8.1.3                    pypi_0    pypi\n",
      "colorama                  0.4.5            py39haa95532_0  \n",
      "colorcet                  3.0.0                    pypi_0    pypi\n",
      "cycler                    0.11.0                   pypi_0    pypi\n",
      "dash                      2.5.1                    pypi_0    pypi\n",
      "dash-bootstrap-components 1.2.0                    pypi_0    pypi\n",
      "dash-colorscales          0.0.4                    pypi_0    pypi\n",
      "dash-core-components      2.0.0                    pypi_0    pypi\n",
      "dash-daq                  0.5.0                    pypi_0    pypi\n",
      "dash-html-components      2.0.0                    pypi_0    pypi\n",
      "dash-table                5.0.0                    pypi_0    pypi\n",
      "debugpy                   1.5.1            py39hd77b12b_0  \n",
      "decorator                 5.1.1              pyhd3eb1b0_0  \n",
      "defusedxml                0.7.1              pyhd3eb1b0_0  \n",
      "dtale                     2.6.0                    pypi_0    pypi\n",
      "emoji                     1.7.0                    pypi_0    pypi\n",
      "entrypoints               0.4              py39haa95532_0  \n",
      "et-xmlfile                1.1.0                    pypi_0    pypi\n",
      "executing                 0.8.3              pyhd3eb1b0_0  \n",
      "flask                     2.1.2                    pypi_0    pypi\n",
      "flask-compress            1.12                     pypi_0    pypi\n",
      "flask-ngrok               0.0.25                   pypi_0    pypi\n",
      "fonttools                 4.34.4                   pypi_0    pypi\n",
      "fsspec                    2022.5.0                 pypi_0    pypi\n",
      "future                    0.18.2                   pypi_0    pypi\n",
      "holoviews                 1.14.9                   pypi_0    pypi\n",
      "hvplot                    0.8.0                    pypi_0    pypi\n",
      "importlib-metadata        4.12.0                   pypi_0    pypi\n",
      "ipykernel                 6.9.1            py39haa95532_0  \n",
      "ipython                   8.3.0            py39haa95532_0  \n",
      "ipython_genutils          0.2.0              pyhd3eb1b0_1  \n",
      "ipywidgets                7.7.1                    pypi_0    pypi\n",
      "itsdangerous              2.1.2                    pypi_0    pypi\n",
      "jedi                      0.18.1           py39haa95532_1  \n",
      "jinja2                    3.0.3              pyhd3eb1b0_0  \n",
      "jsonschema                4.4.0            py39haa95532_0  \n",
      "jupyter                   1.0.0                    pypi_0    pypi\n",
      "jupyter-console           6.4.4                    pypi_0    pypi\n",
      "jupyter_client            7.2.2            py39haa95532_0  \n",
      "jupyter_core              4.10.0           py39haa95532_0  \n",
      "jupyterlab-widgets        1.1.1                    pypi_0    pypi\n",
      "jupyterlab_pygments       0.1.2                      py_0  \n",
      "kaggle                    1.5.12                   pypi_0    pypi\n",
      "kaleido                   0.2.1                    pypi_0    pypi\n",
      "kiwisolver                1.4.3                    pypi_0    pypi\n",
      "lz4                       4.0.1                    pypi_0    pypi\n",
      "markdown                  3.3.7                    pypi_0    pypi\n",
      "markupsafe                2.1.1            py39h2bbff1b_0  \n",
      "matplotlib                3.5.2                    pypi_0    pypi\n",
      "matplotlib-inline         0.1.2              pyhd3eb1b0_2  \n",
      "missingno                 0.4.2                    pypi_0    pypi\n",
      "mistune                   0.8.4           py39h2bbff1b_1000  \n",
      "nbclient                  0.5.13           py39haa95532_0  \n",
      "nbconvert                 6.4.4            py39haa95532_0  \n",
      "nbformat                  5.3.0            py39haa95532_0  \n",
      "nest-asyncio              1.5.5            py39haa95532_0  \n",
      "nltk                      3.7                      pypi_0    pypi\n",
      "notebook                  6.4.11           py39haa95532_0  \n",
      "numpy                     1.23.1                   pypi_0    pypi\n",
      "opendatasets              0.1.22                   pypi_0    pypi\n",
      "openpyxl                  3.0.10                   pypi_0    pypi\n",
      "openssl                   1.1.1p               h2bbff1b_0  \n",
      "packaging                 21.3               pyhd3eb1b0_0  \n",
      "pandas                    1.4.3                    pypi_0    pypi\n",
      "pandocfilters             1.5.0              pyhd3eb1b0_0  \n",
      "panel                     0.12.7                   pypi_0    pypi\n",
      "param                     1.12.2                   pypi_0    pypi\n",
      "parso                     0.8.3              pyhd3eb1b0_0  \n",
      "patsy                     0.5.2                    pypi_0    pypi\n",
      "pickleshare               0.7.5           pyhd3eb1b0_1003  \n",
      "pillow                    9.2.0                    pypi_0    pypi\n",
      "pip                       21.2.4           py39haa95532_0  \n",
      "plotly                    5.9.0                    pypi_0    pypi\n",
      "prometheus_client         0.13.1             pyhd3eb1b0_0  \n",
      "prompt-toolkit            3.0.20             pyhd3eb1b0_0  \n",
      "pure_eval                 0.2.2              pyhd3eb1b0_0  \n",
      "pyamg                     4.2.3                    pypi_0    pypi\n",
      "pycparser                 2.21               pyhd3eb1b0_0  \n",
      "pyct                      0.4.8                    pypi_0    pypi\n",
      "pygments                  2.11.2             pyhd3eb1b0_0  \n",
      "pyparsing                 3.0.4              pyhd3eb1b0_0  \n",
      "pyrsistent                0.18.0           py39h196d8e1_0  \n",
      "python                    3.9.12               h6244533_0  \n",
      "python-dateutil           2.8.2              pyhd3eb1b0_0  \n",
      "python-fastjsonschema     2.15.1             pyhd3eb1b0_0  \n",
      "python-slugify            6.1.2                    pypi_0    pypi\n",
      "pytz                      2022.1                   pypi_0    pypi\n",
      "pyviz-comms               2.2.0                    pypi_0    pypi\n",
      "pywin32                   302              py39h2bbff1b_2  \n",
      "pywinpty                  2.0.2            py39h5da7b33_0  \n",
      "pyzmq                     22.3.0           py39hd77b12b_2  \n",
      "qtconsole                 5.3.1                    pypi_0    pypi\n",
      "qtpy                      2.1.0                    pypi_0    pypi\n",
      "regex                     2022.7.9                 pypi_0    pypi\n",
      "scikit-learn              1.1.1                    pypi_0    pypi\n",
      "seaborn                   0.11.2                   pypi_0    pypi\n",
      "send2trash                1.8.0              pyhd3eb1b0_1  \n",
      "setuptools                60.10.0                  pypi_0    pypi\n",
      "six                       1.16.0             pyhd3eb1b0_1  \n",
      "sklearn                   0.0                      pypi_0    pypi\n",
      "soupsieve                 2.3.1              pyhd3eb1b0_0  \n",
      "sqlite                    3.38.5               h2bbff1b_0  \n",
      "squarify                  0.4.3                    pypi_0    pypi\n",
      "stack_data                0.2.0              pyhd3eb1b0_0  \n",
      "statsmodels               0.13.2                   pypi_0    pypi\n",
      "strsimpy                  0.2.1                    pypi_0    pypi\n",
      "tenacity                  8.0.1                    pypi_0    pypi\n",
      "terminado                 0.13.1           py39haa95532_0  \n",
      "testpath                  0.6.0            py39haa95532_0  \n",
      "text-unidecode            1.3                      pypi_0    pypi\n",
      "textblob                  0.17.1                   pypi_0    pypi\n",
      "threadpoolctl             3.1.0                    pypi_0    pypi\n",
      "\n",
      "Note: you may need to restart the kernel to use updated packages.tornado                   6.1              py39h2bbff1b_0  \n",
      "traitlets                 5.1.1              pyhd3eb1b0_0  \n",
      "typing-extensions         4.1.1                hd3eb1b0_0  \n",
      "typing_extensions         4.1.1              pyh06a4308_0  \n",
      "tzdata                    2022a                hda174b7_0  \n",
      "vc                        14.2                 h21ff451_1  \n",
      "vs2015_runtime            14.27.29016          h5e58377_2  \n",
      "\n",
      "wcwidth                   0.2.5              pyhd3eb1b0_0  \n",
      "webencodings              0.5.1            py39haa95532_1  \n",
      "werkzeug                  2.1.2                    pypi_0    pypi\n",
      "wheel                     0.37.1             pyhd3eb1b0_0  \n",
      "widgetsnbextension        3.6.1                    pypi_0    pypi\n",
      "wincertstore              0.2              py39haa95532_2  \n",
      "winpty                    0.4.3                         4  \n",
      "wordcloud                 1.8.2.2                  pypi_0    pypi\n",
      "xarray                    2022.3.0                 pypi_0    pypi\n",
      "xgboost                   1.6.1                    pypi_0    pypi\n",
      "xlrd                      2.0.1                    pypi_0    pypi\n",
      "zipp                      3.8.1                    pypi_0    pypi\n"
     ]
    }
   ],
   "source": [
    "conda list\n"
   ]
  },
  {
   "cell_type": "code",
   "execution_count": 14,
   "id": "357c7ae7",
   "metadata": {},
   "outputs": [
    {
     "name": "stdout",
     "output_type": "stream",
     "text": [
      "Requirement already satisfied: flask in c:\\users\\hp\\anaconda3\\envs\\python_project\\lib\\site-packages (2.1.2)\n",
      "Requirement already satisfied: Werkzeug>=2.0 in c:\\users\\hp\\anaconda3\\envs\\python_project\\lib\\site-packages (from flask) (2.1.2)\n",
      "Requirement already satisfied: Jinja2>=3.0 in c:\\users\\hp\\anaconda3\\envs\\python_project\\lib\\site-packages (from flask) (3.0.3)\n",
      "Requirement already satisfied: itsdangerous>=2.0 in c:\\users\\hp\\anaconda3\\envs\\python_project\\lib\\site-packages (from flask) (2.1.2)\n",
      "Requirement already satisfied: click>=8.0 in c:\\users\\hp\\anaconda3\\envs\\python_project\\lib\\site-packages (from flask) (8.1.3)\n",
      "Requirement already satisfied: importlib-metadata>=3.6.0 in c:\\users\\hp\\anaconda3\\envs\\python_project\\lib\\site-packages (from flask) (4.12.0)\n",
      "Requirement already satisfied: colorama in c:\\users\\hp\\anaconda3\\envs\\python_project\\lib\\site-packages (from click>=8.0->flask) (0.4.5)\n",
      "Requirement already satisfied: zipp>=0.5 in c:\\users\\hp\\anaconda3\\envs\\python_project\\lib\\site-packages (from importlib-metadata>=3.6.0->flask) (3.8.1)\n",
      "Requirement already satisfied: MarkupSafe>=2.0 in c:\\users\\hp\\anaconda3\\envs\\python_project\\lib\\site-packages (from Jinja2>=3.0->flask) (2.1.1)\n",
      "Note: you may need to restart the kernel to use updated packages.\n"
     ]
    }
   ],
   "source": [
    "pip install "
   ]
  }
 ],
 "metadata": {
  "kernelspec": {
   "display_name": "Python 3 (ipykernel)",
   "language": "python",
   "name": "python3"
  },
  "language_info": {
   "codemirror_mode": {
    "name": "ipython",
    "version": 3
   },
   "file_extension": ".py",
   "mimetype": "text/x-python",
   "name": "python",
   "nbconvert_exporter": "python",
   "pygments_lexer": "ipython3",
   "version": "3.9.12"
  }
 },
 "nbformat": 4,
 "nbformat_minor": 5
}
